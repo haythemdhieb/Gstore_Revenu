{
 "cells": [
  {
   "cell_type": "markdown",
   "metadata": {},
   "source": [
    "# Google analytics customer revenue prediction\n"
   ]
  },
  {
   "cell_type": "code",
   "execution_count": 2,
   "metadata": {
    "scrolled": true
   },
   "outputs": [
    {
     "data": {
      "text/html": [
       "        <script type=\"text/javascript\">\n",
       "        window.PlotlyConfig = {MathJaxConfig: 'local'};\n",
       "        if (window.MathJax) {MathJax.Hub.Config({SVG: {font: \"STIX-Web\"}});}\n",
       "        if (typeof require !== 'undefined') {\n",
       "        require.undef(\"plotly\");\n",
       "        requirejs.config({\n",
       "            paths: {\n",
       "                'plotly': ['https://cdn.plot.ly/plotly-latest.min']\n",
       "            }\n",
       "        });\n",
       "        require(['plotly'], function(Plotly) {\n",
       "            window._Plotly = Plotly;\n",
       "        });\n",
       "        }\n",
       "        </script>\n",
       "        "
      ]
     },
     "metadata": {},
     "output_type": "display_data"
    }
   ],
   "source": [
    "import os\n",
    "import json\n",
    "import numpy as np\n",
    "import pandas as pd\n",
    "from pandas.io.json import json_normalize\n",
    "import matplotlib.pyplot as plt\n",
    "import seaborn as sns\n",
    "color = sns.color_palette()\n",
    "\n",
    "%matplotlib inline\n",
    "\n",
    "from plotly import tools\n",
    "import plotly.offline as py\n",
    "py.init_notebook_mode(connected=True)\n",
    "import plotly.graph_objs as go\n",
    "\n",
    "from sklearn import model_selection, preprocessing, metrics\n",
    "import lightgbm as lgb\n",
    "\n",
    "pd.options.mode.chained_assignment = None\n",
    "pd.options.display.max_columns = 999"
   ]
  },
  {
   "cell_type": "code",
   "execution_count": 3,
   "metadata": {},
   "outputs": [],
   "source": [
    "def load_df(csv_path, nrows=None):\n",
    "    JSON_COLUMNS = ['device', 'geoNetwork', 'totals', 'trafficSource']\n",
    "    \n",
    "    df = pd.read_csv(csv_path, \n",
    "                     converters={column: json.loads for column in JSON_COLUMNS}, \n",
    "                     dtype={'fullVisitorId': 'str'}, # Important!!\n",
    "                     nrows=nrows)\n",
    "    \n",
    "    for column in JSON_COLUMNS:\n",
    "        column_as_df = json_normalize(df[column])\n",
    "        column_as_df.columns = [f\"{column}.{subcolumn}\" for subcolumn in column_as_df.columns]\n",
    "        df = df.drop(column, axis=1).merge(column_as_df, right_index=True, left_index=True)\n",
    "    print(f\"Loaded {os.path.basename(csv_path)}. Shape: {df.shape}\")\n",
    "    return df"
   ]
  },
  {
   "cell_type": "code",
   "execution_count": 4,
   "metadata": {},
   "outputs": [
    {
     "name": "stderr",
     "output_type": "stream",
     "text": [
      "<ipython-input-3-fe265a677ce2>:10: FutureWarning:\n",
      "\n",
      "pandas.io.json.json_normalize is deprecated, use pandas.json_normalize instead\n",
      "\n"
     ]
    },
    {
     "name": "stdout",
     "output_type": "stream",
     "text": [
      "Loaded train.csv. Shape: (903653, 55)\n"
     ]
    }
   ],
   "source": [
    "train_df = load_df('train.csv')\n",
    "#test_df = load_df(\"../input/test.csv\")"
   ]
  },
  {
   "cell_type": "code",
   "execution_count": 5,
   "metadata": {},
   "outputs": [
    {
     "name": "stderr",
     "output_type": "stream",
     "text": [
      "<ipython-input-3-fe265a677ce2>:10: FutureWarning:\n",
      "\n",
      "pandas.io.json.json_normalize is deprecated, use pandas.json_normalize instead\n",
      "\n"
     ]
    },
    {
     "name": "stdout",
     "output_type": "stream",
     "text": [
      "Loaded test.csv. Shape: (804684, 53)\n"
     ]
    }
   ],
   "source": [
    "test_df=load_df('test.csv')"
   ]
  },
  {
   "cell_type": "code",
   "execution_count": 6,
   "metadata": {
    "scrolled": true
   },
   "outputs": [
    {
     "data": {
      "text/html": [
       "<div>\n",
       "<style scoped>\n",
       "    .dataframe tbody tr th:only-of-type {\n",
       "        vertical-align: middle;\n",
       "    }\n",
       "\n",
       "    .dataframe tbody tr th {\n",
       "        vertical-align: top;\n",
       "    }\n",
       "\n",
       "    .dataframe thead th {\n",
       "        text-align: right;\n",
       "    }\n",
       "</style>\n",
       "<table border=\"1\" class=\"dataframe\">\n",
       "  <thead>\n",
       "    <tr style=\"text-align: right;\">\n",
       "      <th></th>\n",
       "      <th>channelGrouping</th>\n",
       "      <th>date</th>\n",
       "      <th>fullVisitorId</th>\n",
       "      <th>sessionId</th>\n",
       "      <th>socialEngagementType</th>\n",
       "      <th>visitId</th>\n",
       "      <th>visitNumber</th>\n",
       "      <th>visitStartTime</th>\n",
       "      <th>device.browser</th>\n",
       "      <th>device.browserVersion</th>\n",
       "      <th>device.browserSize</th>\n",
       "      <th>device.operatingSystem</th>\n",
       "      <th>device.operatingSystemVersion</th>\n",
       "      <th>device.isMobile</th>\n",
       "      <th>device.mobileDeviceBranding</th>\n",
       "      <th>device.mobileDeviceModel</th>\n",
       "      <th>device.mobileInputSelector</th>\n",
       "      <th>device.mobileDeviceInfo</th>\n",
       "      <th>device.mobileDeviceMarketingName</th>\n",
       "      <th>device.flashVersion</th>\n",
       "      <th>device.language</th>\n",
       "      <th>device.screenColors</th>\n",
       "      <th>device.screenResolution</th>\n",
       "      <th>device.deviceCategory</th>\n",
       "      <th>geoNetwork.continent</th>\n",
       "      <th>geoNetwork.subContinent</th>\n",
       "      <th>geoNetwork.country</th>\n",
       "      <th>geoNetwork.region</th>\n",
       "      <th>geoNetwork.metro</th>\n",
       "      <th>geoNetwork.city</th>\n",
       "      <th>geoNetwork.cityId</th>\n",
       "      <th>geoNetwork.networkDomain</th>\n",
       "      <th>geoNetwork.latitude</th>\n",
       "      <th>geoNetwork.longitude</th>\n",
       "      <th>geoNetwork.networkLocation</th>\n",
       "      <th>totals.visits</th>\n",
       "      <th>totals.hits</th>\n",
       "      <th>totals.pageviews</th>\n",
       "      <th>totals.bounces</th>\n",
       "      <th>totals.newVisits</th>\n",
       "      <th>totals.transactionRevenue</th>\n",
       "      <th>trafficSource.campaign</th>\n",
       "      <th>trafficSource.source</th>\n",
       "      <th>trafficSource.medium</th>\n",
       "      <th>trafficSource.keyword</th>\n",
       "      <th>trafficSource.adwordsClickInfo.criteriaParameters</th>\n",
       "      <th>trafficSource.isTrueDirect</th>\n",
       "      <th>trafficSource.referralPath</th>\n",
       "      <th>trafficSource.adwordsClickInfo.page</th>\n",
       "      <th>trafficSource.adwordsClickInfo.slot</th>\n",
       "      <th>trafficSource.adwordsClickInfo.gclId</th>\n",
       "      <th>trafficSource.adwordsClickInfo.adNetworkType</th>\n",
       "      <th>trafficSource.adwordsClickInfo.isVideoAd</th>\n",
       "      <th>trafficSource.adContent</th>\n",
       "      <th>trafficSource.campaignCode</th>\n",
       "    </tr>\n",
       "  </thead>\n",
       "  <tbody>\n",
       "    <tr>\n",
       "      <th>0</th>\n",
       "      <td>Organic Search</td>\n",
       "      <td>20160902</td>\n",
       "      <td>1131660440785968503</td>\n",
       "      <td>1131660440785968503_1472830385</td>\n",
       "      <td>Not Socially Engaged</td>\n",
       "      <td>1472830385</td>\n",
       "      <td>1</td>\n",
       "      <td>1472830385</td>\n",
       "      <td>Chrome</td>\n",
       "      <td>not available in demo dataset</td>\n",
       "      <td>not available in demo dataset</td>\n",
       "      <td>Windows</td>\n",
       "      <td>not available in demo dataset</td>\n",
       "      <td>False</td>\n",
       "      <td>not available in demo dataset</td>\n",
       "      <td>not available in demo dataset</td>\n",
       "      <td>not available in demo dataset</td>\n",
       "      <td>not available in demo dataset</td>\n",
       "      <td>not available in demo dataset</td>\n",
       "      <td>not available in demo dataset</td>\n",
       "      <td>not available in demo dataset</td>\n",
       "      <td>not available in demo dataset</td>\n",
       "      <td>not available in demo dataset</td>\n",
       "      <td>desktop</td>\n",
       "      <td>Asia</td>\n",
       "      <td>Western Asia</td>\n",
       "      <td>Turkey</td>\n",
       "      <td>Izmir</td>\n",
       "      <td>(not set)</td>\n",
       "      <td>Izmir</td>\n",
       "      <td>not available in demo dataset</td>\n",
       "      <td>ttnet.com.tr</td>\n",
       "      <td>not available in demo dataset</td>\n",
       "      <td>not available in demo dataset</td>\n",
       "      <td>not available in demo dataset</td>\n",
       "      <td>1</td>\n",
       "      <td>1</td>\n",
       "      <td>1</td>\n",
       "      <td>1</td>\n",
       "      <td>1</td>\n",
       "      <td>NaN</td>\n",
       "      <td>(not set)</td>\n",
       "      <td>google</td>\n",
       "      <td>organic</td>\n",
       "      <td>(not provided)</td>\n",
       "      <td>not available in demo dataset</td>\n",
       "      <td>NaN</td>\n",
       "      <td>NaN</td>\n",
       "      <td>NaN</td>\n",
       "      <td>NaN</td>\n",
       "      <td>NaN</td>\n",
       "      <td>NaN</td>\n",
       "      <td>NaN</td>\n",
       "      <td>NaN</td>\n",
       "      <td>NaN</td>\n",
       "    </tr>\n",
       "    <tr>\n",
       "      <th>1</th>\n",
       "      <td>Organic Search</td>\n",
       "      <td>20160902</td>\n",
       "      <td>377306020877927890</td>\n",
       "      <td>377306020877927890_1472880147</td>\n",
       "      <td>Not Socially Engaged</td>\n",
       "      <td>1472880147</td>\n",
       "      <td>1</td>\n",
       "      <td>1472880147</td>\n",
       "      <td>Firefox</td>\n",
       "      <td>not available in demo dataset</td>\n",
       "      <td>not available in demo dataset</td>\n",
       "      <td>Macintosh</td>\n",
       "      <td>not available in demo dataset</td>\n",
       "      <td>False</td>\n",
       "      <td>not available in demo dataset</td>\n",
       "      <td>not available in demo dataset</td>\n",
       "      <td>not available in demo dataset</td>\n",
       "      <td>not available in demo dataset</td>\n",
       "      <td>not available in demo dataset</td>\n",
       "      <td>not available in demo dataset</td>\n",
       "      <td>not available in demo dataset</td>\n",
       "      <td>not available in demo dataset</td>\n",
       "      <td>not available in demo dataset</td>\n",
       "      <td>desktop</td>\n",
       "      <td>Oceania</td>\n",
       "      <td>Australasia</td>\n",
       "      <td>Australia</td>\n",
       "      <td>not available in demo dataset</td>\n",
       "      <td>not available in demo dataset</td>\n",
       "      <td>not available in demo dataset</td>\n",
       "      <td>not available in demo dataset</td>\n",
       "      <td>dodo.net.au</td>\n",
       "      <td>not available in demo dataset</td>\n",
       "      <td>not available in demo dataset</td>\n",
       "      <td>not available in demo dataset</td>\n",
       "      <td>1</td>\n",
       "      <td>1</td>\n",
       "      <td>1</td>\n",
       "      <td>1</td>\n",
       "      <td>1</td>\n",
       "      <td>NaN</td>\n",
       "      <td>(not set)</td>\n",
       "      <td>google</td>\n",
       "      <td>organic</td>\n",
       "      <td>(not provided)</td>\n",
       "      <td>not available in demo dataset</td>\n",
       "      <td>NaN</td>\n",
       "      <td>NaN</td>\n",
       "      <td>NaN</td>\n",
       "      <td>NaN</td>\n",
       "      <td>NaN</td>\n",
       "      <td>NaN</td>\n",
       "      <td>NaN</td>\n",
       "      <td>NaN</td>\n",
       "      <td>NaN</td>\n",
       "    </tr>\n",
       "    <tr>\n",
       "      <th>2</th>\n",
       "      <td>Organic Search</td>\n",
       "      <td>20160902</td>\n",
       "      <td>3895546263509774583</td>\n",
       "      <td>3895546263509774583_1472865386</td>\n",
       "      <td>Not Socially Engaged</td>\n",
       "      <td>1472865386</td>\n",
       "      <td>1</td>\n",
       "      <td>1472865386</td>\n",
       "      <td>Chrome</td>\n",
       "      <td>not available in demo dataset</td>\n",
       "      <td>not available in demo dataset</td>\n",
       "      <td>Windows</td>\n",
       "      <td>not available in demo dataset</td>\n",
       "      <td>False</td>\n",
       "      <td>not available in demo dataset</td>\n",
       "      <td>not available in demo dataset</td>\n",
       "      <td>not available in demo dataset</td>\n",
       "      <td>not available in demo dataset</td>\n",
       "      <td>not available in demo dataset</td>\n",
       "      <td>not available in demo dataset</td>\n",
       "      <td>not available in demo dataset</td>\n",
       "      <td>not available in demo dataset</td>\n",
       "      <td>not available in demo dataset</td>\n",
       "      <td>desktop</td>\n",
       "      <td>Europe</td>\n",
       "      <td>Southern Europe</td>\n",
       "      <td>Spain</td>\n",
       "      <td>Community of Madrid</td>\n",
       "      <td>(not set)</td>\n",
       "      <td>Madrid</td>\n",
       "      <td>not available in demo dataset</td>\n",
       "      <td>unknown.unknown</td>\n",
       "      <td>not available in demo dataset</td>\n",
       "      <td>not available in demo dataset</td>\n",
       "      <td>not available in demo dataset</td>\n",
       "      <td>1</td>\n",
       "      <td>1</td>\n",
       "      <td>1</td>\n",
       "      <td>1</td>\n",
       "      <td>1</td>\n",
       "      <td>NaN</td>\n",
       "      <td>(not set)</td>\n",
       "      <td>google</td>\n",
       "      <td>organic</td>\n",
       "      <td>(not provided)</td>\n",
       "      <td>not available in demo dataset</td>\n",
       "      <td>NaN</td>\n",
       "      <td>NaN</td>\n",
       "      <td>NaN</td>\n",
       "      <td>NaN</td>\n",
       "      <td>NaN</td>\n",
       "      <td>NaN</td>\n",
       "      <td>NaN</td>\n",
       "      <td>NaN</td>\n",
       "      <td>NaN</td>\n",
       "    </tr>\n",
       "    <tr>\n",
       "      <th>3</th>\n",
       "      <td>Organic Search</td>\n",
       "      <td>20160902</td>\n",
       "      <td>4763447161404445595</td>\n",
       "      <td>4763447161404445595_1472881213</td>\n",
       "      <td>Not Socially Engaged</td>\n",
       "      <td>1472881213</td>\n",
       "      <td>1</td>\n",
       "      <td>1472881213</td>\n",
       "      <td>UC Browser</td>\n",
       "      <td>not available in demo dataset</td>\n",
       "      <td>not available in demo dataset</td>\n",
       "      <td>Linux</td>\n",
       "      <td>not available in demo dataset</td>\n",
       "      <td>False</td>\n",
       "      <td>not available in demo dataset</td>\n",
       "      <td>not available in demo dataset</td>\n",
       "      <td>not available in demo dataset</td>\n",
       "      <td>not available in demo dataset</td>\n",
       "      <td>not available in demo dataset</td>\n",
       "      <td>not available in demo dataset</td>\n",
       "      <td>not available in demo dataset</td>\n",
       "      <td>not available in demo dataset</td>\n",
       "      <td>not available in demo dataset</td>\n",
       "      <td>desktop</td>\n",
       "      <td>Asia</td>\n",
       "      <td>Southeast Asia</td>\n",
       "      <td>Indonesia</td>\n",
       "      <td>not available in demo dataset</td>\n",
       "      <td>not available in demo dataset</td>\n",
       "      <td>not available in demo dataset</td>\n",
       "      <td>not available in demo dataset</td>\n",
       "      <td>unknown.unknown</td>\n",
       "      <td>not available in demo dataset</td>\n",
       "      <td>not available in demo dataset</td>\n",
       "      <td>not available in demo dataset</td>\n",
       "      <td>1</td>\n",
       "      <td>1</td>\n",
       "      <td>1</td>\n",
       "      <td>1</td>\n",
       "      <td>1</td>\n",
       "      <td>NaN</td>\n",
       "      <td>(not set)</td>\n",
       "      <td>google</td>\n",
       "      <td>organic</td>\n",
       "      <td>google + online</td>\n",
       "      <td>not available in demo dataset</td>\n",
       "      <td>NaN</td>\n",
       "      <td>NaN</td>\n",
       "      <td>NaN</td>\n",
       "      <td>NaN</td>\n",
       "      <td>NaN</td>\n",
       "      <td>NaN</td>\n",
       "      <td>NaN</td>\n",
       "      <td>NaN</td>\n",
       "      <td>NaN</td>\n",
       "    </tr>\n",
       "    <tr>\n",
       "      <th>4</th>\n",
       "      <td>Organic Search</td>\n",
       "      <td>20160902</td>\n",
       "      <td>27294437909732085</td>\n",
       "      <td>27294437909732085_1472822600</td>\n",
       "      <td>Not Socially Engaged</td>\n",
       "      <td>1472822600</td>\n",
       "      <td>2</td>\n",
       "      <td>1472822600</td>\n",
       "      <td>Chrome</td>\n",
       "      <td>not available in demo dataset</td>\n",
       "      <td>not available in demo dataset</td>\n",
       "      <td>Android</td>\n",
       "      <td>not available in demo dataset</td>\n",
       "      <td>True</td>\n",
       "      <td>not available in demo dataset</td>\n",
       "      <td>not available in demo dataset</td>\n",
       "      <td>not available in demo dataset</td>\n",
       "      <td>not available in demo dataset</td>\n",
       "      <td>not available in demo dataset</td>\n",
       "      <td>not available in demo dataset</td>\n",
       "      <td>not available in demo dataset</td>\n",
       "      <td>not available in demo dataset</td>\n",
       "      <td>not available in demo dataset</td>\n",
       "      <td>mobile</td>\n",
       "      <td>Europe</td>\n",
       "      <td>Northern Europe</td>\n",
       "      <td>United Kingdom</td>\n",
       "      <td>not available in demo dataset</td>\n",
       "      <td>not available in demo dataset</td>\n",
       "      <td>not available in demo dataset</td>\n",
       "      <td>not available in demo dataset</td>\n",
       "      <td>unknown.unknown</td>\n",
       "      <td>not available in demo dataset</td>\n",
       "      <td>not available in demo dataset</td>\n",
       "      <td>not available in demo dataset</td>\n",
       "      <td>1</td>\n",
       "      <td>1</td>\n",
       "      <td>1</td>\n",
       "      <td>1</td>\n",
       "      <td>NaN</td>\n",
       "      <td>NaN</td>\n",
       "      <td>(not set)</td>\n",
       "      <td>google</td>\n",
       "      <td>organic</td>\n",
       "      <td>(not provided)</td>\n",
       "      <td>not available in demo dataset</td>\n",
       "      <td>True</td>\n",
       "      <td>NaN</td>\n",
       "      <td>NaN</td>\n",
       "      <td>NaN</td>\n",
       "      <td>NaN</td>\n",
       "      <td>NaN</td>\n",
       "      <td>NaN</td>\n",
       "      <td>NaN</td>\n",
       "      <td>NaN</td>\n",
       "    </tr>\n",
       "  </tbody>\n",
       "</table>\n",
       "</div>"
      ],
      "text/plain": [
       "  channelGrouping      date        fullVisitorId  \\\n",
       "0  Organic Search  20160902  1131660440785968503   \n",
       "1  Organic Search  20160902   377306020877927890   \n",
       "2  Organic Search  20160902  3895546263509774583   \n",
       "3  Organic Search  20160902  4763447161404445595   \n",
       "4  Organic Search  20160902    27294437909732085   \n",
       "\n",
       "                        sessionId  socialEngagementType     visitId  \\\n",
       "0  1131660440785968503_1472830385  Not Socially Engaged  1472830385   \n",
       "1   377306020877927890_1472880147  Not Socially Engaged  1472880147   \n",
       "2  3895546263509774583_1472865386  Not Socially Engaged  1472865386   \n",
       "3  4763447161404445595_1472881213  Not Socially Engaged  1472881213   \n",
       "4    27294437909732085_1472822600  Not Socially Engaged  1472822600   \n",
       "\n",
       "   visitNumber  visitStartTime device.browser          device.browserVersion  \\\n",
       "0            1      1472830385         Chrome  not available in demo dataset   \n",
       "1            1      1472880147        Firefox  not available in demo dataset   \n",
       "2            1      1472865386         Chrome  not available in demo dataset   \n",
       "3            1      1472881213     UC Browser  not available in demo dataset   \n",
       "4            2      1472822600         Chrome  not available in demo dataset   \n",
       "\n",
       "              device.browserSize device.operatingSystem  \\\n",
       "0  not available in demo dataset                Windows   \n",
       "1  not available in demo dataset              Macintosh   \n",
       "2  not available in demo dataset                Windows   \n",
       "3  not available in demo dataset                  Linux   \n",
       "4  not available in demo dataset                Android   \n",
       "\n",
       "   device.operatingSystemVersion  device.isMobile  \\\n",
       "0  not available in demo dataset            False   \n",
       "1  not available in demo dataset            False   \n",
       "2  not available in demo dataset            False   \n",
       "3  not available in demo dataset            False   \n",
       "4  not available in demo dataset             True   \n",
       "\n",
       "     device.mobileDeviceBranding       device.mobileDeviceModel  \\\n",
       "0  not available in demo dataset  not available in demo dataset   \n",
       "1  not available in demo dataset  not available in demo dataset   \n",
       "2  not available in demo dataset  not available in demo dataset   \n",
       "3  not available in demo dataset  not available in demo dataset   \n",
       "4  not available in demo dataset  not available in demo dataset   \n",
       "\n",
       "      device.mobileInputSelector        device.mobileDeviceInfo  \\\n",
       "0  not available in demo dataset  not available in demo dataset   \n",
       "1  not available in demo dataset  not available in demo dataset   \n",
       "2  not available in demo dataset  not available in demo dataset   \n",
       "3  not available in demo dataset  not available in demo dataset   \n",
       "4  not available in demo dataset  not available in demo dataset   \n",
       "\n",
       "  device.mobileDeviceMarketingName            device.flashVersion  \\\n",
       "0    not available in demo dataset  not available in demo dataset   \n",
       "1    not available in demo dataset  not available in demo dataset   \n",
       "2    not available in demo dataset  not available in demo dataset   \n",
       "3    not available in demo dataset  not available in demo dataset   \n",
       "4    not available in demo dataset  not available in demo dataset   \n",
       "\n",
       "                 device.language            device.screenColors  \\\n",
       "0  not available in demo dataset  not available in demo dataset   \n",
       "1  not available in demo dataset  not available in demo dataset   \n",
       "2  not available in demo dataset  not available in demo dataset   \n",
       "3  not available in demo dataset  not available in demo dataset   \n",
       "4  not available in demo dataset  not available in demo dataset   \n",
       "\n",
       "         device.screenResolution device.deviceCategory geoNetwork.continent  \\\n",
       "0  not available in demo dataset               desktop                 Asia   \n",
       "1  not available in demo dataset               desktop              Oceania   \n",
       "2  not available in demo dataset               desktop               Europe   \n",
       "3  not available in demo dataset               desktop                 Asia   \n",
       "4  not available in demo dataset                mobile               Europe   \n",
       "\n",
       "  geoNetwork.subContinent geoNetwork.country              geoNetwork.region  \\\n",
       "0            Western Asia             Turkey                          Izmir   \n",
       "1             Australasia          Australia  not available in demo dataset   \n",
       "2         Southern Europe              Spain            Community of Madrid   \n",
       "3          Southeast Asia          Indonesia  not available in demo dataset   \n",
       "4         Northern Europe     United Kingdom  not available in demo dataset   \n",
       "\n",
       "                geoNetwork.metro                geoNetwork.city  \\\n",
       "0                      (not set)                          Izmir   \n",
       "1  not available in demo dataset  not available in demo dataset   \n",
       "2                      (not set)                         Madrid   \n",
       "3  not available in demo dataset  not available in demo dataset   \n",
       "4  not available in demo dataset  not available in demo dataset   \n",
       "\n",
       "               geoNetwork.cityId geoNetwork.networkDomain  \\\n",
       "0  not available in demo dataset             ttnet.com.tr   \n",
       "1  not available in demo dataset              dodo.net.au   \n",
       "2  not available in demo dataset          unknown.unknown   \n",
       "3  not available in demo dataset          unknown.unknown   \n",
       "4  not available in demo dataset          unknown.unknown   \n",
       "\n",
       "             geoNetwork.latitude           geoNetwork.longitude  \\\n",
       "0  not available in demo dataset  not available in demo dataset   \n",
       "1  not available in demo dataset  not available in demo dataset   \n",
       "2  not available in demo dataset  not available in demo dataset   \n",
       "3  not available in demo dataset  not available in demo dataset   \n",
       "4  not available in demo dataset  not available in demo dataset   \n",
       "\n",
       "      geoNetwork.networkLocation totals.visits totals.hits totals.pageviews  \\\n",
       "0  not available in demo dataset             1           1                1   \n",
       "1  not available in demo dataset             1           1                1   \n",
       "2  not available in demo dataset             1           1                1   \n",
       "3  not available in demo dataset             1           1                1   \n",
       "4  not available in demo dataset             1           1                1   \n",
       "\n",
       "  totals.bounces totals.newVisits totals.transactionRevenue  \\\n",
       "0              1                1                       NaN   \n",
       "1              1                1                       NaN   \n",
       "2              1                1                       NaN   \n",
       "3              1                1                       NaN   \n",
       "4              1              NaN                       NaN   \n",
       "\n",
       "  trafficSource.campaign trafficSource.source trafficSource.medium  \\\n",
       "0              (not set)               google              organic   \n",
       "1              (not set)               google              organic   \n",
       "2              (not set)               google              organic   \n",
       "3              (not set)               google              organic   \n",
       "4              (not set)               google              organic   \n",
       "\n",
       "  trafficSource.keyword trafficSource.adwordsClickInfo.criteriaParameters  \\\n",
       "0        (not provided)                     not available in demo dataset   \n",
       "1        (not provided)                     not available in demo dataset   \n",
       "2        (not provided)                     not available in demo dataset   \n",
       "3       google + online                     not available in demo dataset   \n",
       "4        (not provided)                     not available in demo dataset   \n",
       "\n",
       "  trafficSource.isTrueDirect trafficSource.referralPath  \\\n",
       "0                        NaN                        NaN   \n",
       "1                        NaN                        NaN   \n",
       "2                        NaN                        NaN   \n",
       "3                        NaN                        NaN   \n",
       "4                       True                        NaN   \n",
       "\n",
       "  trafficSource.adwordsClickInfo.page trafficSource.adwordsClickInfo.slot  \\\n",
       "0                                 NaN                                 NaN   \n",
       "1                                 NaN                                 NaN   \n",
       "2                                 NaN                                 NaN   \n",
       "3                                 NaN                                 NaN   \n",
       "4                                 NaN                                 NaN   \n",
       "\n",
       "  trafficSource.adwordsClickInfo.gclId  \\\n",
       "0                                  NaN   \n",
       "1                                  NaN   \n",
       "2                                  NaN   \n",
       "3                                  NaN   \n",
       "4                                  NaN   \n",
       "\n",
       "  trafficSource.adwordsClickInfo.adNetworkType  \\\n",
       "0                                          NaN   \n",
       "1                                          NaN   \n",
       "2                                          NaN   \n",
       "3                                          NaN   \n",
       "4                                          NaN   \n",
       "\n",
       "  trafficSource.adwordsClickInfo.isVideoAd trafficSource.adContent  \\\n",
       "0                                      NaN                     NaN   \n",
       "1                                      NaN                     NaN   \n",
       "2                                      NaN                     NaN   \n",
       "3                                      NaN                     NaN   \n",
       "4                                      NaN                     NaN   \n",
       "\n",
       "  trafficSource.campaignCode  \n",
       "0                        NaN  \n",
       "1                        NaN  \n",
       "2                        NaN  \n",
       "3                        NaN  \n",
       "4                        NaN  "
      ]
     },
     "execution_count": 6,
     "metadata": {},
     "output_type": "execute_result"
    }
   ],
   "source": [
    "train_df.head()"
   ]
  },
  {
   "cell_type": "code",
   "execution_count": 7,
   "metadata": {},
   "outputs": [],
   "source": [
    "train_df[\"totals.transactionRevenue\"] = train_df[\"totals.transactionRevenue\"].astype('float')"
   ]
  },
  {
   "cell_type": "code",
   "execution_count": 8,
   "metadata": {},
   "outputs": [],
   "source": [
    "gdf=train_df.groupby('fullVisitorId')['totals.transactionRevenue'].sum().reset_index()"
   ]
  },
  {
   "cell_type": "code",
   "execution_count": 9,
   "metadata": {},
   "outputs": [
    {
     "data": {
      "text/plain": [
       "1540071240000.0"
      ]
     },
     "execution_count": 9,
     "metadata": {},
     "output_type": "execute_result"
    }
   ],
   "source": [
    "#np.sum(gdf[\"totals.transactionRevenue\"]!=0)-\n",
    "np.sum(gdf['totals.transactionRevenue'])"
   ]
  },
  {
   "cell_type": "code",
   "execution_count": 10,
   "metadata": {},
   "outputs": [
    {
     "data": {
      "text/html": [
       "<div>\n",
       "<style scoped>\n",
       "    .dataframe tbody tr th:only-of-type {\n",
       "        vertical-align: middle;\n",
       "    }\n",
       "\n",
       "    .dataframe tbody tr th {\n",
       "        vertical-align: top;\n",
       "    }\n",
       "\n",
       "    .dataframe thead th {\n",
       "        text-align: right;\n",
       "    }\n",
       "</style>\n",
       "<table border=\"1\" class=\"dataframe\">\n",
       "  <thead>\n",
       "    <tr style=\"text-align: right;\">\n",
       "      <th></th>\n",
       "      <th>fullVisitorId</th>\n",
       "      <th>totals.transactionRevenue</th>\n",
       "    </tr>\n",
       "  </thead>\n",
       "  <tbody>\n",
       "    <tr>\n",
       "      <th>0</th>\n",
       "      <td>0000010278554503158</td>\n",
       "      <td>0.0</td>\n",
       "    </tr>\n",
       "    <tr>\n",
       "      <th>1</th>\n",
       "      <td>0000020424342248747</td>\n",
       "      <td>0.0</td>\n",
       "    </tr>\n",
       "    <tr>\n",
       "      <th>2</th>\n",
       "      <td>0000027376579751715</td>\n",
       "      <td>0.0</td>\n",
       "    </tr>\n",
       "    <tr>\n",
       "      <th>3</th>\n",
       "      <td>0000039460501403861</td>\n",
       "      <td>0.0</td>\n",
       "    </tr>\n",
       "    <tr>\n",
       "      <th>4</th>\n",
       "      <td>0000040862739425590</td>\n",
       "      <td>0.0</td>\n",
       "    </tr>\n",
       "  </tbody>\n",
       "</table>\n",
       "</div>"
      ],
      "text/plain": [
       "         fullVisitorId  totals.transactionRevenue\n",
       "0  0000010278554503158                        0.0\n",
       "1  0000020424342248747                        0.0\n",
       "2  0000027376579751715                        0.0\n",
       "3  0000039460501403861                        0.0\n",
       "4  0000040862739425590                        0.0"
      ]
     },
     "execution_count": 10,
     "metadata": {},
     "output_type": "execute_result"
    }
   ],
   "source": [
    "gdf.head()"
   ]
  },
  {
   "cell_type": "code",
   "execution_count": 11,
   "metadata": {},
   "outputs": [
    {
     "data": {
      "image/png": "[encoded data removed]",
      "text/plain": [
       "<Figure size 576x432 with 1 Axes>"
      ]
     },
     "metadata": {
      "needs_background": "light"
     },
     "output_type": "display_data"
    }
   ],
   "source": [
    "plt.figure(figsize=(8,6))\n",
    "plt.scatter(range(gdf.shape[0]), np.sort(np.log1p(gdf[\"totals.transactionRevenue\"].values)))\n",
    "plt.xlabel('index', fontsize=12)\n",
    "plt.ylabel('TransactionRevenue', fontsize=12)\n",
    "plt.show()"
   ]
  },
  {
   "cell_type": "markdown",
   "metadata": {},
   "source": [
    "This confirms the 80/20 rule of the business which means that only 20 % of input outputs 80% of revenue. Business owners should adress their marketing strategy in correlation with this rule."
   ]
  },
  {
   "cell_type": "code",
   "execution_count": 12,
   "metadata": {},
   "outputs": [
    {
     "name": "stdout",
     "output_type": "stream",
     "text": [
      "Number of instances in train set with non-zero revenue :  11515  and ratio is :  0.0127427231470487\n",
      "Number of unique customers with non-zero revenue :  9996 and the ratio is :  0.013996726255903731\n"
     ]
    }
   ],
   "source": [
    "nzi = pd.notnull(train_df[\"totals.transactionRevenue\"]).sum()\n",
    "nzr = (gdf[\"totals.transactionRevenue\"]>0).sum()\n",
    "print(\"Number of instances in train set with non-zero revenue : \", nzi, \" and ratio is : \", nzi / train_df.shape[0])\n",
    "print(\"Number of unique customers with non-zero revenue : \", nzr, \"and the ratio is : \", nzr / gdf.shape[0])"
   ]
  },
  {
   "cell_type": "code",
   "execution_count": 13,
   "metadata": {},
   "outputs": [
    {
     "name": "stderr",
     "output_type": "stream",
     "text": [
      "/home/haythem/anaconda3/lib/python3.8/site-packages/plotly/tools.py:461: DeprecationWarning:\n",
      "\n",
      "plotly.tools.make_subplots is deprecated, please use plotly.subplots.make_subplots instead\n",
      "\n"
     ]
    },
    {
     "data": {
      "application/vnd.plotly.v1+json": {
       "config": {
        "linkText": "Export to plot.ly",
        "plotlyServerURL": "https://plot.ly",
        "showLink": false
       },
       "data": [
        {
         "marker": {
          "color": "rgba(50, 171, 96, 0.6)"
         },
         "orientation": "h",
         "showlegend": false,
         "type": "bar",
         "x": [
          2427,
          5643,
          6139,
          6850,
          7865,
          10205,
          19375,
          37069,
          182245,
          620364
         ],
         "xaxis": "x",
         "y": [
          "UC Browser",
          "Opera",
          "Opera Mini",
          "Safari (in-app)",
          "Android Webview",
          "Edge",
          "Internet Explorer",
          "Firefox",
          "Safari",
          "Chrome"
         ],
         "yaxis": "y"
        },
        {
         "marker": {
          "color": "rgba(50, 171, 96, 0.6)"
         },
         "orientation": "h",
         "showlegend": false,
         "type": "bar",
         "x": [
          0,
          5,
          0,
          12,
          6,
          58,
          109,
          191,
          780,
          10353
         ],
         "xaxis": "x2",
         "y": [
          "UC Browser",
          "Opera",
          "Opera Mini",
          "Safari (in-app)",
          "Android Webview",
          "Edge",
          "Internet Explorer",
          "Firefox",
          "Safari",
          "Chrome"
         ],
         "yaxis": "y2"
        },
        {
         "marker": {
          "color": "rgba(50, 171, 96, 0.6)"
         },
         "orientation": "h",
         "showlegend": false,
         "type": "bar",
         "x": [
          null,
          43070000,
          null,
          12814166.666666666,
          19141666.666666668,
          111775344.8275862,
          75738990.82568808,
          467624712.04188484,
          67176256.41025642,
          133594606.39428185
         ],
         "xaxis": "x3",
         "y": [
          "UC Browser",
          "Opera",
          "Opera Mini",
          "Safari (in-app)",
          "Android Webview",
          "Edge",
          "Internet Explorer",
          "Firefox",
          "Safari",
          "Chrome"
         ],
         "yaxis": "y3"
        },
        {
         "marker": {
          "color": "rgba(71, 58, 131, 0.8)"
         },
         "orientation": "h",
         "showlegend": false,
         "type": "bar",
         "x": [
          30449,
          208725,
          664479
         ],
         "xaxis": "x4",
         "y": [
          "tablet",
          "mobile",
          "desktop"
         ],
         "yaxis": "y4"
        },
        {
         "marker": {
          "color": "rgba(71, 58, 131, 0.8)"
         },
         "orientation": "h",
         "showlegend": false,
         "type": "bar",
         "x": [
          168,
          852,
          10495
         ],
         "xaxis": "x5",
         "y": [
          "tablet",
          "mobile",
          "desktop"
         ],
         "yaxis": "y5"
        },
        {
         "marker": {
          "color": "rgba(71, 58, 131, 0.8)"
         },
         "orientation": "h",
         "showlegend": false,
         "type": "bar",
         "x": [
          56079404.76190476,
          58434049.295774646,
          141101866.60314435
         ],
         "xaxis": "x6",
         "y": [
          "tablet",
          "mobile",
          "desktop"
         ],
         "yaxis": "y6"
        },
        {
         "marker": {
          "color": "rgba(246, 78, 139, 0.6)"
         },
         "orientation": "h",
         "showlegend": false,
         "type": "bar",
         "x": [
          218,
          280,
          1216,
          4695,
          26337,
          35034,
          107665,
          123892,
          253938,
          350072
         ],
         "xaxis": "x7",
         "y": [
          "BlackBerry",
          "Samsung",
          "Windows Phone",
          "(not set)",
          "Chrome OS",
          "Linux",
          "iOS",
          "Android",
          "Macintosh",
          "Windows"
         ],
         "yaxis": "y7"
        },
        {
         "marker": {
          "color": "rgba(246, 78, 139, 0.6)"
         },
         "orientation": "h",
         "showlegend": false,
         "type": "bar",
         "x": [
          0,
          0,
          1,
          0,
          994,
          782,
          536,
          467,
          6426,
          2309
         ],
         "xaxis": "x8",
         "y": [
          "BlackBerry",
          "Samsung",
          "Windows Phone",
          "(not set)",
          "Chrome OS",
          "Linux",
          "iOS",
          "Android",
          "Macintosh",
          "Windows"
         ],
         "yaxis": "y8"
        },
        {
         "marker": {
          "color": "rgba(246, 78, 139, 0.6)"
         },
         "orientation": "h",
         "showlegend": false,
         "type": "bar",
         "x": [
          null,
          null,
          26400000,
          null,
          185048038.22937626,
          56151406.64961637,
          41356156.71641791,
          77818586.72376874,
          133267318.70525987,
          172071338.24166307
         ],
         "xaxis": "x9",
         "y": [
          "BlackBerry",
          "Samsung",
          "Windows Phone",
          "(not set)",
          "Chrome OS",
          "Linux",
          "iOS",
          "Android",
          "Macintosh",
          "Windows"
         ],
         "yaxis": "y9"
        }
       ],
       "layout": {
        "annotations": [
         {
          "font": {
           "size": 16
          },
          "showarrow": false,
          "text": "Device Browser - Count",
          "x": 0.14444444444444446,
          "xanchor": "center",
          "xref": "paper",
          "y": 1,
          "yanchor": "bottom",
          "yref": "paper"
         },
         {
          "font": {
           "size": 16
          },
          "showarrow": false,
          "text": "Device Browser - Non-zero Revenue Count",
          "x": 0.5,
          "xanchor": "center",
          "xref": "paper",
          "y": 1,
          "yanchor": "bottom",
          "yref": "paper"
         },
         {
          "font": {
           "size": 16
          },
          "showarrow": false,
          "text": "Device Browser - Mean Revenue",
          "x": 0.8555555555555556,
          "xanchor": "center",
          "xref": "paper",
          "y": 1,
          "yanchor": "bottom",
          "yref": "paper"
         },
         {
          "font": {
           "size": 16
          },
          "showarrow": false,
          "text": "Device Category - Count",
          "x": 0.14444444444444446,
          "xanchor": "center",
          "xref": "paper",
          "y": 0.6533333333333333,
          "yanchor": "bottom",
          "yref": "paper"
         },
         {
          "font": {
           "size": 16
          },
          "showarrow": false,
          "text": "Device Category - Non-zero Revenue Count",
          "x": 0.5,
          "xanchor": "center",
          "xref": "paper",
          "y": 0.6533333333333333,
          "yanchor": "bottom",
          "yref": "paper"
         },
         {
          "font": {
           "size": 16
          },
          "showarrow": false,
          "text": "Device Category - Mean Revenue",
          "x": 0.8555555555555556,
          "xanchor": "center",
          "xref": "paper",
          "y": 0.6533333333333333,
          "yanchor": "bottom",
          "yref": "paper"
         },
         {
          "font": {
           "size": 16
          },
          "showarrow": false,
          "text": "Device OS - Count",
          "x": 0.14444444444444446,
          "xanchor": "center",
          "xref": "paper",
          "y": 0.3066666666666667,
          "yanchor": "bottom",
          "yref": "paper"
         },
         {
          "font": {
           "size": 16
          },
          "showarrow": false,
          "text": "Device OS - Non-zero Revenue Count",
          "x": 0.5,
          "xanchor": "center",
          "xref": "paper",
          "y": 0.3066666666666667,
          "yanchor": "bottom",
          "yref": "paper"
         },
         {
          "font": {
           "size": 16
          },
          "showarrow": false,
          "text": "Device OS - Mean Revenue",
          "x": 0.8555555555555556,
          "xanchor": "center",
          "xref": "paper",
          "y": 0.3066666666666667,
          "yanchor": "bottom",
          "yref": "paper"
         }
        ],
        "height": 1200,
        "paper_bgcolor": "rgb(233,233,233)",
        "template": {
         "data": {
          "bar": [
           {
            "error_x": {
             "color": "#2a3f5f"
            },
            "error_y": {
             "color": "#2a3f5f"
            },
            "marker": {
             "line": {
              "color": "#E5ECF6",
              "width": 0.5
             }
            },
            "type": "bar"
           }
          ],
          "barpolar": [
           {
            "marker": {
             "line": {
              "color": "#E5ECF6",
              "width": 0.5
             }
            },
            "type": "barpolar"
           }
          ],
          "carpet": [
           {
            "aaxis": {
             "endlinecolor": "#2a3f5f",
             "gridcolor": "white",
             "linecolor": "white",
             "minorgridcolor": "white",
             "startlinecolor": "#2a3f5f"
            },
            "baxis": {
             "endlinecolor": "#2a3f5f",
             "gridcolor": "white",
             "linecolor": "white",
             "minorgridcolor": "white",
             "startlinecolor": "#2a3f5f"
            },
            "type": "carpet"
           }
          ],
          "choropleth": [
           {
            "colorbar": {
             "outlinewidth": 0,
             "ticks": ""
            },
            "type": "choropleth"
           }
          ],
          "contour": [
           {
            "colorbar": {
             "outlinewidth": 0,
             "ticks": ""
            },
            "colorscale": [
             [
              0,
              "#0d0887"
             ],
             [
              0.1111111111111111,
              "#46039f"
             ],
             [
              0.2222222222222222,
              "#7201a8"
             ],
             [
              0.3333333333333333,
              "#9c179e"
             ],
             [
              0.4444444444444444,
              "#bd3786"
             ],
             [
              0.5555555555555556,
              "#d8576b"
             ],
             [
              0.6666666666666666,
              "#ed7953"
             ],
             [
              0.7777777777777778,
              "#fb9f3a"
             ],
             [
              0.8888888888888888,
              "#fdca26"
             ],
             [
              1,
              "#f0f921"
             ]
            ],
            "type": "contour"
           }
          ],
          "contourcarpet": [
           {
            "colorbar": {
             "outlinewidth": 0,
             "ticks": ""
            },
            "type": "contourcarpet"
           }
          ],
          "heatmap": [
           {
            "colorbar": {
             "outlinewidth": 0,
             "ticks": ""
            },
            "colorscale": [
             [
              0,
              "#0d0887"
             ],
             [
              0.1111111111111111,
              "#46039f"
             ],
             [
              0.2222222222222222,
              "#7201a8"
             ],
             [
              0.3333333333333333,
              "#9c179e"
             ],
             [
              0.4444444444444444,
              "#bd3786"
             ],
             [
              0.5555555555555556,
              "#d8576b"
             ],
             [
              0.6666666666666666,
              "#ed7953"
             ],
             [
              0.7777777777777778,
              "#fb9f3a"
             ],
             [
              0.8888888888888888,
              "#fdca26"
             ],
             [
              1,
              "#f0f921"
             ]
            ],
            "type": "heatmap"
           }
          ],
          "heatmapgl": [
           {
            "colorbar": {
             "outlinewidth": 0,
             "ticks": ""
            },
            "colorscale": [
             [
              0,
              "#0d0887"
             ],
             [
              0.1111111111111111,
              "#46039f"
             ],
             [
              0.2222222222222222,
              "#7201a8"
             ],
             [
              0.3333333333333333,
              "#9c179e"
             ],
             [
              0.4444444444444444,
              "#bd3786"
             ],
             [
              0.5555555555555556,
              "#d8576b"
             ],
             [
              0.6666666666666666,
              "#ed7953"
             ],
             [
              0.7777777777777778,
              "#fb9f3a"
             ],
             [
              0.8888888888888888,
              "#fdca26"
             ],
             [
              1,
              "#f0f921"
             ]
            ],
            "type": "heatmapgl"
           }
          ],
          "histogram": [
           {
            "marker": {
             "colorbar": {
              "outlinewidth": 0,
              "ticks": ""
             }
            },
            "type": "histogram"
           }
          ],
          "histogram2d": [
           {
            "colorbar": {
             "outlinewidth": 0,
             "ticks": ""
            },
            "colorscale": [
             [
              0,
              "#0d0887"
             ],
             [
              0.1111111111111111,
              "#46039f"
             ],
             [
              0.2222222222222222,
              "#7201a8"
             ],
             [
              0.3333333333333333,
              "#9c179e"
             ],
             [
              0.4444444444444444,
              "#bd3786"
             ],
             [
              0.5555555555555556,
              "#d8576b"
             ],
             [
              0.6666666666666666,
              "#ed7953"
             ],
             [
              0.7777777777777778,
              "#fb9f3a"
             ],
             [
              0.8888888888888888,
              "#fdca26"
             ],
             [
              1,
              "#f0f921"
             ]
            ],
            "type": "histogram2d"
           }
          ],
          "histogram2dcontour": [
           {
            "colorbar": {
             "outlinewidth": 0,
             "ticks": ""
            },
            "colorscale": [
             [
              0,
              "#0d0887"
             ],
             [
              0.1111111111111111,
              "#46039f"
             ],
             [
              0.2222222222222222,
              "#7201a8"
             ],
             [
              0.3333333333333333,
              "#9c179e"
             ],
             [
              0.4444444444444444,
              "#bd3786"
             ],
             [
              0.5555555555555556,
              "#d8576b"
             ],
             [
              0.6666666666666666,
              "#ed7953"
             ],
             [
              0.7777777777777778,
              "#fb9f3a"
             ],
             [
              0.8888888888888888,
              "#fdca26"
             ],
             [
              1,
              "#f0f921"
             ]
            ],
            "type": "histogram2dcontour"
           }
          ],
          "mesh3d": [
           {
            "colorbar": {
             "outlinewidth": 0,
             "ticks": ""
            },
            "type": "mesh3d"
           }
          ],
          "parcoords": [
           {
            "line": {
             "colorbar": {
              "outlinewidth": 0,
              "ticks": ""
             }
            },
            "type": "parcoords"
           }
          ],
          "pie": [
           {
            "automargin": true,
            "type": "pie"
           }
          ],
          "scatter": [
           {
            "marker": {
             "colorbar": {
              "outlinewidth": 0,
              "ticks": ""
             }
            },
            "type": "scatter"
           }
          ],
          "scatter3d": [
           {
            "line": {
             "colorbar": {
              "outlinewidth": 0,
              "ticks": ""
             }
            },
            "marker": {
             "colorbar": {
              "outlinewidth": 0,
              "ticks": ""
             }
            },
            "type": "scatter3d"
           }
          ],
          "scattercarpet": [
           {
            "marker": {
             "colorbar": {
              "outlinewidth": 0,
              "ticks": ""
             }
            },
            "type": "scattercarpet"
           }
          ],
          "scattergeo": [
           {
            "marker": {
             "colorbar": {
              "outlinewidth": 0,
              "ticks": ""
             }
            },
            "type": "scattergeo"
           }
          ],
          "scattergl": [
           {
            "marker": {
             "colorbar": {
              "outlinewidth": 0,
              "ticks": ""
             }
            },
            "type": "scattergl"
           }
          ],
          "scattermapbox": [
           {
            "marker": {
             "colorbar": {
              "outlinewidth": 0,
              "ticks": ""
             }
            },
            "type": "scattermapbox"
           }
          ],
          "scatterpolar": [
           {
            "marker": {
             "colorbar": {
              "outlinewidth": 0,
              "ticks": ""
             }
            },
            "type": "scatterpolar"
           }
          ],
          "scatterpolargl": [
           {
            "marker": {
             "colorbar": {
              "outlinewidth": 0,
              "ticks": ""
             }
            },
            "type": "scatterpolargl"
           }
          ],
          "scatterternary": [
           {
            "marker": {
             "colorbar": {
              "outlinewidth": 0,
              "ticks": ""
             }
            },
            "type": "scatterternary"
           }
          ],
          "surface": [
           {
            "colorbar": {
             "outlinewidth": 0,
             "ticks": ""
            },
            "colorscale": [
             [
              0,
              "#0d0887"
             ],
             [
              0.1111111111111111,
              "#46039f"
             ],
             [
              0.2222222222222222,
              "#7201a8"
             ],
             [
              0.3333333333333333,
              "#9c179e"
             ],
             [
              0.4444444444444444,
              "#bd3786"
             ],
             [
              0.5555555555555556,
              "#d8576b"
             ],
             [
              0.6666666666666666,
              "#ed7953"
             ],
             [
              0.7777777777777778,
              "#fb9f3a"
             ],
             [
              0.8888888888888888,
              "#fdca26"
             ],
             [
              1,
              "#f0f921"
             ]
            ],
            "type": "surface"
           }
          ],
          "table": [
           {
            "cells": {
             "fill": {
              "color": "#EBF0F8"
             },
             "line": {
              "color": "white"
             }
            },
            "header": {
             "fill": {
              "color": "#C8D4E3"
             },
             "line": {
              "color": "white"
             }
            },
            "type": "table"
           }
          ]
         },
         "layout": {
          "annotationdefaults": {
           "arrowcolor": "#2a3f5f",
           "arrowhead": 0,
           "arrowwidth": 1
          },
          "coloraxis": {
           "colorbar": {
            "outlinewidth": 0,
            "ticks": ""
           }
          },
          "colorscale": {
           "diverging": [
            [
             0,
             "#8e0152"
            ],
            [
             0.1,
             "#c51b7d"
            ],
            [
             0.2,
             "#de77ae"
            ],
            [
             0.3,
             "#f1b6da"
            ],
            [
             0.4,
             "#fde0ef"
            ],
            [
             0.5,
             "#f7f7f7"
            ],
            [
             0.6,
             "#e6f5d0"
            ],
            [
             0.7,
             "#b8e186"
            ],
            [
             0.8,
             "#7fbc41"
            ],
            [
             0.9,
             "#4d9221"
            ],
            [
             1,
             "#276419"
            ]
           ],
           "sequential": [
            [
             0,
             "#0d0887"
            ],
            [
             0.1111111111111111,
             "#46039f"
            ],
            [
             0.2222222222222222,
             "#7201a8"
            ],
            [
             0.3333333333333333,
             "#9c179e"
            ],
            [
             0.4444444444444444,
             "#bd3786"
            ],
            [
             0.5555555555555556,
             "#d8576b"
            ],
            [
             0.6666666666666666,
             "#ed7953"
            ],
            [
             0.7777777777777778,
             "#fb9f3a"
            ],
            [
             0.8888888888888888,
             "#fdca26"
            ],
            [
             1,
             "#f0f921"
            ]
           ],
           "sequentialminus": [
            [
             0,
             "#0d0887"
            ],
            [
             0.1111111111111111,
             "#46039f"
            ],
            [
             0.2222222222222222,
             "#7201a8"
            ],
            [
             0.3333333333333333,
             "#9c179e"
            ],
            [
             0.4444444444444444,
             "#bd3786"
            ],
            [
             0.5555555555555556,
             "#d8576b"
            ],
            [
             0.6666666666666666,
             "#ed7953"
            ],
            [
             0.7777777777777778,
             "#fb9f3a"
            ],
            [
             0.8888888888888888,
             "#fdca26"
            ],
            [
             1,
             "#f0f921"
            ]
           ]
          },
          "colorway": [
           "#636efa",
           "#EF553B",
           "#00cc96",
           "#ab63fa",
           "#FFA15A",
           "#19d3f3",
           "#FF6692",
           "#B6E880",
           "#FF97FF",
           "#FECB52"
          ],
          "font": {
           "color": "#2a3f5f"
          },
          "geo": {
           "bgcolor": "white",
           "lakecolor": "white",
           "landcolor": "#E5ECF6",
           "showlakes": true,
           "showland": true,
           "subunitcolor": "white"
          },
          "hoverlabel": {
           "align": "left"
          },
          "hovermode": "closest",
          "mapbox": {
           "style": "light"
          },
          "paper_bgcolor": "white",
          "plot_bgcolor": "#E5ECF6",
          "polar": {
           "angularaxis": {
            "gridcolor": "white",
            "linecolor": "white",
            "ticks": ""
           },
           "bgcolor": "#E5ECF6",
           "radialaxis": {
            "gridcolor": "white",
            "linecolor": "white",
            "ticks": ""
           }
          },
          "scene": {
           "xaxis": {
            "backgroundcolor": "#E5ECF6",
            "gridcolor": "white",
            "gridwidth": 2,
            "linecolor": "white",
            "showbackground": true,
            "ticks": "",
            "zerolinecolor": "white"
           },
           "yaxis": {
            "backgroundcolor": "#E5ECF6",
            "gridcolor": "white",
            "gridwidth": 2,
            "linecolor": "white",
            "showbackground": true,
            "ticks": "",
            "zerolinecolor": "white"
           },
           "zaxis": {
            "backgroundcolor": "#E5ECF6",
            "gridcolor": "white",
            "gridwidth": 2,
            "linecolor": "white",
            "showbackground": true,
            "ticks": "",
            "zerolinecolor": "white"
           }
          },
          "shapedefaults": {
           "line": {
            "color": "#2a3f5f"
           }
          },
          "ternary": {
           "aaxis": {
            "gridcolor": "white",
            "linecolor": "white",
            "ticks": ""
           },
           "baxis": {
            "gridcolor": "white",
            "linecolor": "white",
            "ticks": ""
           },
           "bgcolor": "#E5ECF6",
           "caxis": {
            "gridcolor": "white",
            "linecolor": "white",
            "ticks": ""
           }
          },
          "title": {
           "x": 0.05
          },
          "xaxis": {
           "automargin": true,
           "gridcolor": "white",
           "linecolor": "white",
           "ticks": "",
           "title": {
            "standoff": 15
           },
           "zerolinecolor": "white",
           "zerolinewidth": 2
          },
          "yaxis": {
           "automargin": true,
           "gridcolor": "white",
           "linecolor": "white",
           "ticks": "",
           "title": {
            "standoff": 15
           },
           "zerolinecolor": "white",
           "zerolinewidth": 2
          }
         }
        },
        "title": {
         "text": "Device Plots"
        },
        "width": 1200,
        "xaxis": {
         "anchor": "y",
         "domain": [
          0,
          0.2888888888888889
         ]
        },
        "xaxis2": {
         "anchor": "y2",
         "domain": [
          0.35555555555555557,
          0.6444444444444445
         ]
        },
        "xaxis3": {
         "anchor": "y3",
         "domain": [
          0.7111111111111111,
          1
         ]
        },
        "xaxis4": {
         "anchor": "y4",
         "domain": [
          0,
          0.2888888888888889
         ]
        },
        "xaxis5": {
         "anchor": "y5",
         "domain": [
          0.35555555555555557,
          0.6444444444444445
         ]
        },
        "xaxis6": {
         "anchor": "y6",
         "domain": [
          0.7111111111111111,
          1
         ]
        },
        "xaxis7": {
         "anchor": "y7",
         "domain": [
          0,
          0.2888888888888889
         ]
        },
        "xaxis8": {
         "anchor": "y8",
         "domain": [
          0.35555555555555557,
          0.6444444444444445
         ]
        },
        "xaxis9": {
         "anchor": "y9",
         "domain": [
          0.7111111111111111,
          1
         ]
        },
        "yaxis": {
         "anchor": "x",
         "domain": [
          0.6933333333333334,
          1
         ]
        },
        "yaxis2": {
         "anchor": "x2",
         "domain": [
          0.6933333333333334,
          1
         ]
        },
        "yaxis3": {
         "anchor": "x3",
         "domain": [
          0.6933333333333334,
          1
         ]
        },
        "yaxis4": {
         "anchor": "x4",
         "domain": [
          0.3466666666666667,
          0.6533333333333333
         ]
        },
        "yaxis5": {
         "anchor": "x5",
         "domain": [
          0.3466666666666667,
          0.6533333333333333
         ]
        },
        "yaxis6": {
         "anchor": "x6",
         "domain": [
          0.3466666666666667,
          0.6533333333333333
         ]
        },
        "yaxis7": {
         "anchor": "x7",
         "domain": [
          0,
          0.3066666666666667
         ]
        },
        "yaxis8": {
         "anchor": "x8",
         "domain": [
          0,
          0.3066666666666667
         ]
        },
        "yaxis9": {
         "anchor": "x9",
         "domain": [
          0,
          0.3066666666666667
         ]
        }
       }
      },
      "text/html": [
       "<div>                            <div id=\"a3b7a5d7-95cd-43f0-9667-e387bd06c608\" class=\"plotly-graph-div\" style=\"height:1200px; width:1200px;\"></div>            <script type=\"text/javascript\">                require([\"plotly\"], function(Plotly) {                    window.PLOTLYENV=window.PLOTLYENV || {};                                    if (document.getElementById(\"a3b7a5d7-95cd-43f0-9667-e387bd06c608\")) {                    Plotly.newPlot(                        \"a3b7a5d7-95cd-43f0-9667-e387bd06c608\",                        [{\"marker\": {\"color\": \"rgba(50, 171, 96, 0.6)\"}, \"orientation\": \"h\", \"showlegend\": false, \"type\": \"bar\", \"x\": [2427, 5643, 6139, 6850, 7865, 10205, 19375, 37069, 182245, 620364], \"xaxis\": \"x\", \"y\": [\"UC Browser\", \"Opera\", \"Opera Mini\", \"Safari (in-app)\", \"Android Webview\", \"Edge\", \"Internet Explorer\", \"Firefox\", \"Safari\", \"Chrome\"], \"yaxis\": \"y\"}, {\"marker\": {\"color\": \"rgba(50, 171, 96, 0.6)\"}, \"orientation\": \"h\", \"showlegend\": false, \"type\": \"bar\", \"x\": [0, 5, 0, 12, 6, 58, 109, 191, 780, 10353], \"xaxis\": \"x2\", \"y\": [\"UC Browser\", \"Opera\", \"Opera Mini\", \"Safari (in-app)\", \"Android Webview\", \"Edge\", \"Internet Explorer\", \"Firefox\", \"Safari\", \"Chrome\"], \"yaxis\": \"y2\"}, {\"marker\": {\"color\": \"rgba(50, 171, 96, 0.6)\"}, \"orientation\": \"h\", \"showlegend\": false, \"type\": \"bar\", \"x\": [null, 43070000.0, null, 12814166.666666666, 19141666.666666668, 111775344.8275862, 75738990.82568808, 467624712.04188484, 67176256.41025642, 133594606.39428185], \"xaxis\": \"x3\", \"y\": [\"UC Browser\", \"Opera\", \"Opera Mini\", \"Safari (in-app)\", \"Android Webview\", \"Edge\", \"Internet Explorer\", \"Firefox\", \"Safari\", \"Chrome\"], \"yaxis\": \"y3\"}, {\"marker\": {\"color\": \"rgba(71, 58, 131, 0.8)\"}, \"orientation\": \"h\", \"showlegend\": false, \"type\": \"bar\", \"x\": [30449, 208725, 664479], \"xaxis\": \"x4\", \"y\": [\"tablet\", \"mobile\", \"desktop\"], \"yaxis\": \"y4\"}, {\"marker\": {\"color\": \"rgba(71, 58, 131, 0.8)\"}, \"orientation\": \"h\", \"showlegend\": false, \"type\": \"bar\", \"x\": [168, 852, 10495], \"xaxis\": \"x5\", \"y\": [\"tablet\", \"mobile\", \"desktop\"], \"yaxis\": \"y5\"}, {\"marker\": {\"color\": \"rgba(71, 58, 131, 0.8)\"}, \"orientation\": \"h\", \"showlegend\": false, \"type\": \"bar\", \"x\": [56079404.76190476, 58434049.295774646, 141101866.60314435], \"xaxis\": \"x6\", \"y\": [\"tablet\", \"mobile\", \"desktop\"], \"yaxis\": \"y6\"}, {\"marker\": {\"color\": \"rgba(246, 78, 139, 0.6)\"}, \"orientation\": \"h\", \"showlegend\": false, \"type\": \"bar\", \"x\": [218, 280, 1216, 4695, 26337, 35034, 107665, 123892, 253938, 350072], \"xaxis\": \"x7\", \"y\": [\"BlackBerry\", \"Samsung\", \"Windows Phone\", \"(not set)\", \"Chrome OS\", \"Linux\", \"iOS\", \"Android\", \"Macintosh\", \"Windows\"], \"yaxis\": \"y7\"}, {\"marker\": {\"color\": \"rgba(246, 78, 139, 0.6)\"}, \"orientation\": \"h\", \"showlegend\": false, \"type\": \"bar\", \"x\": [0, 0, 1, 0, 994, 782, 536, 467, 6426, 2309], \"xaxis\": \"x8\", \"y\": [\"BlackBerry\", \"Samsung\", \"Windows Phone\", \"(not set)\", \"Chrome OS\", \"Linux\", \"iOS\", \"Android\", \"Macintosh\", \"Windows\"], \"yaxis\": \"y8\"}, {\"marker\": {\"color\": \"rgba(246, 78, 139, 0.6)\"}, \"orientation\": \"h\", \"showlegend\": false, \"type\": \"bar\", \"x\": [null, null, 26400000.0, null, 185048038.22937626, 56151406.64961637, 41356156.71641791, 77818586.72376874, 133267318.70525987, 172071338.24166307], \"xaxis\": \"x9\", \"y\": [\"BlackBerry\", \"Samsung\", \"Windows Phone\", \"(not set)\", \"Chrome OS\", \"Linux\", \"iOS\", \"Android\", \"Macintosh\", \"Windows\"], \"yaxis\": \"y9\"}],                        {\"annotations\": [{\"font\": {\"size\": 16}, \"showarrow\": false, \"text\": \"Device Browser - Count\", \"x\": 0.14444444444444446, \"xanchor\": \"center\", \"xref\": \"paper\", \"y\": 1.0, \"yanchor\": \"bottom\", \"yref\": \"paper\"}, {\"font\": {\"size\": 16}, \"showarrow\": false, \"text\": \"Device Browser - Non-zero Revenue Count\", \"x\": 0.5, \"xanchor\": \"center\", \"xref\": \"paper\", \"y\": 1.0, \"yanchor\": \"bottom\", \"yref\": \"paper\"}, {\"font\": {\"size\": 16}, \"showarrow\": false, \"text\": \"Device Browser - Mean Revenue\", \"x\": 0.8555555555555556, \"xanchor\": \"center\", \"xref\": \"paper\", \"y\": 1.0, \"yanchor\": \"bottom\", \"yref\": \"paper\"}, {\"font\": {\"size\": 16}, \"showarrow\": false, \"text\": \"Device Category - Count\", \"x\": 0.14444444444444446, \"xanchor\": \"center\", \"xref\": \"paper\", \"y\": 0.6533333333333333, \"yanchor\": \"bottom\", \"yref\": \"paper\"}, {\"font\": {\"size\": 16}, \"showarrow\": false, \"text\": \"Device Category - Non-zero Revenue Count\", \"x\": 0.5, \"xanchor\": \"center\", \"xref\": \"paper\", \"y\": 0.6533333333333333, \"yanchor\": \"bottom\", \"yref\": \"paper\"}, {\"font\": {\"size\": 16}, \"showarrow\": false, \"text\": \"Device Category - Mean Revenue\", \"x\": 0.8555555555555556, \"xanchor\": \"center\", \"xref\": \"paper\", \"y\": 0.6533333333333333, \"yanchor\": \"bottom\", \"yref\": \"paper\"}, {\"font\": {\"size\": 16}, \"showarrow\": false, \"text\": \"Device OS - Count\", \"x\": 0.14444444444444446, \"xanchor\": \"center\", \"xref\": \"paper\", \"y\": 0.3066666666666667, \"yanchor\": \"bottom\", \"yref\": \"paper\"}, {\"font\": {\"size\": 16}, \"showarrow\": false, \"text\": \"Device OS - Non-zero Revenue Count\", \"x\": 0.5, \"xanchor\": \"center\", \"xref\": \"paper\", \"y\": 0.3066666666666667, \"yanchor\": \"bottom\", \"yref\": \"paper\"}, {\"font\": {\"size\": 16}, \"showarrow\": false, \"text\": \"Device OS - Mean Revenue\", \"x\": 0.8555555555555556, \"xanchor\": \"center\", \"xref\": \"paper\", \"y\": 0.3066666666666667, \"yanchor\": \"bottom\", \"yref\": \"paper\"}], \"height\": 1200, \"paper_bgcolor\": \"rgb(233,233,233)\", \"template\": {\"data\": {\"bar\": [{\"error_x\": {\"color\": \"#2a3f5f\"}, \"error_y\": {\"color\": \"#2a3f5f\"}, \"marker\": {\"line\": {\"color\": \"#E5ECF6\", \"width\": 0.5}}, \"type\": \"bar\"}], \"barpolar\": [{\"marker\": {\"line\": {\"color\": \"#E5ECF6\", \"width\": 0.5}}, \"type\": \"barpolar\"}], \"carpet\": [{\"aaxis\": {\"endlinecolor\": \"#2a3f5f\", \"gridcolor\": \"white\", \"linecolor\": \"white\", \"minorgridcolor\": \"white\", \"startlinecolor\": \"#2a3f5f\"}, \"baxis\": {\"endlinecolor\": \"#2a3f5f\", \"gridcolor\": \"white\", \"linecolor\": \"white\", \"minorgridcolor\": \"white\", \"startlinecolor\": \"#2a3f5f\"}, \"type\": \"carpet\"}], \"choropleth\": [{\"colorbar\": {\"outlinewidth\": 0, \"ticks\": \"\"}, \"type\": \"choropleth\"}], \"contour\": [{\"colorbar\": {\"outlinewidth\": 0, \"ticks\": \"\"}, \"colorscale\": [[0.0, \"#0d0887\"], [0.1111111111111111, \"#46039f\"], [0.2222222222222222, \"#7201a8\"], [0.3333333333333333, \"#9c179e\"], [0.4444444444444444, \"#bd3786\"], [0.5555555555555556, \"#d8576b\"], [0.6666666666666666, \"#ed7953\"], [0.7777777777777778, \"#fb9f3a\"], [0.8888888888888888, \"#fdca26\"], [1.0, \"#f0f921\"]], \"type\": \"contour\"}], \"contourcarpet\": [{\"colorbar\": {\"outlinewidth\": 0, \"ticks\": \"\"}, \"type\": \"contourcarpet\"}], \"heatmap\": [{\"colorbar\": {\"outlinewidth\": 0, \"ticks\": \"\"}, \"colorscale\": [[0.0, \"#0d0887\"], [0.1111111111111111, \"#46039f\"], [0.2222222222222222, \"#7201a8\"], [0.3333333333333333, \"#9c179e\"], [0.4444444444444444, \"#bd3786\"], [0.5555555555555556, \"#d8576b\"], [0.6666666666666666, \"#ed7953\"], [0.7777777777777778, \"#fb9f3a\"], [0.8888888888888888, \"#fdca26\"], [1.0, \"#f0f921\"]], \"type\": \"heatmap\"}], \"heatmapgl\": [{\"colorbar\": {\"outlinewidth\": 0, \"ticks\": \"\"}, \"colorscale\": [[0.0, \"#0d0887\"], [0.1111111111111111, \"#46039f\"], [0.2222222222222222, \"#7201a8\"], [0.3333333333333333, \"#9c179e\"], [0.4444444444444444, \"#bd3786\"], [0.5555555555555556, \"#d8576b\"], [0.6666666666666666, \"#ed7953\"], [0.7777777777777778, \"#fb9f3a\"], [0.8888888888888888, \"#fdca26\"], [1.0, \"#f0f921\"]], \"type\": \"heatmapgl\"}], \"histogram\": [{\"marker\": {\"colorbar\": {\"outlinewidth\": 0, \"ticks\": \"\"}}, \"type\": \"histogram\"}], \"histogram2d\": [{\"colorbar\": {\"outlinewidth\": 0, \"ticks\": \"\"}, \"colorscale\": [[0.0, \"#0d0887\"], [0.1111111111111111, \"#46039f\"], [0.2222222222222222, \"#7201a8\"], [0.3333333333333333, \"#9c179e\"], [0.4444444444444444, \"#bd3786\"], [0.5555555555555556, \"#d8576b\"], [0.6666666666666666, \"#ed7953\"], [0.7777777777777778, \"#fb9f3a\"], [0.8888888888888888, \"#fdca26\"], [1.0, \"#f0f921\"]], \"type\": \"histogram2d\"}], \"histogram2dcontour\": [{\"colorbar\": {\"outlinewidth\": 0, \"ticks\": \"\"}, \"colorscale\": [[0.0, \"#0d0887\"], [0.1111111111111111, \"#46039f\"], [0.2222222222222222, \"#7201a8\"], [0.3333333333333333, \"#9c179e\"], [0.4444444444444444, \"#bd3786\"], [0.5555555555555556, \"#d8576b\"], [0.6666666666666666, \"#ed7953\"], [0.7777777777777778, \"#fb9f3a\"], [0.8888888888888888, \"#fdca26\"], [1.0, \"#f0f921\"]], \"type\": \"histogram2dcontour\"}], \"mesh3d\": [{\"colorbar\": {\"outlinewidth\": 0, \"ticks\": \"\"}, \"type\": \"mesh3d\"}], \"parcoords\": [{\"line\": {\"colorbar\": {\"outlinewidth\": 0, \"ticks\": \"\"}}, \"type\": \"parcoords\"}], \"pie\": [{\"automargin\": true, \"type\": \"pie\"}], \"scatter\": [{\"marker\": {\"colorbar\": {\"outlinewidth\": 0, \"ticks\": \"\"}}, \"type\": \"scatter\"}], \"scatter3d\": [{\"line\": {\"colorbar\": {\"outlinewidth\": 0, \"ticks\": \"\"}}, \"marker\": {\"colorbar\": {\"outlinewidth\": 0, \"ticks\": \"\"}}, \"type\": \"scatter3d\"}], \"scattercarpet\": [{\"marker\": {\"colorbar\": {\"outlinewidth\": 0, \"ticks\": \"\"}}, \"type\": \"scattercarpet\"}], \"scattergeo\": [{\"marker\": {\"colorbar\": {\"outlinewidth\": 0, \"ticks\": \"\"}}, \"type\": \"scattergeo\"}], \"scattergl\": [{\"marker\": {\"colorbar\": {\"outlinewidth\": 0, \"ticks\": \"\"}}, \"type\": \"scattergl\"}], \"scattermapbox\": [{\"marker\": {\"colorbar\": {\"outlinewidth\": 0, \"ticks\": \"\"}}, \"type\": \"scattermapbox\"}], \"scatterpolar\": [{\"marker\": {\"colorbar\": {\"outlinewidth\": 0, \"ticks\": \"\"}}, \"type\": \"scatterpolar\"}], \"scatterpolargl\": [{\"marker\": {\"colorbar\": {\"outlinewidth\": 0, \"ticks\": \"\"}}, \"type\": \"scatterpolargl\"}], \"scatterternary\": [{\"marker\": {\"colorbar\": {\"outlinewidth\": 0, \"ticks\": \"\"}}, \"type\": \"scatterternary\"}], \"surface\": [{\"colorbar\": {\"outlinewidth\": 0, \"ticks\": \"\"}, \"colorscale\": [[0.0, \"#0d0887\"], [0.1111111111111111, \"#46039f\"], [0.2222222222222222, \"#7201a8\"], [0.3333333333333333, \"#9c179e\"], [0.4444444444444444, \"#bd3786\"], [0.5555555555555556, \"#d8576b\"], [0.6666666666666666, \"#ed7953\"], [0.7777777777777778, \"#fb9f3a\"], [0.8888888888888888, \"#fdca26\"], [1.0, \"#f0f921\"]], \"type\": \"surface\"}], \"table\": [{\"cells\": {\"fill\": {\"color\": \"#EBF0F8\"}, \"line\": {\"color\": \"white\"}}, \"header\": {\"fill\": {\"color\": \"#C8D4E3\"}, \"line\": {\"color\": \"white\"}}, \"type\": \"table\"}]}, \"layout\": {\"annotationdefaults\": {\"arrowcolor\": \"#2a3f5f\", \"arrowhead\": 0, \"arrowwidth\": 1}, \"coloraxis\": {\"colorbar\": {\"outlinewidth\": 0, \"ticks\": \"\"}}, \"colorscale\": {\"diverging\": [[0, \"#8e0152\"], [0.1, \"#c51b7d\"], [0.2, \"#de77ae\"], [0.3, \"#f1b6da\"], [0.4, \"#fde0ef\"], [0.5, \"#f7f7f7\"], [0.6, \"#e6f5d0\"], [0.7, \"#b8e186\"], [0.8, \"#7fbc41\"], [0.9, \"#4d9221\"], [1, \"#276419\"]], \"sequential\": [[0.0, \"#0d0887\"], [0.1111111111111111, \"#46039f\"], [0.2222222222222222, \"#7201a8\"], [0.3333333333333333, \"#9c179e\"], [0.4444444444444444, \"#bd3786\"], [0.5555555555555556, \"#d8576b\"], [0.6666666666666666, \"#ed7953\"], [0.7777777777777778, \"#fb9f3a\"], [0.8888888888888888, \"#fdca26\"], [1.0, \"#f0f921\"]], \"sequentialminus\": [[0.0, \"#0d0887\"], [0.1111111111111111, \"#46039f\"], [0.2222222222222222, \"#7201a8\"], [0.3333333333333333, \"#9c179e\"], [0.4444444444444444, \"#bd3786\"], [0.5555555555555556, \"#d8576b\"], [0.6666666666666666, \"#ed7953\"], [0.7777777777777778, \"#fb9f3a\"], [0.8888888888888888, \"#fdca26\"], [1.0, \"#f0f921\"]]}, \"colorway\": [\"#636efa\", \"#EF553B\", \"#00cc96\", \"#ab63fa\", \"#FFA15A\", \"#19d3f3\", \"#FF6692\", \"#B6E880\", \"#FF97FF\", \"#FECB52\"], \"font\": {\"color\": \"#2a3f5f\"}, \"geo\": {\"bgcolor\": \"white\", \"lakecolor\": \"white\", \"landcolor\": \"#E5ECF6\", \"showlakes\": true, \"showland\": true, \"subunitcolor\": \"white\"}, \"hoverlabel\": {\"align\": \"left\"}, \"hovermode\": \"closest\", \"mapbox\": {\"style\": \"light\"}, \"paper_bgcolor\": \"white\", \"plot_bgcolor\": \"#E5ECF6\", \"polar\": {\"angularaxis\": {\"gridcolor\": \"white\", \"linecolor\": \"white\", \"ticks\": \"\"}, \"bgcolor\": \"#E5ECF6\", \"radialaxis\": {\"gridcolor\": \"white\", \"linecolor\": \"white\", \"ticks\": \"\"}}, \"scene\": {\"xaxis\": {\"backgroundcolor\": \"#E5ECF6\", \"gridcolor\": \"white\", \"gridwidth\": 2, \"linecolor\": \"white\", \"showbackground\": true, \"ticks\": \"\", \"zerolinecolor\": \"white\"}, \"yaxis\": {\"backgroundcolor\": \"#E5ECF6\", \"gridcolor\": \"white\", \"gridwidth\": 2, \"linecolor\": \"white\", \"showbackground\": true, \"ticks\": \"\", \"zerolinecolor\": \"white\"}, \"zaxis\": {\"backgroundcolor\": \"#E5ECF6\", \"gridcolor\": \"white\", \"gridwidth\": 2, \"linecolor\": \"white\", \"showbackground\": true, \"ticks\": \"\", \"zerolinecolor\": \"white\"}}, \"shapedefaults\": {\"line\": {\"color\": \"#2a3f5f\"}}, \"ternary\": {\"aaxis\": {\"gridcolor\": \"white\", \"linecolor\": \"white\", \"ticks\": \"\"}, \"baxis\": {\"gridcolor\": \"white\", \"linecolor\": \"white\", \"ticks\": \"\"}, \"bgcolor\": \"#E5ECF6\", \"caxis\": {\"gridcolor\": \"white\", \"linecolor\": \"white\", \"ticks\": \"\"}}, \"title\": {\"x\": 0.05}, \"xaxis\": {\"automargin\": true, \"gridcolor\": \"white\", \"linecolor\": \"white\", \"ticks\": \"\", \"title\": {\"standoff\": 15}, \"zerolinecolor\": \"white\", \"zerolinewidth\": 2}, \"yaxis\": {\"automargin\": true, \"gridcolor\": \"white\", \"linecolor\": \"white\", \"ticks\": \"\", \"title\": {\"standoff\": 15}, \"zerolinecolor\": \"white\", \"zerolinewidth\": 2}}}, \"title\": {\"text\": \"Device Plots\"}, \"width\": 1200, \"xaxis\": {\"anchor\": \"y\", \"domain\": [0.0, 0.2888888888888889]}, \"xaxis2\": {\"anchor\": \"y2\", \"domain\": [0.35555555555555557, 0.6444444444444445]}, \"xaxis3\": {\"anchor\": \"y3\", \"domain\": [0.7111111111111111, 1.0]}, \"xaxis4\": {\"anchor\": \"y4\", \"domain\": [0.0, 0.2888888888888889]}, \"xaxis5\": {\"anchor\": \"y5\", \"domain\": [0.35555555555555557, 0.6444444444444445]}, \"xaxis6\": {\"anchor\": \"y6\", \"domain\": [0.7111111111111111, 1.0]}, \"xaxis7\": {\"anchor\": \"y7\", \"domain\": [0.0, 0.2888888888888889]}, \"xaxis8\": {\"anchor\": \"y8\", \"domain\": [0.35555555555555557, 0.6444444444444445]}, \"xaxis9\": {\"anchor\": \"y9\", \"domain\": [0.7111111111111111, 1.0]}, \"yaxis\": {\"anchor\": \"x\", \"domain\": [0.6933333333333334, 1.0]}, \"yaxis2\": {\"anchor\": \"x2\", \"domain\": [0.6933333333333334, 1.0]}, \"yaxis3\": {\"anchor\": \"x3\", \"domain\": [0.6933333333333334, 1.0]}, \"yaxis4\": {\"anchor\": \"x4\", \"domain\": [0.3466666666666667, 0.6533333333333333]}, \"yaxis5\": {\"anchor\": \"x5\", \"domain\": [0.3466666666666667, 0.6533333333333333]}, \"yaxis6\": {\"anchor\": \"x6\", \"domain\": [0.3466666666666667, 0.6533333333333333]}, \"yaxis7\": {\"anchor\": \"x7\", \"domain\": [0.0, 0.3066666666666667]}, \"yaxis8\": {\"anchor\": \"x8\", \"domain\": [0.0, 0.3066666666666667]}, \"yaxis9\": {\"anchor\": \"x9\", \"domain\": [0.0, 0.3066666666666667]}},                        {\"responsive\": true}                    ).then(function(){\n",
       "                            \n",
       "var gd = document.getElementById('a3b7a5d7-95cd-43f0-9667-e387bd06c608');\n",
       "var x = new MutationObserver(function (mutations, observer) {{\n",
       "        var display = window.getComputedStyle(gd).display;\n",
       "        if (!display || display === 'none') {{\n",
       "            console.log([gd, 'removed!']);\n",
       "            Plotly.purge(gd);\n",
       "            observer.disconnect();\n",
       "        }}\n",
       "}});\n",
       "\n",
       "// Listen for the removal of the full notebook cells\n",
       "var notebookContainer = gd.closest('#notebook-container');\n",
       "if (notebookContainer) {{\n",
       "    x.observe(notebookContainer, {childList: true});\n",
       "}}\n",
       "\n",
       "// Listen for the clearing of the current output cell\n",
       "var outputEl = gd.closest('.output');\n",
       "if (outputEl) {{\n",
       "    x.observe(outputEl, {childList: true});\n",
       "}}\n",
       "\n",
       "                        })                };                });            </script>        </div>"
      ]
     },
     "metadata": {},
     "output_type": "display_data"
    }
   ],
   "source": [
    "def horizontal_bar_chart(cnt_srs, color):\n",
    "    trace = go.Bar(\n",
    "        y=cnt_srs.index[::-1],\n",
    "        x=cnt_srs.values[::-1],\n",
    "        showlegend=False,\n",
    "        orientation = 'h',\n",
    "        marker=dict(\n",
    "            color=color,\n",
    "        ),\n",
    "    )\n",
    "    return trace\n",
    "\n",
    "# Device Browser\n",
    "cnt_srs = train_df.groupby('device.browser')['totals.transactionRevenue'].agg(['size', 'count', 'mean'])\n",
    "cnt_srs.columns = [\"count\", \"count of non-zero revenue\", \"mean\"]\n",
    "cnt_srs = cnt_srs.sort_values(by=\"count\", ascending=False)\n",
    "trace1 = horizontal_bar_chart(cnt_srs[\"count\"].head(10), 'rgba(50, 171, 96, 0.6)')\n",
    "trace2 = horizontal_bar_chart(cnt_srs[\"count of non-zero revenue\"].head(10), 'rgba(50, 171, 96, 0.6)')\n",
    "trace3 = horizontal_bar_chart(cnt_srs[\"mean\"].head(10), 'rgba(50, 171, 96, 0.6)')\n",
    "\n",
    "# Device Category\n",
    "cnt_srs = train_df.groupby('device.deviceCategory')['totals.transactionRevenue'].agg(['size', 'count', 'mean'])\n",
    "cnt_srs.columns = [\"count\", \"count of non-zero revenue\", \"mean\"]\n",
    "cnt_srs = cnt_srs.sort_values(by=\"count\", ascending=False)\n",
    "trace4 = horizontal_bar_chart(cnt_srs[\"count\"].head(10), 'rgba(71, 58, 131, 0.8)')\n",
    "trace5 = horizontal_bar_chart(cnt_srs[\"count of non-zero revenue\"].head(10), 'rgba(71, 58, 131, 0.8)')\n",
    "trace6 = horizontal_bar_chart(cnt_srs[\"mean\"].head(10), 'rgba(71, 58, 131, 0.8)')\n",
    "\n",
    "# Operating system\n",
    "cnt_srs = train_df.groupby('device.operatingSystem')['totals.transactionRevenue'].agg(['size', 'count', 'mean'])\n",
    "cnt_srs.columns = [\"count\", \"count of non-zero revenue\", \"mean\"]\n",
    "cnt_srs = cnt_srs.sort_values(by=\"count\", ascending=False)\n",
    "trace7 = horizontal_bar_chart(cnt_srs[\"count\"].head(10), 'rgba(246, 78, 139, 0.6)')\n",
    "trace8 = horizontal_bar_chart(cnt_srs[\"count of non-zero revenue\"].head(10),'rgba(246, 78, 139, 0.6)')\n",
    "trace9 = horizontal_bar_chart(cnt_srs[\"mean\"].head(10),'rgba(246, 78, 139, 0.6)')\n",
    "\n",
    "# Creating two subplots\n",
    "fig = tools.make_subplots(rows=3, cols=3, vertical_spacing=0.04, \n",
    "                          subplot_titles=[\"Device Browser - Count\", \"Device Browser - Non-zero Revenue Count\", \"Device Browser - Mean Revenue\",\n",
    "                                          \"Device Category - Count\",  \"Device Category - Non-zero Revenue Count\", \"Device Category - Mean Revenue\", \n",
    "                                          \"Device OS - Count\", \"Device OS - Non-zero Revenue Count\", \"Device OS - Mean Revenue\"])\n",
    "\n",
    "fig.append_trace(trace1, 1, 1)\n",
    "fig.append_trace(trace2, 1, 2)\n",
    "fig.append_trace(trace3, 1, 3)\n",
    "fig.append_trace(trace4, 2, 1)\n",
    "fig.append_trace(trace5, 2, 2)\n",
    "fig.append_trace(trace6, 2, 3)\n",
    "fig.append_trace(trace7, 3, 1)\n",
    "fig.append_trace(trace8, 3, 2)\n",
    "fig.append_trace(trace9, 3, 3)\n",
    "\n",
    "fig['layout'].update(height=1200, width=1200, paper_bgcolor='rgb(233,233,233)', title=\"Device Plots\")\n",
    "py.iplot(fig, filename='device-plots')"
   ]
  },
  {
   "cell_type": "code",
   "execution_count": 14,
   "metadata": {},
   "outputs": [
    {
     "name": "stderr",
     "output_type": "stream",
     "text": [
      "/home/haythem/anaconda3/lib/python3.8/site-packages/plotly/tools.py:461: DeprecationWarning:\n",
      "\n",
      "plotly.tools.make_subplots is deprecated, please use plotly.subplots.make_subplots instead\n",
      "\n"
     ]
    },
    {
     "data": {
      "application/vnd.plotly.v1+json": {
       "config": {
        "linkText": "Export to plot.ly",
        "plotlyServerURL": "https://plot.ly",
        "showLink": false
       },
       "data": [
        {
         "marker": {
          "color": "rgba(58, 71, 80, 0.6)"
         },
         "orientation": "h",
         "showlegend": false,
         "type": "bar",
         "x": [
          1468,
          14745,
          15054,
          198311,
          223698,
          450377
         ],
         "xaxis": "x",
         "y": [
          "(not set)",
          "Africa",
          "Oceania",
          "Europe",
          "Asia",
          "Americas"
         ],
         "yaxis": "y"
        },
        {
         "marker": {
          "color": "rgba(58, 71, 80, 0.6)"
         },
         "orientation": "h",
         "showlegend": false,
         "type": "bar",
         "x": [
          6,
          8,
          14,
          79,
          125,
          11283
         ],
         "xaxis": "x2",
         "y": [
          "(not set)",
          "Africa",
          "Oceania",
          "Europe",
          "Asia",
          "Americas"
         ],
         "yaxis": "y2"
        },
        {
         "marker": {
          "color": "rgba(58, 71, 80, 0.6)"
         },
         "orientation": "h",
         "showlegend": false,
         "type": "bar",
         "x": [
          128296666.66666667,
          1085970000,
          128087857.14285715,
          85405443.03797469,
          139214720,
          133357404.94549322
         ],
         "xaxis": "x3",
         "y": [
          "(not set)",
          "Africa",
          "Oceania",
          "Europe",
          "Asia",
          "Americas"
         ],
         "yaxis": "y3"
        },
        {
         "marker": {
          "color": "orange"
         },
         "orientation": "h",
         "showlegend": false,
         "type": "bar",
         "x": [
          25,
          55,
          81,
          393,
          1215,
          1468,
          1927,
          2169,
          2406,
          2573,
          7683,
          14893,
          15583,
          35780,
          38443,
          41731,
          45249,
          46919,
          58168,
          59114,
          59321,
          77800,
          390657
         ],
         "xaxis": "x4",
         "y": [
          "Polynesia",
          "Micronesian Region",
          "Melanesia",
          "Middle Africa",
          "Central Asia",
          "(not set)",
          "Eastern Africa",
          "Southern Africa",
          "Caribbean",
          "Western Africa",
          "Northern Africa",
          "Australasia",
          "Central America",
          "Southern Europe",
          "Western Asia",
          "South America",
          "Eastern Europe",
          "Eastern Asia",
          "Northern Europe",
          "Western Europe",
          "Southern Asia",
          "Southeast Asia",
          "Northern America"
         ],
         "yaxis": "y4"
        },
        {
         "marker": {
          "color": "orange"
         },
         "orientation": "h",
         "showlegend": false,
         "type": "bar",
         "x": [
          0,
          0,
          0,
          0,
          2,
          6,
          3,
          2,
          16,
          2,
          1,
          14,
          26,
          8,
          21,
          98,
          14,
          59,
          27,
          30,
          11,
          32,
          11143
         ],
         "xaxis": "x5",
         "y": [
          "Polynesia",
          "Micronesian Region",
          "Melanesia",
          "Middle Africa",
          "Central Asia",
          "(not set)",
          "Eastern Africa",
          "Southern Africa",
          "Caribbean",
          "Western Africa",
          "Northern Africa",
          "Australasia",
          "Central America",
          "Southern Europe",
          "Western Asia",
          "South America",
          "Eastern Europe",
          "Eastern Asia",
          "Northern Europe",
          "Western Europe",
          "Southern Asia",
          "Southeast Asia",
          "Northern America"
         ],
         "yaxis": "y5"
        },
        {
         "marker": {
          "color": "orange"
         },
         "orientation": "h",
         "showlegend": false,
         "type": "bar",
         "x": [
          null,
          null,
          null,
          null,
          17490000,
          128296666.66666667,
          1756233333.3333333,
          32850000,
          97721875,
          1651200000,
          50960000,
          128087857.14285715,
          73290384.61538461,
          120501250,
          84811428.57142857,
          162625612.24489796,
          67628571.42857143,
          187715593.22033897,
          73847407.4074074,
          94744666.66666667,
          68600909.0909091,
          117374687.5,
          133291321.00870502
         ],
         "xaxis": "x6",
         "y": [
          "Polynesia",
          "Micronesian Region",
          "Melanesia",
          "Middle Africa",
          "Central Asia",
          "(not set)",
          "Eastern Africa",
          "Southern Africa",
          "Caribbean",
          "Western Africa",
          "Northern Africa",
          "Australasia",
          "Central America",
          "Southern Europe",
          "Western Asia",
          "South America",
          "Eastern Europe",
          "Eastern Asia",
          "Northern Europe",
          "Western Europe",
          "Southern Asia",
          "Southeast Asia",
          "Northern America"
         ],
         "yaxis": "y6"
        },
        {
         "marker": {
          "color": "blue"
         },
         "orientation": "h",
         "showlegend": false,
         "type": "bar",
         "x": [
          6046,
          6414,
          7919,
          9985,
          13228,
          13637,
          14827,
          28743,
          146034,
          244881
         ],
         "xaxis": "x7",
         "y": [
          "3bb.co.th",
          "virginm.net",
          "hinet.net",
          "comcastbusiness.net",
          "ttnet.com.tr",
          "verizon.net",
          "rr.com",
          "comcast.net",
          "unknown.unknown",
          "(not set)"
         ],
         "yaxis": "y7"
        },
        {
         "marker": {
          "color": "blue"
         },
         "orientation": "h",
         "showlegend": false,
         "type": "bar",
         "x": [
          1,
          1,
          11,
          294,
          1,
          469,
          364,
          934,
          400,
          6645
         ],
         "xaxis": "x8",
         "y": [
          "3bb.co.th",
          "virginm.net",
          "hinet.net",
          "comcastbusiness.net",
          "ttnet.com.tr",
          "verizon.net",
          "rr.com",
          "comcast.net",
          "unknown.unknown",
          "(not set)"
         ],
         "yaxis": "y8"
        },
        {
         "marker": {
          "color": "blue"
         },
         "orientation": "h",
         "showlegend": false,
         "type": "bar",
         "x": [
          140590000,
          62270000,
          60891818.18181818,
          497096632.6530612,
          17460000,
          112833624.73347548,
          82780714.28571428,
          131873201.28479658,
          87253850,
          127654487.58465011
         ],
         "xaxis": "x9",
         "y": [
          "3bb.co.th",
          "virginm.net",
          "hinet.net",
          "comcastbusiness.net",
          "ttnet.com.tr",
          "verizon.net",
          "rr.com",
          "comcast.net",
          "unknown.unknown",
          "(not set)"
         ],
         "yaxis": "y9"
        }
       ],
       "layout": {
        "annotations": [
         {
          "font": {
           "size": 16
          },
          "showarrow": false,
          "text": "Continent - Count",
          "x": 0.11666666666666665,
          "xanchor": "center",
          "xref": "paper",
          "y": 1,
          "yanchor": "bottom",
          "yref": "paper"
         },
         {
          "font": {
           "size": 16
          },
          "showarrow": false,
          "text": "Continent - Non-zero Revenue Count",
          "x": 0.49999999999999994,
          "xanchor": "center",
          "xref": "paper",
          "y": 1,
          "yanchor": "bottom",
          "yref": "paper"
         },
         {
          "font": {
           "size": 16
          },
          "showarrow": false,
          "text": "Continent - Mean Revenue",
          "x": 0.8833333333333333,
          "xanchor": "center",
          "xref": "paper",
          "y": 1,
          "yanchor": "bottom",
          "yref": "paper"
         },
         {
          "font": {
           "size": 16
          },
          "showarrow": false,
          "text": "Sub Continent - Count",
          "x": 0.11666666666666665,
          "xanchor": "center",
          "xref": "paper",
          "y": 0.6399999999999999,
          "yanchor": "bottom",
          "yref": "paper"
         },
         {
          "font": {
           "size": 16
          },
          "showarrow": false,
          "text": "Sub Continent - Non-zero Revenue Count",
          "x": 0.49999999999999994,
          "xanchor": "center",
          "xref": "paper",
          "y": 0.6399999999999999,
          "yanchor": "bottom",
          "yref": "paper"
         },
         {
          "font": {
           "size": 16
          },
          "showarrow": false,
          "text": "Sub Continent - Mean Revenue",
          "x": 0.8833333333333333,
          "xanchor": "center",
          "xref": "paper",
          "y": 0.6399999999999999,
          "yanchor": "bottom",
          "yref": "paper"
         },
         {
          "font": {
           "size": 16
          },
          "showarrow": false,
          "text": "Network Domain - Count",
          "x": 0.11666666666666665,
          "xanchor": "center",
          "xref": "paper",
          "y": 0.27999999999999997,
          "yanchor": "bottom",
          "yref": "paper"
         },
         {
          "font": {
           "size": 16
          },
          "showarrow": false,
          "text": "Network Domain - Non-zero Revenue Count",
          "x": 0.49999999999999994,
          "xanchor": "center",
          "xref": "paper",
          "y": 0.27999999999999997,
          "yanchor": "bottom",
          "yref": "paper"
         },
         {
          "font": {
           "size": 16
          },
          "showarrow": false,
          "text": "Network Domain - Mean Revenue",
          "x": 0.8833333333333333,
          "xanchor": "center",
          "xref": "paper",
          "y": 0.27999999999999997,
          "yanchor": "bottom",
          "yref": "paper"
         }
        ],
        "height": 1500,
        "paper_bgcolor": "rgb(233,233,233)",
        "template": {
         "data": {
          "bar": [
           {
            "error_x": {
             "color": "#2a3f5f"
            },
            "error_y": {
             "color": "#2a3f5f"
            },
            "marker": {
             "line": {
              "color": "#E5ECF6",
              "width": 0.5
             }
            },
            "type": "bar"
           }
          ],
          "barpolar": [
           {
            "marker": {
             "line": {
              "color": "#E5ECF6",
              "width": 0.5
             }
            },
            "type": "barpolar"
           }
          ],
          "carpet": [
           {
            "aaxis": {
             "endlinecolor": "#2a3f5f",
             "gridcolor": "white",
             "linecolor": "white",
             "minorgridcolor": "white",
             "startlinecolor": "#2a3f5f"
            },
            "baxis": {
             "endlinecolor": "#2a3f5f",
             "gridcolor": "white",
             "linecolor": "white",
             "minorgridcolor": "white",
             "startlinecolor": "#2a3f5f"
            },
            "type": "carpet"
           }
          ],
          "choropleth": [
           {
            "colorbar": {
             "outlinewidth": 0,
             "ticks": ""
            },
            "type": "choropleth"
           }
          ],
          "contour": [
           {
            "colorbar": {
             "outlinewidth": 0,
             "ticks": ""
            },
            "colorscale": [
             [
              0,
              "#0d0887"
             ],
             [
              0.1111111111111111,
              "#46039f"
             ],
             [
              0.2222222222222222,
              "#7201a8"
             ],
             [
              0.3333333333333333,
              "#9c179e"
             ],
             [
              0.4444444444444444,
              "#bd3786"
             ],
             [
              0.5555555555555556,
              "#d8576b"
             ],
             [
              0.6666666666666666,
              "#ed7953"
             ],
             [
              0.7777777777777778,
              "#fb9f3a"
             ],
             [
              0.8888888888888888,
              "#fdca26"
             ],
             [
              1,
              "#f0f921"
             ]
            ],
            "type": "contour"
           }
          ],
          "contourcarpet": [
           {
            "colorbar": {
             "outlinewidth": 0,
             "ticks": ""
            },
            "type": "contourcarpet"
           }
          ],
          "heatmap": [
           {
            "colorbar": {
             "outlinewidth": 0,
             "ticks": ""
            },
            "colorscale": [
             [
              0,
              "#0d0887"
             ],
             [
              0.1111111111111111,
              "#46039f"
             ],
             [
              0.2222222222222222,
              "#7201a8"
             ],
             [
              0.3333333333333333,
              "#9c179e"
             ],
             [
              0.4444444444444444,
              "#bd3786"
             ],
             [
              0.5555555555555556,
              "#d8576b"
             ],
             [
              0.6666666666666666,
              "#ed7953"
             ],
             [
              0.7777777777777778,
              "#fb9f3a"
             ],
             [
              0.8888888888888888,
              "#fdca26"
             ],
             [
              1,
              "#f0f921"
             ]
            ],
            "type": "heatmap"
           }
          ],
          "heatmapgl": [
           {
            "colorbar": {
             "outlinewidth": 0,
             "ticks": ""
            },
            "colorscale": [
             [
              0,
              "#0d0887"
             ],
             [
              0.1111111111111111,
              "#46039f"
             ],
             [
              0.2222222222222222,
              "#7201a8"
             ],
             [
              0.3333333333333333,
              "#9c179e"
             ],
             [
              0.4444444444444444,
              "#bd3786"
             ],
             [
              0.5555555555555556,
              "#d8576b"
             ],
             [
              0.6666666666666666,
              "#ed7953"
             ],
             [
              0.7777777777777778,
              "#fb9f3a"
             ],
             [
              0.8888888888888888,
              "#fdca26"
             ],
             [
              1,
              "#f0f921"
             ]
            ],
            "type": "heatmapgl"
           }
          ],
          "histogram": [
           {
            "marker": {
             "colorbar": {
              "outlinewidth": 0,
              "ticks": ""
             }
            },
            "type": "histogram"
           }
          ],
          "histogram2d": [
           {
            "colorbar": {
             "outlinewidth": 0,
             "ticks": ""
            },
            "colorscale": [
             [
              0,
              "#0d0887"
             ],
             [
              0.1111111111111111,
              "#46039f"
             ],
             [
              0.2222222222222222,
              "#7201a8"
             ],
             [
              0.3333333333333333,
              "#9c179e"
             ],
             [
              0.4444444444444444,
              "#bd3786"
             ],
             [
              0.5555555555555556,
              "#d8576b"
             ],
             [
              0.6666666666666666,
              "#ed7953"
             ],
             [
              0.7777777777777778,
              "#fb9f3a"
             ],
             [
              0.8888888888888888,
              "#fdca26"
             ],
             [
              1,
              "#f0f921"
             ]
            ],
            "type": "histogram2d"
           }
          ],
          "histogram2dcontour": [
           {
            "colorbar": {
             "outlinewidth": 0,
             "ticks": ""
            },
            "colorscale": [
             [
              0,
              "#0d0887"
             ],
             [
              0.1111111111111111,
              "#46039f"
             ],
             [
              0.2222222222222222,
              "#7201a8"
             ],
             [
              0.3333333333333333,
              "#9c179e"
             ],
             [
              0.4444444444444444,
              "#bd3786"
             ],
             [
              0.5555555555555556,
              "#d8576b"
             ],
             [
              0.6666666666666666,
              "#ed7953"
             ],
             [
              0.7777777777777778,
              "#fb9f3a"
             ],
             [
              0.8888888888888888,
              "#fdca26"
             ],
             [
              1,
              "#f0f921"
             ]
            ],
            "type": "histogram2dcontour"
           }
          ],
          "mesh3d": [
           {
            "colorbar": {
             "outlinewidth": 0,
             "ticks": ""
            },
            "type": "mesh3d"
           }
          ],
          "parcoords": [
           {
            "line": {
             "colorbar": {
              "outlinewidth": 0,
              "ticks": ""
             }
            },
            "type": "parcoords"
           }
          ],
          "pie": [
           {
            "automargin": true,
            "type": "pie"
           }
          ],
          "scatter": [
           {
            "marker": {
             "colorbar": {
              "outlinewidth": 0,
              "ticks": ""
             }
            },
            "type": "scatter"
           }
          ],
          "scatter3d": [
           {
            "line": {
             "colorbar": {
              "outlinewidth": 0,
              "ticks": ""
             }
            },
            "marker": {
             "colorbar": {
              "outlinewidth": 0,
              "ticks": ""
             }
            },
            "type": "scatter3d"
           }
          ],
          "scattercarpet": [
           {
            "marker": {
             "colorbar": {
              "outlinewidth": 0,
              "ticks": ""
             }
            },
            "type": "scattercarpet"
           }
          ],
          "scattergeo": [
           {
            "marker": {
             "colorbar": {
              "outlinewidth": 0,
              "ticks": ""
             }
            },
            "type": "scattergeo"
           }
          ],
          "scattergl": [
           {
            "marker": {
             "colorbar": {
              "outlinewidth": 0,
              "ticks": ""
             }
            },
            "type": "scattergl"
           }
          ],
          "scattermapbox": [
           {
            "marker": {
             "colorbar": {
              "outlinewidth": 0,
              "ticks": ""
             }
            },
            "type": "scattermapbox"
           }
          ],
          "scatterpolar": [
           {
            "marker": {
             "colorbar": {
              "outlinewidth": 0,
              "ticks": ""
             }
            },
            "type": "scatterpolar"
           }
          ],
          "scatterpolargl": [
           {
            "marker": {
             "colorbar": {
              "outlinewidth": 0,
              "ticks": ""
             }
            },
            "type": "scatterpolargl"
           }
          ],
          "scatterternary": [
           {
            "marker": {
             "colorbar": {
              "outlinewidth": 0,
              "ticks": ""
             }
            },
            "type": "scatterternary"
           }
          ],
          "surface": [
           {
            "colorbar": {
             "outlinewidth": 0,
             "ticks": ""
            },
            "colorscale": [
             [
              0,
              "#0d0887"
             ],
             [
              0.1111111111111111,
              "#46039f"
             ],
             [
              0.2222222222222222,
              "#7201a8"
             ],
             [
              0.3333333333333333,
              "#9c179e"
             ],
             [
              0.4444444444444444,
              "#bd3786"
             ],
             [
              0.5555555555555556,
              "#d8576b"
             ],
             [
              0.6666666666666666,
              "#ed7953"
             ],
             [
              0.7777777777777778,
              "#fb9f3a"
             ],
             [
              0.8888888888888888,
              "#fdca26"
             ],
             [
              1,
              "#f0f921"
             ]
            ],
            "type": "surface"
           }
          ],
          "table": [
           {
            "cells": {
             "fill": {
              "color": "#EBF0F8"
             },
             "line": {
              "color": "white"
             }
            },
            "header": {
             "fill": {
              "color": "#C8D4E3"
             },
             "line": {
              "color": "white"
             }
            },
            "type": "table"
           }
          ]
         },
         "layout": {
          "annotationdefaults": {
           "arrowcolor": "#2a3f5f",
           "arrowhead": 0,
           "arrowwidth": 1
          },
          "coloraxis": {
           "colorbar": {
            "outlinewidth": 0,
            "ticks": ""
           }
          },
          "colorscale": {
           "diverging": [
            [
             0,
             "#8e0152"
            ],
            [
             0.1,
             "#c51b7d"
            ],
            [
             0.2,
             "#de77ae"
            ],
            [
             0.3,
             "#f1b6da"
            ],
            [
             0.4,
             "#fde0ef"
            ],
            [
             0.5,
             "#f7f7f7"
            ],
            [
             0.6,
             "#e6f5d0"
            ],
            [
             0.7,
             "#b8e186"
            ],
            [
             0.8,
             "#7fbc41"
            ],
            [
             0.9,
             "#4d9221"
            ],
            [
             1,
             "#276419"
            ]
           ],
           "sequential": [
            [
             0,
             "#0d0887"
            ],
            [
             0.1111111111111111,
             "#46039f"
            ],
            [
             0.2222222222222222,
             "#7201a8"
            ],
            [
             0.3333333333333333,
             "#9c179e"
            ],
            [
             0.4444444444444444,
             "#bd3786"
            ],
            [
             0.5555555555555556,
             "#d8576b"
            ],
            [
             0.6666666666666666,
             "#ed7953"
            ],
            [
             0.7777777777777778,
             "#fb9f3a"
            ],
            [
             0.8888888888888888,
             "#fdca26"
            ],
            [
             1,
             "#f0f921"
            ]
           ],
           "sequentialminus": [
            [
             0,
             "#0d0887"
            ],
            [
             0.1111111111111111,
             "#46039f"
            ],
            [
             0.2222222222222222,
             "#7201a8"
            ],
            [
             0.3333333333333333,
             "#9c179e"
            ],
            [
             0.4444444444444444,
             "#bd3786"
            ],
            [
             0.5555555555555556,
             "#d8576b"
            ],
            [
             0.6666666666666666,
             "#ed7953"
            ],
            [
             0.7777777777777778,
             "#fb9f3a"
            ],
            [
             0.8888888888888888,
             "#fdca26"
            ],
            [
             1,
             "#f0f921"
            ]
           ]
          },
          "colorway": [
           "#636efa",
           "#EF553B",
           "#00cc96",
           "#ab63fa",
           "#FFA15A",
           "#19d3f3",
           "#FF6692",
           "#B6E880",
           "#FF97FF",
           "#FECB52"
          ],
          "font": {
           "color": "#2a3f5f"
          },
          "geo": {
           "bgcolor": "white",
           "lakecolor": "white",
           "landcolor": "#E5ECF6",
           "showlakes": true,
           "showland": true,
           "subunitcolor": "white"
          },
          "hoverlabel": {
           "align": "left"
          },
          "hovermode": "closest",
          "mapbox": {
           "style": "light"
          },
          "paper_bgcolor": "white",
          "plot_bgcolor": "#E5ECF6",
          "polar": {
           "angularaxis": {
            "gridcolor": "white",
            "linecolor": "white",
            "ticks": ""
           },
           "bgcolor": "#E5ECF6",
           "radialaxis": {
            "gridcolor": "white",
            "linecolor": "white",
            "ticks": ""
           }
          },
          "scene": {
           "xaxis": {
            "backgroundcolor": "#E5ECF6",
            "gridcolor": "white",
            "gridwidth": 2,
            "linecolor": "white",
            "showbackground": true,
            "ticks": "",
            "zerolinecolor": "white"
           },
           "yaxis": {
            "backgroundcolor": "#E5ECF6",
            "gridcolor": "white",
            "gridwidth": 2,
            "linecolor": "white",
            "showbackground": true,
            "ticks": "",
            "zerolinecolor": "white"
           },
           "zaxis": {
            "backgroundcolor": "#E5ECF6",
            "gridcolor": "white",
            "gridwidth": 2,
            "linecolor": "white",
            "showbackground": true,
            "ticks": "",
            "zerolinecolor": "white"
           }
          },
          "shapedefaults": {
           "line": {
            "color": "#2a3f5f"
           }
          },
          "ternary": {
           "aaxis": {
            "gridcolor": "white",
            "linecolor": "white",
            "ticks": ""
           },
           "baxis": {
            "gridcolor": "white",
            "linecolor": "white",
            "ticks": ""
           },
           "bgcolor": "#E5ECF6",
           "caxis": {
            "gridcolor": "white",
            "linecolor": "white",
            "ticks": ""
           }
          },
          "title": {
           "x": 0.05
          },
          "xaxis": {
           "automargin": true,
           "gridcolor": "white",
           "linecolor": "white",
           "ticks": "",
           "title": {
            "standoff": 15
           },
           "zerolinecolor": "white",
           "zerolinewidth": 2
          },
          "yaxis": {
           "automargin": true,
           "gridcolor": "white",
           "linecolor": "white",
           "ticks": "",
           "title": {
            "standoff": 15
           },
           "zerolinecolor": "white",
           "zerolinewidth": 2
          }
         }
        },
        "title": {
         "text": "Geography Plots"
        },
        "width": 1200,
        "xaxis": {
         "anchor": "y",
         "domain": [
          0,
          0.2333333333333333
         ]
        },
        "xaxis2": {
         "anchor": "y2",
         "domain": [
          0.3833333333333333,
          0.6166666666666666
         ]
        },
        "xaxis3": {
         "anchor": "y3",
         "domain": [
          0.7666666666666666,
          0.9999999999999999
         ]
        },
        "xaxis4": {
         "anchor": "y4",
         "domain": [
          0,
          0.2333333333333333
         ]
        },
        "xaxis5": {
         "anchor": "y5",
         "domain": [
          0.3833333333333333,
          0.6166666666666666
         ]
        },
        "xaxis6": {
         "anchor": "y6",
         "domain": [
          0.7666666666666666,
          0.9999999999999999
         ]
        },
        "xaxis7": {
         "anchor": "y7",
         "domain": [
          0,
          0.2333333333333333
         ]
        },
        "xaxis8": {
         "anchor": "y8",
         "domain": [
          0.3833333333333333,
          0.6166666666666666
         ]
        },
        "xaxis9": {
         "anchor": "y9",
         "domain": [
          0.7666666666666666,
          0.9999999999999999
         ]
        },
        "yaxis": {
         "anchor": "x",
         "domain": [
          0.72,
          1
         ]
        },
        "yaxis2": {
         "anchor": "x2",
         "domain": [
          0.72,
          1
         ]
        },
        "yaxis3": {
         "anchor": "x3",
         "domain": [
          0.72,
          1
         ]
        },
        "yaxis4": {
         "anchor": "x4",
         "domain": [
          0.36,
          0.6399999999999999
         ]
        },
        "yaxis5": {
         "anchor": "x5",
         "domain": [
          0.36,
          0.6399999999999999
         ]
        },
        "yaxis6": {
         "anchor": "x6",
         "domain": [
          0.36,
          0.6399999999999999
         ]
        },
        "yaxis7": {
         "anchor": "x7",
         "domain": [
          0,
          0.27999999999999997
         ]
        },
        "yaxis8": {
         "anchor": "x8",
         "domain": [
          0,
          0.27999999999999997
         ]
        },
        "yaxis9": {
         "anchor": "x9",
         "domain": [
          0,
          0.27999999999999997
         ]
        }
       }
      },
      "text/html": [
       "<div>                            <div id=\"ef9310ae-5736-4ae9-8018-8ced6297249d\" class=\"plotly-graph-div\" style=\"height:1500px; width:1200px;\"></div>            <script type=\"text/javascript\">                require([\"plotly\"], function(Plotly) {                    window.PLOTLYENV=window.PLOTLYENV || {};                                    if (document.getElementById(\"ef9310ae-5736-4ae9-8018-8ced6297249d\")) {                    Plotly.newPlot(                        \"ef9310ae-5736-4ae9-8018-8ced6297249d\",                        [{\"marker\": {\"color\": \"rgba(58, 71, 80, 0.6)\"}, \"orientation\": \"h\", \"showlegend\": false, \"type\": \"bar\", \"x\": [1468, 14745, 15054, 198311, 223698, 450377], \"xaxis\": \"x\", \"y\": [\"(not set)\", \"Africa\", \"Oceania\", \"Europe\", \"Asia\", \"Americas\"], \"yaxis\": \"y\"}, {\"marker\": {\"color\": \"rgba(58, 71, 80, 0.6)\"}, \"orientation\": \"h\", \"showlegend\": false, \"type\": \"bar\", \"x\": [6, 8, 14, 79, 125, 11283], \"xaxis\": \"x2\", \"y\": [\"(not set)\", \"Africa\", \"Oceania\", \"Europe\", \"Asia\", \"Americas\"], \"yaxis\": \"y2\"}, {\"marker\": {\"color\": \"rgba(58, 71, 80, 0.6)\"}, \"orientation\": \"h\", \"showlegend\": false, \"type\": \"bar\", \"x\": [128296666.66666667, 1085970000.0, 128087857.14285715, 85405443.03797469, 139214720.0, 133357404.94549322], \"xaxis\": \"x3\", \"y\": [\"(not set)\", \"Africa\", \"Oceania\", \"Europe\", \"Asia\", \"Americas\"], \"yaxis\": \"y3\"}, {\"marker\": {\"color\": \"orange\"}, \"orientation\": \"h\", \"showlegend\": false, \"type\": \"bar\", \"x\": [25, 55, 81, 393, 1215, 1468, 1927, 2169, 2406, 2573, 7683, 14893, 15583, 35780, 38443, 41731, 45249, 46919, 58168, 59114, 59321, 77800, 390657], \"xaxis\": \"x4\", \"y\": [\"Polynesia\", \"Micronesian Region\", \"Melanesia\", \"Middle Africa\", \"Central Asia\", \"(not set)\", \"Eastern Africa\", \"Southern Africa\", \"Caribbean\", \"Western Africa\", \"Northern Africa\", \"Australasia\", \"Central America\", \"Southern Europe\", \"Western Asia\", \"South America\", \"Eastern Europe\", \"Eastern Asia\", \"Northern Europe\", \"Western Europe\", \"Southern Asia\", \"Southeast Asia\", \"Northern America\"], \"yaxis\": \"y4\"}, {\"marker\": {\"color\": \"orange\"}, \"orientation\": \"h\", \"showlegend\": false, \"type\": \"bar\", \"x\": [0, 0, 0, 0, 2, 6, 3, 2, 16, 2, 1, 14, 26, 8, 21, 98, 14, 59, 27, 30, 11, 32, 11143], \"xaxis\": \"x5\", \"y\": [\"Polynesia\", \"Micronesian Region\", \"Melanesia\", \"Middle Africa\", \"Central Asia\", \"(not set)\", \"Eastern Africa\", \"Southern Africa\", \"Caribbean\", \"Western Africa\", \"Northern Africa\", \"Australasia\", \"Central America\", \"Southern Europe\", \"Western Asia\", \"South America\", \"Eastern Europe\", \"Eastern Asia\", \"Northern Europe\", \"Western Europe\", \"Southern Asia\", \"Southeast Asia\", \"Northern America\"], \"yaxis\": \"y5\"}, {\"marker\": {\"color\": \"orange\"}, \"orientation\": \"h\", \"showlegend\": false, \"type\": \"bar\", \"x\": [null, null, null, null, 17490000.0, 128296666.66666667, 1756233333.3333333, 32850000.0, 97721875.0, 1651200000.0, 50960000.0, 128087857.14285715, 73290384.61538461, 120501250.0, 84811428.57142857, 162625612.24489796, 67628571.42857143, 187715593.22033897, 73847407.4074074, 94744666.66666667, 68600909.0909091, 117374687.5, 133291321.00870502], \"xaxis\": \"x6\", \"y\": [\"Polynesia\", \"Micronesian Region\", \"Melanesia\", \"Middle Africa\", \"Central Asia\", \"(not set)\", \"Eastern Africa\", \"Southern Africa\", \"Caribbean\", \"Western Africa\", \"Northern Africa\", \"Australasia\", \"Central America\", \"Southern Europe\", \"Western Asia\", \"South America\", \"Eastern Europe\", \"Eastern Asia\", \"Northern Europe\", \"Western Europe\", \"Southern Asia\", \"Southeast Asia\", \"Northern America\"], \"yaxis\": \"y6\"}, {\"marker\": {\"color\": \"blue\"}, \"orientation\": \"h\", \"showlegend\": false, \"type\": \"bar\", \"x\": [6046, 6414, 7919, 9985, 13228, 13637, 14827, 28743, 146034, 244881], \"xaxis\": \"x7\", \"y\": [\"3bb.co.th\", \"virginm.net\", \"hinet.net\", \"comcastbusiness.net\", \"ttnet.com.tr\", \"verizon.net\", \"rr.com\", \"comcast.net\", \"unknown.unknown\", \"(not set)\"], \"yaxis\": \"y7\"}, {\"marker\": {\"color\": \"blue\"}, \"orientation\": \"h\", \"showlegend\": false, \"type\": \"bar\", \"x\": [1, 1, 11, 294, 1, 469, 364, 934, 400, 6645], \"xaxis\": \"x8\", \"y\": [\"3bb.co.th\", \"virginm.net\", \"hinet.net\", \"comcastbusiness.net\", \"ttnet.com.tr\", \"verizon.net\", \"rr.com\", \"comcast.net\", \"unknown.unknown\", \"(not set)\"], \"yaxis\": \"y8\"}, {\"marker\": {\"color\": \"blue\"}, \"orientation\": \"h\", \"showlegend\": false, \"type\": \"bar\", \"x\": [140590000.0, 62270000.0, 60891818.18181818, 497096632.6530612, 17460000.0, 112833624.73347548, 82780714.28571428, 131873201.28479658, 87253850.0, 127654487.58465011], \"xaxis\": \"x9\", \"y\": [\"3bb.co.th\", \"virginm.net\", \"hinet.net\", \"comcastbusiness.net\", \"ttnet.com.tr\", \"verizon.net\", \"rr.com\", \"comcast.net\", \"unknown.unknown\", \"(not set)\"], \"yaxis\": \"y9\"}],                        {\"annotations\": [{\"font\": {\"size\": 16}, \"showarrow\": false, \"text\": \"Continent - Count\", \"x\": 0.11666666666666665, \"xanchor\": \"center\", \"xref\": \"paper\", \"y\": 1.0, \"yanchor\": \"bottom\", \"yref\": \"paper\"}, {\"font\": {\"size\": 16}, \"showarrow\": false, \"text\": \"Continent - Non-zero Revenue Count\", \"x\": 0.49999999999999994, \"xanchor\": \"center\", \"xref\": \"paper\", \"y\": 1.0, \"yanchor\": \"bottom\", \"yref\": \"paper\"}, {\"font\": {\"size\": 16}, \"showarrow\": false, \"text\": \"Continent - Mean Revenue\", \"x\": 0.8833333333333333, \"xanchor\": \"center\", \"xref\": \"paper\", \"y\": 1.0, \"yanchor\": \"bottom\", \"yref\": \"paper\"}, {\"font\": {\"size\": 16}, \"showarrow\": false, \"text\": \"Sub Continent - Count\", \"x\": 0.11666666666666665, \"xanchor\": \"center\", \"xref\": \"paper\", \"y\": 0.6399999999999999, \"yanchor\": \"bottom\", \"yref\": \"paper\"}, {\"font\": {\"size\": 16}, \"showarrow\": false, \"text\": \"Sub Continent - Non-zero Revenue Count\", \"x\": 0.49999999999999994, \"xanchor\": \"center\", \"xref\": \"paper\", \"y\": 0.6399999999999999, \"yanchor\": \"bottom\", \"yref\": \"paper\"}, {\"font\": {\"size\": 16}, \"showarrow\": false, \"text\": \"Sub Continent - Mean Revenue\", \"x\": 0.8833333333333333, \"xanchor\": \"center\", \"xref\": \"paper\", \"y\": 0.6399999999999999, \"yanchor\": \"bottom\", \"yref\": \"paper\"}, {\"font\": {\"size\": 16}, \"showarrow\": false, \"text\": \"Network Domain - Count\", \"x\": 0.11666666666666665, \"xanchor\": \"center\", \"xref\": \"paper\", \"y\": 0.27999999999999997, \"yanchor\": \"bottom\", \"yref\": \"paper\"}, {\"font\": {\"size\": 16}, \"showarrow\": false, \"text\": \"Network Domain - Non-zero Revenue Count\", \"x\": 0.49999999999999994, \"xanchor\": \"center\", \"xref\": \"paper\", \"y\": 0.27999999999999997, \"yanchor\": \"bottom\", \"yref\": \"paper\"}, {\"font\": {\"size\": 16}, \"showarrow\": false, \"text\": \"Network Domain - Mean Revenue\", \"x\": 0.8833333333333333, \"xanchor\": \"center\", \"xref\": \"paper\", \"y\": 0.27999999999999997, \"yanchor\": \"bottom\", \"yref\": \"paper\"}], \"height\": 1500, \"paper_bgcolor\": \"rgb(233,233,233)\", \"template\": {\"data\": {\"bar\": [{\"error_x\": {\"color\": \"#2a3f5f\"}, \"error_y\": {\"color\": \"#2a3f5f\"}, \"marker\": {\"line\": {\"color\": \"#E5ECF6\", \"width\": 0.5}}, \"type\": \"bar\"}], \"barpolar\": [{\"marker\": {\"line\": {\"color\": \"#E5ECF6\", \"width\": 0.5}}, \"type\": \"barpolar\"}], \"carpet\": [{\"aaxis\": {\"endlinecolor\": \"#2a3f5f\", \"gridcolor\": \"white\", \"linecolor\": \"white\", \"minorgridcolor\": \"white\", \"startlinecolor\": \"#2a3f5f\"}, \"baxis\": {\"endlinecolor\": \"#2a3f5f\", \"gridcolor\": \"white\", \"linecolor\": \"white\", \"minorgridcolor\": \"white\", \"startlinecolor\": \"#2a3f5f\"}, \"type\": \"carpet\"}], \"choropleth\": [{\"colorbar\": {\"outlinewidth\": 0, \"ticks\": \"\"}, \"type\": \"choropleth\"}], \"contour\": [{\"colorbar\": {\"outlinewidth\": 0, \"ticks\": \"\"}, \"colorscale\": [[0.0, \"#0d0887\"], [0.1111111111111111, \"#46039f\"], [0.2222222222222222, \"#7201a8\"], [0.3333333333333333, \"#9c179e\"], [0.4444444444444444, \"#bd3786\"], [0.5555555555555556, \"#d8576b\"], [0.6666666666666666, \"#ed7953\"], [0.7777777777777778, \"#fb9f3a\"], [0.8888888888888888, \"#fdca26\"], [1.0, \"#f0f921\"]], \"type\": \"contour\"}], \"contourcarpet\": [{\"colorbar\": {\"outlinewidth\": 0, \"ticks\": \"\"}, \"type\": \"contourcarpet\"}], \"heatmap\": [{\"colorbar\": {\"outlinewidth\": 0, \"ticks\": \"\"}, \"colorscale\": [[0.0, \"#0d0887\"], [0.1111111111111111, \"#46039f\"], [0.2222222222222222, \"#7201a8\"], [0.3333333333333333, \"#9c179e\"], [0.4444444444444444, \"#bd3786\"], [0.5555555555555556, \"#d8576b\"], [0.6666666666666666, \"#ed7953\"], [0.7777777777777778, \"#fb9f3a\"], [0.8888888888888888, \"#fdca26\"], [1.0, \"#f0f921\"]], \"type\": \"heatmap\"}], \"heatmapgl\": [{\"colorbar\": {\"outlinewidth\": 0, \"ticks\": \"\"}, \"colorscale\": [[0.0, \"#0d0887\"], [0.1111111111111111, \"#46039f\"], [0.2222222222222222, \"#7201a8\"], [0.3333333333333333, \"#9c179e\"], [0.4444444444444444, \"#bd3786\"], [0.5555555555555556, \"#d8576b\"], [0.6666666666666666, \"#ed7953\"], [0.7777777777777778, \"#fb9f3a\"], [0.8888888888888888, \"#fdca26\"], [1.0, \"#f0f921\"]], \"type\": \"heatmapgl\"}], \"histogram\": [{\"marker\": {\"colorbar\": {\"outlinewidth\": 0, \"ticks\": \"\"}}, \"type\": \"histogram\"}], \"histogram2d\": [{\"colorbar\": {\"outlinewidth\": 0, \"ticks\": \"\"}, \"colorscale\": [[0.0, \"#0d0887\"], [0.1111111111111111, \"#46039f\"], [0.2222222222222222, \"#7201a8\"], [0.3333333333333333, \"#9c179e\"], [0.4444444444444444, \"#bd3786\"], [0.5555555555555556, \"#d8576b\"], [0.6666666666666666, \"#ed7953\"], [0.7777777777777778, \"#fb9f3a\"], [0.8888888888888888, \"#fdca26\"], [1.0, \"#f0f921\"]], \"type\": \"histogram2d\"}], \"histogram2dcontour\": [{\"colorbar\": {\"outlinewidth\": 0, \"ticks\": \"\"}, \"colorscale\": [[0.0, \"#0d0887\"], [0.1111111111111111, \"#46039f\"], [0.2222222222222222, \"#7201a8\"], [0.3333333333333333, \"#9c179e\"], [0.4444444444444444, \"#bd3786\"], [0.5555555555555556, \"#d8576b\"], [0.6666666666666666, \"#ed7953\"], [0.7777777777777778, \"#fb9f3a\"], [0.8888888888888888, \"#fdca26\"], [1.0, \"#f0f921\"]], \"type\": \"histogram2dcontour\"}], \"mesh3d\": [{\"colorbar\": {\"outlinewidth\": 0, \"ticks\": \"\"}, \"type\": \"mesh3d\"}], \"parcoords\": [{\"line\": {\"colorbar\": {\"outlinewidth\": 0, \"ticks\": \"\"}}, \"type\": \"parcoords\"}], \"pie\": [{\"automargin\": true, \"type\": \"pie\"}], \"scatter\": [{\"marker\": {\"colorbar\": {\"outlinewidth\": 0, \"ticks\": \"\"}}, \"type\": \"scatter\"}], \"scatter3d\": [{\"line\": {\"colorbar\": {\"outlinewidth\": 0, \"ticks\": \"\"}}, \"marker\": {\"colorbar\": {\"outlinewidth\": 0, \"ticks\": \"\"}}, \"type\": \"scatter3d\"}], \"scattercarpet\": [{\"marker\": {\"colorbar\": {\"outlinewidth\": 0, \"ticks\": \"\"}}, \"type\": \"scattercarpet\"}], \"scattergeo\": [{\"marker\": {\"colorbar\": {\"outlinewidth\": 0, \"ticks\": \"\"}}, \"type\": \"scattergeo\"}], \"scattergl\": [{\"marker\": {\"colorbar\": {\"outlinewidth\": 0, \"ticks\": \"\"}}, \"type\": \"scattergl\"}], \"scattermapbox\": [{\"marker\": {\"colorbar\": {\"outlinewidth\": 0, \"ticks\": \"\"}}, \"type\": \"scattermapbox\"}], \"scatterpolar\": [{\"marker\": {\"colorbar\": {\"outlinewidth\": 0, \"ticks\": \"\"}}, \"type\": \"scatterpolar\"}], \"scatterpolargl\": [{\"marker\": {\"colorbar\": {\"outlinewidth\": 0, \"ticks\": \"\"}}, \"type\": \"scatterpolargl\"}], \"scatterternary\": [{\"marker\": {\"colorbar\": {\"outlinewidth\": 0, \"ticks\": \"\"}}, \"type\": \"scatterternary\"}], \"surface\": [{\"colorbar\": {\"outlinewidth\": 0, \"ticks\": \"\"}, \"colorscale\": [[0.0, \"#0d0887\"], [0.1111111111111111, \"#46039f\"], [0.2222222222222222, \"#7201a8\"], [0.3333333333333333, \"#9c179e\"], [0.4444444444444444, \"#bd3786\"], [0.5555555555555556, \"#d8576b\"], [0.6666666666666666, \"#ed7953\"], [0.7777777777777778, \"#fb9f3a\"], [0.8888888888888888, \"#fdca26\"], [1.0, \"#f0f921\"]], \"type\": \"surface\"}], \"table\": [{\"cells\": {\"fill\": {\"color\": \"#EBF0F8\"}, \"line\": {\"color\": \"white\"}}, \"header\": {\"fill\": {\"color\": \"#C8D4E3\"}, \"line\": {\"color\": \"white\"}}, \"type\": \"table\"}]}, \"layout\": {\"annotationdefaults\": {\"arrowcolor\": \"#2a3f5f\", \"arrowhead\": 0, \"arrowwidth\": 1}, \"coloraxis\": {\"colorbar\": {\"outlinewidth\": 0, \"ticks\": \"\"}}, \"colorscale\": {\"diverging\": [[0, \"#8e0152\"], [0.1, \"#c51b7d\"], [0.2, \"#de77ae\"], [0.3, \"#f1b6da\"], [0.4, \"#fde0ef\"], [0.5, \"#f7f7f7\"], [0.6, \"#e6f5d0\"], [0.7, \"#b8e186\"], [0.8, \"#7fbc41\"], [0.9, \"#4d9221\"], [1, \"#276419\"]], \"sequential\": [[0.0, \"#0d0887\"], [0.1111111111111111, \"#46039f\"], [0.2222222222222222, \"#7201a8\"], [0.3333333333333333, \"#9c179e\"], [0.4444444444444444, \"#bd3786\"], [0.5555555555555556, \"#d8576b\"], [0.6666666666666666, \"#ed7953\"], [0.7777777777777778, \"#fb9f3a\"], [0.8888888888888888, \"#fdca26\"], [1.0, \"#f0f921\"]], \"sequentialminus\": [[0.0, \"#0d0887\"], [0.1111111111111111, \"#46039f\"], [0.2222222222222222, \"#7201a8\"], [0.3333333333333333, \"#9c179e\"], [0.4444444444444444, \"#bd3786\"], [0.5555555555555556, \"#d8576b\"], [0.6666666666666666, \"#ed7953\"], [0.7777777777777778, \"#fb9f3a\"], [0.8888888888888888, \"#fdca26\"], [1.0, \"#f0f921\"]]}, \"colorway\": [\"#636efa\", \"#EF553B\", \"#00cc96\", \"#ab63fa\", \"#FFA15A\", \"#19d3f3\", \"#FF6692\", \"#B6E880\", \"#FF97FF\", \"#FECB52\"], \"font\": {\"color\": \"#2a3f5f\"}, \"geo\": {\"bgcolor\": \"white\", \"lakecolor\": \"white\", \"landcolor\": \"#E5ECF6\", \"showlakes\": true, \"showland\": true, \"subunitcolor\": \"white\"}, \"hoverlabel\": {\"align\": \"left\"}, \"hovermode\": \"closest\", \"mapbox\": {\"style\": \"light\"}, \"paper_bgcolor\": \"white\", \"plot_bgcolor\": \"#E5ECF6\", \"polar\": {\"angularaxis\": {\"gridcolor\": \"white\", \"linecolor\": \"white\", \"ticks\": \"\"}, \"bgcolor\": \"#E5ECF6\", \"radialaxis\": {\"gridcolor\": \"white\", \"linecolor\": \"white\", \"ticks\": \"\"}}, \"scene\": {\"xaxis\": {\"backgroundcolor\": \"#E5ECF6\", \"gridcolor\": \"white\", \"gridwidth\": 2, \"linecolor\": \"white\", \"showbackground\": true, \"ticks\": \"\", \"zerolinecolor\": \"white\"}, \"yaxis\": {\"backgroundcolor\": \"#E5ECF6\", \"gridcolor\": \"white\", \"gridwidth\": 2, \"linecolor\": \"white\", \"showbackground\": true, \"ticks\": \"\", \"zerolinecolor\": \"white\"}, \"zaxis\": {\"backgroundcolor\": \"#E5ECF6\", \"gridcolor\": \"white\", \"gridwidth\": 2, \"linecolor\": \"white\", \"showbackground\": true, \"ticks\": \"\", \"zerolinecolor\": \"white\"}}, \"shapedefaults\": {\"line\": {\"color\": \"#2a3f5f\"}}, \"ternary\": {\"aaxis\": {\"gridcolor\": \"white\", \"linecolor\": \"white\", \"ticks\": \"\"}, \"baxis\": {\"gridcolor\": \"white\", \"linecolor\": \"white\", \"ticks\": \"\"}, \"bgcolor\": \"#E5ECF6\", \"caxis\": {\"gridcolor\": \"white\", \"linecolor\": \"white\", \"ticks\": \"\"}}, \"title\": {\"x\": 0.05}, \"xaxis\": {\"automargin\": true, \"gridcolor\": \"white\", \"linecolor\": \"white\", \"ticks\": \"\", \"title\": {\"standoff\": 15}, \"zerolinecolor\": \"white\", \"zerolinewidth\": 2}, \"yaxis\": {\"automargin\": true, \"gridcolor\": \"white\", \"linecolor\": \"white\", \"ticks\": \"\", \"title\": {\"standoff\": 15}, \"zerolinecolor\": \"white\", \"zerolinewidth\": 2}}}, \"title\": {\"text\": \"Geography Plots\"}, \"width\": 1200, \"xaxis\": {\"anchor\": \"y\", \"domain\": [0.0, 0.2333333333333333]}, \"xaxis2\": {\"anchor\": \"y2\", \"domain\": [0.3833333333333333, 0.6166666666666666]}, \"xaxis3\": {\"anchor\": \"y3\", \"domain\": [0.7666666666666666, 0.9999999999999999]}, \"xaxis4\": {\"anchor\": \"y4\", \"domain\": [0.0, 0.2333333333333333]}, \"xaxis5\": {\"anchor\": \"y5\", \"domain\": [0.3833333333333333, 0.6166666666666666]}, \"xaxis6\": {\"anchor\": \"y6\", \"domain\": [0.7666666666666666, 0.9999999999999999]}, \"xaxis7\": {\"anchor\": \"y7\", \"domain\": [0.0, 0.2333333333333333]}, \"xaxis8\": {\"anchor\": \"y8\", \"domain\": [0.3833333333333333, 0.6166666666666666]}, \"xaxis9\": {\"anchor\": \"y9\", \"domain\": [0.7666666666666666, 0.9999999999999999]}, \"yaxis\": {\"anchor\": \"x\", \"domain\": [0.72, 1.0]}, \"yaxis2\": {\"anchor\": \"x2\", \"domain\": [0.72, 1.0]}, \"yaxis3\": {\"anchor\": \"x3\", \"domain\": [0.72, 1.0]}, \"yaxis4\": {\"anchor\": \"x4\", \"domain\": [0.36, 0.6399999999999999]}, \"yaxis5\": {\"anchor\": \"x5\", \"domain\": [0.36, 0.6399999999999999]}, \"yaxis6\": {\"anchor\": \"x6\", \"domain\": [0.36, 0.6399999999999999]}, \"yaxis7\": {\"anchor\": \"x7\", \"domain\": [0.0, 0.27999999999999997]}, \"yaxis8\": {\"anchor\": \"x8\", \"domain\": [0.0, 0.27999999999999997]}, \"yaxis9\": {\"anchor\": \"x9\", \"domain\": [0.0, 0.27999999999999997]}},                        {\"responsive\": true}                    ).then(function(){\n",
       "                            \n",
       "var gd = document.getElementById('ef9310ae-5736-4ae9-8018-8ced6297249d');\n",
       "var x = new MutationObserver(function (mutations, observer) {{\n",
       "        var display = window.getComputedStyle(gd).display;\n",
       "        if (!display || display === 'none') {{\n",
       "            console.log([gd, 'removed!']);\n",
       "            Plotly.purge(gd);\n",
       "            observer.disconnect();\n",
       "        }}\n",
       "}});\n",
       "\n",
       "// Listen for the removal of the full notebook cells\n",
       "var notebookContainer = gd.closest('#notebook-container');\n",
       "if (notebookContainer) {{\n",
       "    x.observe(notebookContainer, {childList: true});\n",
       "}}\n",
       "\n",
       "// Listen for the clearing of the current output cell\n",
       "var outputEl = gd.closest('.output');\n",
       "if (outputEl) {{\n",
       "    x.observe(outputEl, {childList: true});\n",
       "}}\n",
       "\n",
       "                        })                };                });            </script>        </div>"
      ]
     },
     "metadata": {},
     "output_type": "display_data"
    }
   ],
   "source": [
    "# Continent\n",
    "cnt_srs = train_df.groupby('geoNetwork.continent')['totals.transactionRevenue'].agg(['size', 'count', 'mean'])\n",
    "cnt_srs.columns = [\"count\", \"count of non-zero revenue\", \"mean\"]\n",
    "cnt_srs = cnt_srs.sort_values(by=\"count\", ascending=False)\n",
    "trace1 = horizontal_bar_chart(cnt_srs[\"count\"].head(10), 'rgba(58, 71, 80, 0.6)')\n",
    "trace2 = horizontal_bar_chart(cnt_srs[\"count of non-zero revenue\"].head(10), 'rgba(58, 71, 80, 0.6)')\n",
    "trace3 = horizontal_bar_chart(cnt_srs[\"mean\"].head(10), 'rgba(58, 71, 80, 0.6)')\n",
    "\n",
    "# Sub-continent\n",
    "cnt_srs = train_df.groupby('geoNetwork.subContinent')['totals.transactionRevenue'].agg(['size', 'count', 'mean'])\n",
    "cnt_srs.columns = [\"count\", \"count of non-zero revenue\", \"mean\"]\n",
    "cnt_srs = cnt_srs.sort_values(by=\"count\", ascending=False)\n",
    "trace4 = horizontal_bar_chart(cnt_srs[\"count\"], 'orange')\n",
    "trace5 = horizontal_bar_chart(cnt_srs[\"count of non-zero revenue\"], 'orange')\n",
    "trace6 = horizontal_bar_chart(cnt_srs[\"mean\"], 'orange')\n",
    "\n",
    "# Network domain\n",
    "cnt_srs = train_df.groupby('geoNetwork.networkDomain')['totals.transactionRevenue'].agg(['size', 'count', 'mean'])\n",
    "cnt_srs.columns = [\"count\", \"count of non-zero revenue\", \"mean\"]\n",
    "cnt_srs = cnt_srs.sort_values(by=\"count\", ascending=False)\n",
    "trace7 = horizontal_bar_chart(cnt_srs[\"count\"].head(10), 'blue')\n",
    "trace8 = horizontal_bar_chart(cnt_srs[\"count of non-zero revenue\"].head(10), 'blue')\n",
    "trace9 = horizontal_bar_chart(cnt_srs[\"mean\"].head(10), 'blue')\n",
    "\n",
    "# Creating two subplots\n",
    "fig = tools.make_subplots(rows=3, cols=3, vertical_spacing=0.08, horizontal_spacing=0.15, \n",
    "                          subplot_titles=[\"Continent - Count\", \"Continent - Non-zero Revenue Count\", \"Continent - Mean Revenue\",\n",
    "                                          \"Sub Continent - Count\",  \"Sub Continent - Non-zero Revenue Count\", \"Sub Continent - Mean Revenue\",\n",
    "                                          \"Network Domain - Count\", \"Network Domain - Non-zero Revenue Count\", \"Network Domain - Mean Revenue\"])\n",
    "\n",
    "fig.append_trace(trace1, 1, 1)\n",
    "fig.append_trace(trace2, 1, 2)\n",
    "fig.append_trace(trace3, 1, 3)\n",
    "fig.append_trace(trace4, 2, 1)\n",
    "fig.append_trace(trace5, 2, 2)\n",
    "fig.append_trace(trace6, 2, 3)\n",
    "fig.append_trace(trace7, 3, 1)\n",
    "fig.append_trace(trace8, 3, 2)\n",
    "fig.append_trace(trace9, 3, 3)\n",
    "\n",
    "fig['layout'].update(height=1500, width=1200, paper_bgcolor='rgb(233,233,233)', title=\"Geography Plots\")\n",
    "py.iplot(fig, filename='geo-plots')"
   ]
  },
  {
   "cell_type": "code",
   "execution_count": 15,
   "metadata": {},
   "outputs": [
    {
     "data": {
      "application/vnd.plotly.v1+json": {
       "config": {
        "linkText": "Export to plot.ly",
        "plotlyServerURL": "https://plot.ly",
        "showLink": false
       },
       "data": [
        {
         "marker": {
          "color": "red"
         },
         "showlegend": false,
         "type": "scatter",
         "x": [
          "2017-08-01",
          "2017-07-31",
          "2017-07-30",
          "2017-07-29",
          "2017-07-28",
          "2017-07-27",
          "2017-07-26",
          "2017-07-25",
          "2017-07-24",
          "2017-07-23",
          "2017-07-22",
          "2017-07-21",
          "2017-07-20",
          "2017-07-19",
          "2017-07-18",
          "2017-07-17",
          "2017-07-16",
          "2017-07-15",
          "2017-07-14",
          "2017-07-13",
          "2017-07-12",
          "2017-07-11",
          "2017-07-10",
          "2017-07-09",
          "2017-07-08",
          "2017-07-07",
          "2017-07-06",
          "2017-07-05",
          "2017-07-04",
          "2017-07-03",
          "2017-07-02",
          "2017-07-01",
          "2017-06-30",
          "2017-06-29",
          "2017-06-28",
          "2017-06-27",
          "2017-06-26",
          "2017-06-25",
          "2017-06-24",
          "2017-06-23",
          "2017-06-22",
          "2017-06-21",
          "2017-06-20",
          "2017-06-19",
          "2017-06-18",
          "2017-06-17",
          "2017-06-16",
          "2017-06-15",
          "2017-06-14",
          "2017-06-13",
          "2017-06-12",
          "2017-06-11",
          "2017-06-10",
          "2017-06-09",
          "2017-06-08",
          "2017-06-07",
          "2017-06-06",
          "2017-06-05",
          "2017-06-04",
          "2017-06-03",
          "2017-06-02",
          "2017-06-01",
          "2017-05-31",
          "2017-05-30",
          "2017-05-29",
          "2017-05-28",
          "2017-05-27",
          "2017-05-26",
          "2017-05-25",
          "2017-05-24",
          "2017-05-23",
          "2017-05-22",
          "2017-05-21",
          "2017-05-20",
          "2017-05-19",
          "2017-05-18",
          "2017-05-17",
          "2017-05-16",
          "2017-05-15",
          "2017-05-14",
          "2017-05-13",
          "2017-05-12",
          "2017-05-11",
          "2017-05-10",
          "2017-05-09",
          "2017-05-08",
          "2017-05-07",
          "2017-05-06",
          "2017-05-05",
          "2017-05-04",
          "2017-05-03",
          "2017-05-02",
          "2017-05-01",
          "2017-04-30",
          "2017-04-29",
          "2017-04-28",
          "2017-04-27",
          "2017-04-26",
          "2017-04-25",
          "2017-04-24",
          "2017-04-23",
          "2017-04-22",
          "2017-04-21",
          "2017-04-20",
          "2017-04-19",
          "2017-04-18",
          "2017-04-17",
          "2017-04-16",
          "2017-04-15",
          "2017-04-14",
          "2017-04-13",
          "2017-04-12",
          "2017-04-11",
          "2017-04-10",
          "2017-04-09",
          "2017-04-08",
          "2017-04-07",
          "2017-04-06",
          "2017-04-05",
          "2017-04-04",
          "2017-04-03",
          "2017-04-02",
          "2017-04-01",
          "2017-03-31",
          "2017-03-30",
          "2017-03-29",
          "2017-03-28",
          "2017-03-27",
          "2017-03-26",
          "2017-03-25",
          "2017-03-24",
          "2017-03-23",
          "2017-03-22",
          "2017-03-21",
          "2017-03-20",
          "2017-03-19",
          "2017-03-18",
          "2017-03-17",
          "2017-03-16",
          "2017-03-15",
          "2017-03-14",
          "2017-03-13",
          "2017-03-12",
          "2017-03-11",
          "2017-03-10",
          "2017-03-09",
          "2017-03-08",
          "2017-03-07",
          "2017-03-06",
          "2017-03-05",
          "2017-03-04",
          "2017-03-03",
          "2017-03-02",
          "2017-03-01",
          "2017-02-28",
          "2017-02-27",
          "2017-02-26",
          "2017-02-25",
          "2017-02-24",
          "2017-02-23",
          "2017-02-22",
          "2017-02-21",
          "2017-02-20",
          "2017-02-19",
          "2017-02-18",
          "2017-02-17",
          "2017-02-16",
          "2017-02-15",
          "2017-02-14",
          "2017-02-13",
          "2017-02-12",
          "2017-02-11",
          "2017-02-10",
          "2017-02-09",
          "2017-02-08",
          "2017-02-07",
          "2017-02-06",
          "2017-02-05",
          "2017-02-04",
          "2017-02-03",
          "2017-02-02",
          "2017-02-01",
          "2017-01-31",
          "2017-01-30",
          "2017-01-29",
          "2017-01-28",
          "2017-01-27",
          "2017-01-26",
          "2017-01-25",
          "2017-01-24",
          "2017-01-23",
          "2017-01-22",
          "2017-01-21",
          "2017-01-20",
          "2017-01-19",
          "2017-01-18",
          "2017-01-17",
          "2017-01-16",
          "2017-01-15",
          "2017-01-14",
          "2017-01-13",
          "2017-01-12",
          "2017-01-11",
          "2017-01-10",
          "2017-01-09",
          "2017-01-08",
          "2017-01-07",
          "2017-01-06",
          "2017-01-05",
          "2017-01-04",
          "2017-01-03",
          "2017-01-02",
          "2017-01-01",
          "2016-12-31",
          "2016-12-30",
          "2016-12-29",
          "2016-12-28",
          "2016-12-27",
          "2016-12-26",
          "2016-12-25",
          "2016-12-24",
          "2016-12-23",
          "2016-12-22",
          "2016-12-21",
          "2016-12-20",
          "2016-12-19",
          "2016-12-18",
          "2016-12-17",
          "2016-12-16",
          "2016-12-15",
          "2016-12-14",
          "2016-12-13",
          "2016-12-12",
          "2016-12-11",
          "2016-12-10",
          "2016-12-09",
          "2016-12-08",
          "2016-12-07",
          "2016-12-06",
          "2016-12-05",
          "2016-12-04",
          "2016-12-03",
          "2016-12-02",
          "2016-12-01",
          "2016-11-30",
          "2016-11-29",
          "2016-11-28",
          "2016-11-27",
          "2016-11-26",
          "2016-11-25",
          "2016-11-24",
          "2016-11-23",
          "2016-11-22",
          "2016-11-21",
          "2016-11-20",
          "2016-11-19",
          "2016-11-18",
          "2016-11-17",
          "2016-11-16",
          "2016-11-15",
          "2016-11-14",
          "2016-11-13",
          "2016-11-12",
          "2016-11-11",
          "2016-11-10",
          "2016-11-09",
          "2016-11-08",
          "2016-11-07",
          "2016-11-06",
          "2016-11-05",
          "2016-11-04",
          "2016-11-03",
          "2016-11-02",
          "2016-11-01",
          "2016-10-31",
          "2016-10-30",
          "2016-10-29",
          "2016-10-28",
          "2016-10-27",
          "2016-10-26",
          "2016-10-25",
          "2016-10-24",
          "2016-10-23",
          "2016-10-22",
          "2016-10-21",
          "2016-10-20",
          "2016-10-19",
          "2016-10-18",
          "2016-10-17",
          "2016-10-16",
          "2016-10-15",
          "2016-10-14",
          "2016-10-13",
          "2016-10-12",
          "2016-10-11",
          "2016-10-10",
          "2016-10-09",
          "2016-10-08",
          "2016-10-07",
          "2016-10-06",
          "2016-10-05",
          "2016-10-04",
          "2016-10-03",
          "2016-10-02",
          "2016-10-01",
          "2016-09-30",
          "2016-09-29",
          "2016-09-28",
          "2016-09-27",
          "2016-09-26",
          "2016-09-25",
          "2016-09-24",
          "2016-09-23",
          "2016-09-22",
          "2016-09-21",
          "2016-09-20",
          "2016-09-19",
          "2016-09-18",
          "2016-09-17",
          "2016-09-16",
          "2016-09-15",
          "2016-09-14",
          "2016-09-13",
          "2016-09-12",
          "2016-09-11",
          "2016-09-10",
          "2016-09-09",
          "2016-09-08",
          "2016-09-07",
          "2016-09-06",
          "2016-09-05",
          "2016-09-04",
          "2016-09-03",
          "2016-09-02",
          "2016-09-01",
          "2016-08-31",
          "2016-08-30",
          "2016-08-29",
          "2016-08-28",
          "2016-08-27",
          "2016-08-26",
          "2016-08-25",
          "2016-08-24",
          "2016-08-23",
          "2016-08-22",
          "2016-08-21",
          "2016-08-20",
          "2016-08-19",
          "2016-08-18",
          "2016-08-17",
          "2016-08-16",
          "2016-08-15",
          "2016-08-14",
          "2016-08-13",
          "2016-08-12",
          "2016-08-11",
          "2016-08-10",
          "2016-08-09",
          "2016-08-08",
          "2016-08-07",
          "2016-08-06",
          "2016-08-05",
          "2016-08-04",
          "2016-08-03",
          "2016-08-02",
          "2016-08-01"
         ],
         "xaxis": "x",
         "y": [
          2556,
          2620,
          1799,
          1597,
          2433,
          2529,
          2725,
          2631,
          2436,
          1966,
          1724,
          2427,
          2668,
          2514,
          2804,
          2671,
          1766,
          1721,
          2382,
          2741,
          2554,
          2635,
          2769,
          1921,
          1859,
          2450,
          2658,
          2885,
          1938,
          2046,
          1895,
          2048,
          2499,
          2709,
          2687,
          2789,
          2226,
          1597,
          1510,
          2095,
          2258,
          2357,
          2143,
          2142,
          1432,
          1391,
          2028,
          2237,
          2517,
          2181,
          2361,
          1555,
          1545,
          1927,
          2280,
          2279,
          2391,
          2493,
          1534,
          1399,
          2190,
          2826,
          2292,
          2199,
          1745,
          1463,
          1502,
          2009,
          2228,
          2406,
          2129,
          2248,
          1645,
          1855,
          2223,
          2715,
          3117,
          3098,
          2360,
          1290,
          1251,
          1932,
          2218,
          2024,
          2108,
          2025,
          1400,
          1383,
          1960,
          2806,
          2588,
          2564,
          2588,
          1594,
          1566,
          2411,
          2838,
          4224,
          2354,
          2263,
          1548,
          1612,
          2210,
          2374,
          2397,
          2391,
          2279,
          1507,
          1506,
          1834,
          2300,
          2341,
          2464,
          2563,
          1766,
          1829,
          2297,
          2647,
          2619,
          2978,
          2383,
          1861,
          2170,
          2268,
          2731,
          2525,
          2577,
          2525,
          1768,
          1712,
          2374,
          2847,
          2582,
          2611,
          2383,
          1776,
          1610,
          2129,
          2409,
          2486,
          2338,
          2537,
          1781,
          1707,
          2194,
          2231,
          2449,
          2586,
          2396,
          1827,
          1753,
          2162,
          2267,
          2390,
          2347,
          2352,
          1643,
          1638,
          2093,
          2364,
          2477,
          2582,
          2374,
          2187,
          1755,
          2785,
          2539,
          2629,
          2379,
          2266,
          1790,
          1761,
          2199,
          2678,
          2570,
          2476,
          2238,
          1522,
          1549,
          2182,
          2372,
          2445,
          2229,
          2392,
          1814,
          1614,
          1969,
          2209,
          2986,
          3618,
          2262,
          1700,
          1685,
          2074,
          2083,
          2245,
          2443,
          1906,
          1576,
          1526,
          1967,
          2203,
          2185,
          2268,
          2308,
          1637,
          1615,
          2210,
          2193,
          2390,
          2403,
          1620,
          1364,
          1211,
          1232,
          1647,
          1763,
          1855,
          1586,
          1386,
          1231,
          1604,
          2100,
          2594,
          3110,
          3222,
          2128,
          2324,
          2956,
          2937,
          3040,
          3166,
          3433,
          2208,
          2207,
          2830,
          3013,
          2840,
          3021,
          4265,
          3220,
          3044,
          3751,
          4200,
          4435,
          4337,
          4807,
          3356,
          3213,
          3759,
          3770,
          3805,
          3942,
          4143,
          3247,
          2984,
          3654,
          4074,
          4334,
          4685,
          4466,
          3144,
          3119,
          3588,
          4055,
          3752,
          3899,
          3832,
          3232,
          3042,
          3596,
          4014,
          3960,
          3728,
          3827,
          3086,
          2964,
          3791,
          4162,
          4375,
          3842,
          4063,
          2971,
          3029,
          3419,
          3755,
          3544,
          3628,
          3397,
          2649,
          2495,
          2838,
          2964,
          2871,
          2850,
          2911,
          2134,
          2114,
          2892,
          3016,
          3770,
          4322,
          2514,
          1724,
          1589,
          2303,
          2597,
          2535,
          2727,
          2776,
          1877,
          1845,
          2381,
          2581,
          2720,
          2760,
          2689,
          1822,
          1853,
          2603,
          2949,
          2652,
          2396,
          2465,
          1725,
          1671,
          2549,
          2628,
          2562,
          2508,
          2125,
          1692,
          1741,
          2613,
          2687,
          3223,
          2675,
          2454,
          1682,
          1654,
          2359,
          2539,
          2627,
          2754,
          2584,
          1730,
          1664,
          2379,
          2725,
          2799,
          2873,
          3043,
          1801,
          1596,
          2619,
          2667,
          2757,
          2851,
          2815,
          1622,
          1663,
          2702,
          3161,
          2890,
          2140,
          1711
         ],
         "yaxis": "y"
        },
        {
         "marker": {
          "color": "blue"
         },
         "showlegend": false,
         "type": "scatter",
         "x": [
          "2017-08-01",
          "2017-07-31",
          "2017-07-30",
          "2017-07-29",
          "2017-07-28",
          "2017-07-27",
          "2017-07-26",
          "2017-07-25",
          "2017-07-24",
          "2017-07-23",
          "2017-07-22",
          "2017-07-21",
          "2017-07-20",
          "2017-07-19",
          "2017-07-18",
          "2017-07-17",
          "2017-07-16",
          "2017-07-15",
          "2017-07-14",
          "2017-07-13",
          "2017-07-12",
          "2017-07-11",
          "2017-07-10",
          "2017-07-09",
          "2017-07-08",
          "2017-07-07",
          "2017-07-06",
          "2017-07-05",
          "2017-07-04",
          "2017-07-03",
          "2017-07-02",
          "2017-07-01",
          "2017-06-30",
          "2017-06-29",
          "2017-06-28",
          "2017-06-27",
          "2017-06-26",
          "2017-06-25",
          "2017-06-24",
          "2017-06-23",
          "2017-06-22",
          "2017-06-21",
          "2017-06-20",
          "2017-06-19",
          "2017-06-18",
          "2017-06-17",
          "2017-06-16",
          "2017-06-15",
          "2017-06-14",
          "2017-06-13",
          "2017-06-12",
          "2017-06-11",
          "2017-06-10",
          "2017-06-09",
          "2017-06-08",
          "2017-06-07",
          "2017-06-06",
          "2017-06-05",
          "2017-06-04",
          "2017-06-03",
          "2017-06-02",
          "2017-06-01",
          "2017-05-31",
          "2017-05-30",
          "2017-05-29",
          "2017-05-28",
          "2017-05-27",
          "2017-05-26",
          "2017-05-25",
          "2017-05-24",
          "2017-05-23",
          "2017-05-22",
          "2017-05-21",
          "2017-05-20",
          "2017-05-19",
          "2017-05-18",
          "2017-05-17",
          "2017-05-16",
          "2017-05-15",
          "2017-05-14",
          "2017-05-13",
          "2017-05-12",
          "2017-05-11",
          "2017-05-10",
          "2017-05-09",
          "2017-05-08",
          "2017-05-07",
          "2017-05-06",
          "2017-05-05",
          "2017-05-04",
          "2017-05-03",
          "2017-05-02",
          "2017-05-01",
          "2017-04-30",
          "2017-04-29",
          "2017-04-28",
          "2017-04-27",
          "2017-04-26",
          "2017-04-25",
          "2017-04-24",
          "2017-04-23",
          "2017-04-22",
          "2017-04-21",
          "2017-04-20",
          "2017-04-19",
          "2017-04-18",
          "2017-04-17",
          "2017-04-16",
          "2017-04-15",
          "2017-04-14",
          "2017-04-13",
          "2017-04-12",
          "2017-04-11",
          "2017-04-10",
          "2017-04-09",
          "2017-04-08",
          "2017-04-07",
          "2017-04-06",
          "2017-04-05",
          "2017-04-04",
          "2017-04-03",
          "2017-04-02",
          "2017-04-01",
          "2017-03-31",
          "2017-03-30",
          "2017-03-29",
          "2017-03-28",
          "2017-03-27",
          "2017-03-26",
          "2017-03-25",
          "2017-03-24",
          "2017-03-23",
          "2017-03-22",
          "2017-03-21",
          "2017-03-20",
          "2017-03-19",
          "2017-03-18",
          "2017-03-17",
          "2017-03-16",
          "2017-03-15",
          "2017-03-14",
          "2017-03-13",
          "2017-03-12",
          "2017-03-11",
          "2017-03-10",
          "2017-03-09",
          "2017-03-08",
          "2017-03-07",
          "2017-03-06",
          "2017-03-05",
          "2017-03-04",
          "2017-03-03",
          "2017-03-02",
          "2017-03-01",
          "2017-02-28",
          "2017-02-27",
          "2017-02-26",
          "2017-02-25",
          "2017-02-24",
          "2017-02-23",
          "2017-02-22",
          "2017-02-21",
          "2017-02-20",
          "2017-02-19",
          "2017-02-18",
          "2017-02-17",
          "2017-02-16",
          "2017-02-15",
          "2017-02-14",
          "2017-02-13",
          "2017-02-12",
          "2017-02-11",
          "2017-02-10",
          "2017-02-09",
          "2017-02-08",
          "2017-02-07",
          "2017-02-06",
          "2017-02-05",
          "2017-02-04",
          "2017-02-03",
          "2017-02-02",
          "2017-02-01",
          "2017-01-31",
          "2017-01-30",
          "2017-01-29",
          "2017-01-28",
          "2017-01-27",
          "2017-01-26",
          "2017-01-25",
          "2017-01-24",
          "2017-01-23",
          "2017-01-22",
          "2017-01-21",
          "2017-01-20",
          "2017-01-19",
          "2017-01-18",
          "2017-01-17",
          "2017-01-16",
          "2017-01-15",
          "2017-01-14",
          "2017-01-13",
          "2017-01-12",
          "2017-01-11",
          "2017-01-10",
          "2017-01-09",
          "2017-01-08",
          "2017-01-07",
          "2017-01-06",
          "2017-01-05",
          "2017-01-04",
          "2017-01-03",
          "2017-01-02",
          "2017-01-01",
          "2016-12-31",
          "2016-12-30",
          "2016-12-29",
          "2016-12-28",
          "2016-12-27",
          "2016-12-26",
          "2016-12-25",
          "2016-12-24",
          "2016-12-23",
          "2016-12-22",
          "2016-12-21",
          "2016-12-20",
          "2016-12-19",
          "2016-12-18",
          "2016-12-17",
          "2016-12-16",
          "2016-12-15",
          "2016-12-14",
          "2016-12-13",
          "2016-12-12",
          "2016-12-11",
          "2016-12-10",
          "2016-12-09",
          "2016-12-08",
          "2016-12-07",
          "2016-12-06",
          "2016-12-05",
          "2016-12-04",
          "2016-12-03",
          "2016-12-02",
          "2016-12-01",
          "2016-11-30",
          "2016-11-29",
          "2016-11-28",
          "2016-11-27",
          "2016-11-26",
          "2016-11-25",
          "2016-11-24",
          "2016-11-23",
          "2016-11-22",
          "2016-11-21",
          "2016-11-20",
          "2016-11-19",
          "2016-11-18",
          "2016-11-17",
          "2016-11-16",
          "2016-11-15",
          "2016-11-14",
          "2016-11-13",
          "2016-11-12",
          "2016-11-11",
          "2016-11-10",
          "2016-11-09",
          "2016-11-08",
          "2016-11-07",
          "2016-11-06",
          "2016-11-05",
          "2016-11-04",
          "2016-11-03",
          "2016-11-02",
          "2016-11-01",
          "2016-10-31",
          "2016-10-30",
          "2016-10-29",
          "2016-10-28",
          "2016-10-27",
          "2016-10-26",
          "2016-10-25",
          "2016-10-24",
          "2016-10-23",
          "2016-10-22",
          "2016-10-21",
          "2016-10-20",
          "2016-10-19",
          "2016-10-18",
          "2016-10-17",
          "2016-10-16",
          "2016-10-15",
          "2016-10-14",
          "2016-10-13",
          "2016-10-12",
          "2016-10-11",
          "2016-10-10",
          "2016-10-09",
          "2016-10-08",
          "2016-10-07",
          "2016-10-06",
          "2016-10-05",
          "2016-10-04",
          "2016-10-03",
          "2016-10-02",
          "2016-10-01",
          "2016-09-30",
          "2016-09-29",
          "2016-09-28",
          "2016-09-27",
          "2016-09-26",
          "2016-09-25",
          "2016-09-24",
          "2016-09-23",
          "2016-09-22",
          "2016-09-21",
          "2016-09-20",
          "2016-09-19",
          "2016-09-18",
          "2016-09-17",
          "2016-09-16",
          "2016-09-15",
          "2016-09-14",
          "2016-09-13",
          "2016-09-12",
          "2016-09-11",
          "2016-09-10",
          "2016-09-09",
          "2016-09-08",
          "2016-09-07",
          "2016-09-06",
          "2016-09-05",
          "2016-09-04",
          "2016-09-03",
          "2016-09-02",
          "2016-09-01",
          "2016-08-31",
          "2016-08-30",
          "2016-08-29",
          "2016-08-28",
          "2016-08-27",
          "2016-08-26",
          "2016-08-25",
          "2016-08-24",
          "2016-08-23",
          "2016-08-22",
          "2016-08-21",
          "2016-08-20",
          "2016-08-19",
          "2016-08-18",
          "2016-08-17",
          "2016-08-16",
          "2016-08-15",
          "2016-08-14",
          "2016-08-13",
          "2016-08-12",
          "2016-08-11",
          "2016-08-10",
          "2016-08-09",
          "2016-08-08",
          "2016-08-07",
          "2016-08-06",
          "2016-08-05",
          "2016-08-04",
          "2016-08-03",
          "2016-08-02",
          "2016-08-01"
         ],
         "xaxis": "x2",
         "y": [
          43,
          61,
          22,
          19,
          42,
          49,
          41,
          36,
          38,
          16,
          17,
          41,
          40,
          56,
          50,
          49,
          27,
          16,
          44,
          62,
          48,
          40,
          44,
          19,
          14,
          38,
          30,
          41,
          7,
          13,
          8,
          3,
          33,
          44,
          31,
          40,
          32,
          19,
          10,
          26,
          36,
          34,
          35,
          39,
          25,
          18,
          36,
          35,
          45,
          48,
          61,
          26,
          12,
          35,
          24,
          37,
          29,
          35,
          15,
          15,
          36,
          35,
          39,
          39,
          18,
          9,
          16,
          31,
          35,
          36,
          32,
          23,
          22,
          30,
          39,
          34,
          38,
          51,
          37,
          10,
          23,
          54,
          44,
          40,
          46,
          48,
          11,
          12,
          35,
          48,
          70,
          67,
          78,
          27,
          20,
          59,
          42,
          42,
          33,
          24,
          12,
          15,
          42,
          39,
          38,
          47,
          37,
          14,
          7,
          39,
          37,
          45,
          29,
          36,
          10,
          18,
          43,
          41,
          32,
          39,
          36,
          13,
          12,
          17,
          38,
          49,
          44,
          46,
          14,
          13,
          30,
          24,
          37,
          33,
          35,
          17,
          17,
          31,
          29,
          31,
          32,
          35,
          11,
          13,
          32,
          28,
          24,
          35,
          30,
          28,
          26,
          25,
          27,
          32,
          29,
          27,
          9,
          12,
          25,
          30,
          34,
          25,
          21,
          15,
          13,
          67,
          32,
          27,
          51,
          30,
          16,
          10,
          24,
          28,
          24,
          23,
          28,
          12,
          14,
          29,
          26,
          27,
          39,
          33,
          19,
          4,
          21,
          27,
          34,
          28,
          27,
          10,
          11,
          18,
          27,
          36,
          32,
          13,
          6,
          11,
          28,
          22,
          17,
          23,
          38,
          11,
          8,
          26,
          41,
          29,
          29,
          18,
          11,
          10,
          13,
          22,
          25,
          17,
          15,
          18,
          19,
          19,
          33,
          35,
          67,
          69,
          38,
          43,
          87,
          72,
          65,
          77,
          83,
          49,
          37,
          72,
          66,
          49,
          70,
          76,
          36,
          22,
          41,
          50,
          57,
          46,
          73,
          18,
          13,
          29,
          15,
          31,
          21,
          39,
          13,
          16,
          35,
          45,
          33,
          32,
          39,
          16,
          15,
          22,
          25,
          29,
          44,
          41,
          21,
          20,
          37,
          34,
          27,
          33,
          28,
          16,
          11,
          30,
          40,
          38,
          21,
          33,
          28,
          14,
          33,
          30,
          29,
          32,
          40,
          20,
          9,
          21,
          30,
          37,
          43,
          38,
          22,
          12,
          39,
          33,
          44,
          35,
          35,
          25,
          6,
          25,
          32,
          39,
          35,
          42,
          18,
          12,
          24,
          33,
          39,
          45,
          36,
          15,
          8,
          39,
          32,
          42,
          21,
          28,
          17,
          13,
          39,
          46,
          33,
          38,
          16,
          9,
          13,
          27,
          43,
          32,
          34,
          43,
          22,
          15,
          39,
          62,
          47,
          57,
          57,
          23,
          21,
          50,
          43,
          40,
          59,
          65,
          23,
          14,
          71,
          45,
          46,
          42,
          34,
          16,
          10,
          41,
          17,
          0,
          17,
          34
         ],
         "yaxis": "y2"
        }
       ],
       "layout": {
        "annotations": [
         {
          "font": {
           "size": 16
          },
          "showarrow": false,
          "text": "Date - Count",
          "x": 0.5,
          "xanchor": "center",
          "xref": "paper",
          "y": 1,
          "yanchor": "bottom",
          "yref": "paper"
         },
         {
          "font": {
           "size": 16
          },
          "showarrow": false,
          "text": "Date - Non-zero Revenue count",
          "x": 0.5,
          "xanchor": "center",
          "xref": "paper",
          "y": 0.46,
          "yanchor": "bottom",
          "yref": "paper"
         }
        ],
        "height": 800,
        "paper_bgcolor": "rgb(233,233,233)",
        "template": {
         "data": {
          "bar": [
           {
            "error_x": {
             "color": "#2a3f5f"
            },
            "error_y": {
             "color": "#2a3f5f"
            },
            "marker": {
             "line": {
              "color": "#E5ECF6",
              "width": 0.5
             }
            },
            "type": "bar"
           }
          ],
          "barpolar": [
           {
            "marker": {
             "line": {
              "color": "#E5ECF6",
              "width": 0.5
             }
            },
            "type": "barpolar"
           }
          ],
          "carpet": [
           {
            "aaxis": {
             "endlinecolor": "#2a3f5f",
             "gridcolor": "white",
             "linecolor": "white",
             "minorgridcolor": "white",
             "startlinecolor": "#2a3f5f"
            },
            "baxis": {
             "endlinecolor": "#2a3f5f",
             "gridcolor": "white",
             "linecolor": "white",
             "minorgridcolor": "white",
             "startlinecolor": "#2a3f5f"
            },
            "type": "carpet"
           }
          ],
          "choropleth": [
           {
            "colorbar": {
             "outlinewidth": 0,
             "ticks": ""
            },
            "type": "choropleth"
           }
          ],
          "contour": [
           {
            "colorbar": {
             "outlinewidth": 0,
             "ticks": ""
            },
            "colorscale": [
             [
              0,
              "#0d0887"
             ],
             [
              0.1111111111111111,
              "#46039f"
             ],
             [
              0.2222222222222222,
              "#7201a8"
             ],
             [
              0.3333333333333333,
              "#9c179e"
             ],
             [
              0.4444444444444444,
              "#bd3786"
             ],
             [
              0.5555555555555556,
              "#d8576b"
             ],
             [
              0.6666666666666666,
              "#ed7953"
             ],
             [
              0.7777777777777778,
              "#fb9f3a"
             ],
             [
              0.8888888888888888,
              "#fdca26"
             ],
             [
              1,
              "#f0f921"
             ]
            ],
            "type": "contour"
           }
          ],
          "contourcarpet": [
           {
            "colorbar": {
             "outlinewidth": 0,
             "ticks": ""
            },
            "type": "contourcarpet"
           }
          ],
          "heatmap": [
           {
            "colorbar": {
             "outlinewidth": 0,
             "ticks": ""
            },
            "colorscale": [
             [
              0,
              "#0d0887"
             ],
             [
              0.1111111111111111,
              "#46039f"
             ],
             [
              0.2222222222222222,
              "#7201a8"
             ],
             [
              0.3333333333333333,
              "#9c179e"
             ],
             [
              0.4444444444444444,
              "#bd3786"
             ],
             [
              0.5555555555555556,
              "#d8576b"
             ],
             [
              0.6666666666666666,
              "#ed7953"
             ],
             [
              0.7777777777777778,
              "#fb9f3a"
             ],
             [
              0.8888888888888888,
              "#fdca26"
             ],
             [
              1,
              "#f0f921"
             ]
            ],
            "type": "heatmap"
           }
          ],
          "heatmapgl": [
           {
            "colorbar": {
             "outlinewidth": 0,
             "ticks": ""
            },
            "colorscale": [
             [
              0,
              "#0d0887"
             ],
             [
              0.1111111111111111,
              "#46039f"
             ],
             [
              0.2222222222222222,
              "#7201a8"
             ],
             [
              0.3333333333333333,
              "#9c179e"
             ],
             [
              0.4444444444444444,
              "#bd3786"
             ],
             [
              0.5555555555555556,
              "#d8576b"
             ],
             [
              0.6666666666666666,
              "#ed7953"
             ],
             [
              0.7777777777777778,
              "#fb9f3a"
             ],
             [
              0.8888888888888888,
              "#fdca26"
             ],
             [
              1,
              "#f0f921"
             ]
            ],
            "type": "heatmapgl"
           }
          ],
          "histogram": [
           {
            "marker": {
             "colorbar": {
              "outlinewidth": 0,
              "ticks": ""
             }
            },
            "type": "histogram"
           }
          ],
          "histogram2d": [
           {
            "colorbar": {
             "outlinewidth": 0,
             "ticks": ""
            },
            "colorscale": [
             [
              0,
              "#0d0887"
             ],
             [
              0.1111111111111111,
              "#46039f"
             ],
             [
              0.2222222222222222,
              "#7201a8"
             ],
             [
              0.3333333333333333,
              "#9c179e"
             ],
             [
              0.4444444444444444,
              "#bd3786"
             ],
             [
              0.5555555555555556,
              "#d8576b"
             ],
             [
              0.6666666666666666,
              "#ed7953"
             ],
             [
              0.7777777777777778,
              "#fb9f3a"
             ],
             [
              0.8888888888888888,
              "#fdca26"
             ],
             [
              1,
              "#f0f921"
             ]
            ],
            "type": "histogram2d"
           }
          ],
          "histogram2dcontour": [
           {
            "colorbar": {
             "outlinewidth": 0,
             "ticks": ""
            },
            "colorscale": [
             [
              0,
              "#0d0887"
             ],
             [
              0.1111111111111111,
              "#46039f"
             ],
             [
              0.2222222222222222,
              "#7201a8"
             ],
             [
              0.3333333333333333,
              "#9c179e"
             ],
             [
              0.4444444444444444,
              "#bd3786"
             ],
             [
              0.5555555555555556,
              "#d8576b"
             ],
             [
              0.6666666666666666,
              "#ed7953"
             ],
             [
              0.7777777777777778,
              "#fb9f3a"
             ],
             [
              0.8888888888888888,
              "#fdca26"
             ],
             [
              1,
              "#f0f921"
             ]
            ],
            "type": "histogram2dcontour"
           }
          ],
          "mesh3d": [
           {
            "colorbar": {
             "outlinewidth": 0,
             "ticks": ""
            },
            "type": "mesh3d"
           }
          ],
          "parcoords": [
           {
            "line": {
             "colorbar": {
              "outlinewidth": 0,
              "ticks": ""
             }
            },
            "type": "parcoords"
           }
          ],
          "pie": [
           {
            "automargin": true,
            "type": "pie"
           }
          ],
          "scatter": [
           {
            "marker": {
             "colorbar": {
              "outlinewidth": 0,
              "ticks": ""
             }
            },
            "type": "scatter"
           }
          ],
          "scatter3d": [
           {
            "line": {
             "colorbar": {
              "outlinewidth": 0,
              "ticks": ""
             }
            },
            "marker": {
             "colorbar": {
              "outlinewidth": 0,
              "ticks": ""
             }
            },
            "type": "scatter3d"
           }
          ],
          "scattercarpet": [
           {
            "marker": {
             "colorbar": {
              "outlinewidth": 0,
              "ticks": ""
             }
            },
            "type": "scattercarpet"
           }
          ],
          "scattergeo": [
           {
            "marker": {
             "colorbar": {
              "outlinewidth": 0,
              "ticks": ""
             }
            },
            "type": "scattergeo"
           }
          ],
          "scattergl": [
           {
            "marker": {
             "colorbar": {
              "outlinewidth": 0,
              "ticks": ""
             }
            },
            "type": "scattergl"
           }
          ],
          "scattermapbox": [
           {
            "marker": {
             "colorbar": {
              "outlinewidth": 0,
              "ticks": ""
             }
            },
            "type": "scattermapbox"
           }
          ],
          "scatterpolar": [
           {
            "marker": {
             "colorbar": {
              "outlinewidth": 0,
              "ticks": ""
             }
            },
            "type": "scatterpolar"
           }
          ],
          "scatterpolargl": [
           {
            "marker": {
             "colorbar": {
              "outlinewidth": 0,
              "ticks": ""
             }
            },
            "type": "scatterpolargl"
           }
          ],
          "scatterternary": [
           {
            "marker": {
             "colorbar": {
              "outlinewidth": 0,
              "ticks": ""
             }
            },
            "type": "scatterternary"
           }
          ],
          "surface": [
           {
            "colorbar": {
             "outlinewidth": 0,
             "ticks": ""
            },
            "colorscale": [
             [
              0,
              "#0d0887"
             ],
             [
              0.1111111111111111,
              "#46039f"
             ],
             [
              0.2222222222222222,
              "#7201a8"
             ],
             [
              0.3333333333333333,
              "#9c179e"
             ],
             [
              0.4444444444444444,
              "#bd3786"
             ],
             [
              0.5555555555555556,
              "#d8576b"
             ],
             [
              0.6666666666666666,
              "#ed7953"
             ],
             [
              0.7777777777777778,
              "#fb9f3a"
             ],
             [
              0.8888888888888888,
              "#fdca26"
             ],
             [
              1,
              "#f0f921"
             ]
            ],
            "type": "surface"
           }
          ],
          "table": [
           {
            "cells": {
             "fill": {
              "color": "#EBF0F8"
             },
             "line": {
              "color": "white"
             }
            },
            "header": {
             "fill": {
              "color": "#C8D4E3"
             },
             "line": {
              "color": "white"
             }
            },
            "type": "table"
           }
          ]
         },
         "layout": {
          "annotationdefaults": {
           "arrowcolor": "#2a3f5f",
           "arrowhead": 0,
           "arrowwidth": 1
          },
          "coloraxis": {
           "colorbar": {
            "outlinewidth": 0,
            "ticks": ""
           }
          },
          "colorscale": {
           "diverging": [
            [
             0,
             "#8e0152"
            ],
            [
             0.1,
             "#c51b7d"
            ],
            [
             0.2,
             "#de77ae"
            ],
            [
             0.3,
             "#f1b6da"
            ],
            [
             0.4,
             "#fde0ef"
            ],
            [
             0.5,
             "#f7f7f7"
            ],
            [
             0.6,
             "#e6f5d0"
            ],
            [
             0.7,
             "#b8e186"
            ],
            [
             0.8,
             "#7fbc41"
            ],
            [
             0.9,
             "#4d9221"
            ],
            [
             1,
             "#276419"
            ]
           ],
           "sequential": [
            [
             0,
             "#0d0887"
            ],
            [
             0.1111111111111111,
             "#46039f"
            ],
            [
             0.2222222222222222,
             "#7201a8"
            ],
            [
             0.3333333333333333,
             "#9c179e"
            ],
            [
             0.4444444444444444,
             "#bd3786"
            ],
            [
             0.5555555555555556,
             "#d8576b"
            ],
            [
             0.6666666666666666,
             "#ed7953"
            ],
            [
             0.7777777777777778,
             "#fb9f3a"
            ],
            [
             0.8888888888888888,
             "#fdca26"
            ],
            [
             1,
             "#f0f921"
            ]
           ],
           "sequentialminus": [
            [
             0,
             "#0d0887"
            ],
            [
             0.1111111111111111,
             "#46039f"
            ],
            [
             0.2222222222222222,
             "#7201a8"
            ],
            [
             0.3333333333333333,
             "#9c179e"
            ],
            [
             0.4444444444444444,
             "#bd3786"
            ],
            [
             0.5555555555555556,
             "#d8576b"
            ],
            [
             0.6666666666666666,
             "#ed7953"
            ],
            [
             0.7777777777777778,
             "#fb9f3a"
            ],
            [
             0.8888888888888888,
             "#fdca26"
            ],
            [
             1,
             "#f0f921"
            ]
           ]
          },
          "colorway": [
           "#636efa",
           "#EF553B",
           "#00cc96",
           "#ab63fa",
           "#FFA15A",
           "#19d3f3",
           "#FF6692",
           "#B6E880",
           "#FF97FF",
           "#FECB52"
          ],
          "font": {
           "color": "#2a3f5f"
          },
          "geo": {
           "bgcolor": "white",
           "lakecolor": "white",
           "landcolor": "#E5ECF6",
           "showlakes": true,
           "showland": true,
           "subunitcolor": "white"
          },
          "hoverlabel": {
           "align": "left"
          },
          "hovermode": "closest",
          "mapbox": {
           "style": "light"
          },
          "paper_bgcolor": "white",
          "plot_bgcolor": "#E5ECF6",
          "polar": {
           "angularaxis": {
            "gridcolor": "white",
            "linecolor": "white",
            "ticks": ""
           },
           "bgcolor": "#E5ECF6",
           "radialaxis": {
            "gridcolor": "white",
            "linecolor": "white",
            "ticks": ""
           }
          },
          "scene": {
           "xaxis": {
            "backgroundcolor": "#E5ECF6",
            "gridcolor": "white",
            "gridwidth": 2,
            "linecolor": "white",
            "showbackground": true,
            "ticks": "",
            "zerolinecolor": "white"
           },
           "yaxis": {
            "backgroundcolor": "#E5ECF6",
            "gridcolor": "white",
            "gridwidth": 2,
            "linecolor": "white",
            "showbackground": true,
            "ticks": "",
            "zerolinecolor": "white"
           },
           "zaxis": {
            "backgroundcolor": "#E5ECF6",
            "gridcolor": "white",
            "gridwidth": 2,
            "linecolor": "white",
            "showbackground": true,
            "ticks": "",
            "zerolinecolor": "white"
           }
          },
          "shapedefaults": {
           "line": {
            "color": "#2a3f5f"
           }
          },
          "ternary": {
           "aaxis": {
            "gridcolor": "white",
            "linecolor": "white",
            "ticks": ""
           },
           "baxis": {
            "gridcolor": "white",
            "linecolor": "white",
            "ticks": ""
           },
           "bgcolor": "#E5ECF6",
           "caxis": {
            "gridcolor": "white",
            "linecolor": "white",
            "ticks": ""
           }
          },
          "title": {
           "x": 0.05
          },
          "xaxis": {
           "automargin": true,
           "gridcolor": "white",
           "linecolor": "white",
           "ticks": "",
           "title": {
            "standoff": 15
           },
           "zerolinecolor": "white",
           "zerolinewidth": 2
          },
          "yaxis": {
           "automargin": true,
           "gridcolor": "white",
           "linecolor": "white",
           "ticks": "",
           "title": {
            "standoff": 15
           },
           "zerolinecolor": "white",
           "zerolinewidth": 2
          }
         }
        },
        "title": {
         "text": "Date Plots"
        },
        "width": 800,
        "xaxis": {
         "anchor": "y",
         "domain": [
          0,
          1
         ]
        },
        "xaxis2": {
         "anchor": "y2",
         "domain": [
          0,
          1
         ]
        },
        "yaxis": {
         "anchor": "x",
         "domain": [
          0.54,
          1
         ]
        },
        "yaxis2": {
         "anchor": "x2",
         "domain": [
          0,
          0.46
         ]
        }
       }
      },
      "text/html": [
       "<div>                            <div id=\"1f621131-698b-4f69-81d5-68a73bb23fac\" class=\"plotly-graph-div\" style=\"height:800px; width:800px;\"></div>            <script type=\"text/javascript\">                require([\"plotly\"], function(Plotly) {                    window.PLOTLYENV=window.PLOTLYENV || {};                                    if (document.getElementById(\"1f621131-698b-4f69-81d5-68a73bb23fac\")) {                    Plotly.newPlot(                        \"1f621131-698b-4f69-81d5-68a73bb23fac\",                        [{\"marker\": {\"color\": \"red\"}, \"showlegend\": false, \"type\": \"scatter\", \"x\": [\"2017-08-01\", \"2017-07-31\", \"2017-07-30\", \"2017-07-29\", \"2017-07-28\", \"2017-07-27\", \"2017-07-26\", \"2017-07-25\", \"2017-07-24\", \"2017-07-23\", \"2017-07-22\", \"2017-07-21\", \"2017-07-20\", \"2017-07-19\", \"2017-07-18\", \"2017-07-17\", \"2017-07-16\", \"2017-07-15\", \"2017-07-14\", \"2017-07-13\", \"2017-07-12\", \"2017-07-11\", \"2017-07-10\", \"2017-07-09\", \"2017-07-08\", \"2017-07-07\", \"2017-07-06\", \"2017-07-05\", \"2017-07-04\", \"2017-07-03\", \"2017-07-02\", \"2017-07-01\", \"2017-06-30\", \"2017-06-29\", \"2017-06-28\", \"2017-06-27\", \"2017-06-26\", \"2017-06-25\", \"2017-06-24\", \"2017-06-23\", \"2017-06-22\", \"2017-06-21\", \"2017-06-20\", \"2017-06-19\", \"2017-06-18\", \"2017-06-17\", \"2017-06-16\", \"2017-06-15\", \"2017-06-14\", \"2017-06-13\", \"2017-06-12\", \"2017-06-11\", \"2017-06-10\", \"2017-06-09\", \"2017-06-08\", \"2017-06-07\", \"2017-06-06\", \"2017-06-05\", \"2017-06-04\", \"2017-06-03\", \"2017-06-02\", \"2017-06-01\", \"2017-05-31\", \"2017-05-30\", \"2017-05-29\", \"2017-05-28\", \"2017-05-27\", \"2017-05-26\", \"2017-05-25\", \"2017-05-24\", \"2017-05-23\", \"2017-05-22\", \"2017-05-21\", \"2017-05-20\", \"2017-05-19\", \"2017-05-18\", \"2017-05-17\", \"2017-05-16\", \"2017-05-15\", \"2017-05-14\", \"2017-05-13\", \"2017-05-12\", \"2017-05-11\", \"2017-05-10\", \"2017-05-09\", \"2017-05-08\", \"2017-05-07\", \"2017-05-06\", \"2017-05-05\", \"2017-05-04\", \"2017-05-03\", \"2017-05-02\", \"2017-05-01\", \"2017-04-30\", \"2017-04-29\", \"2017-04-28\", \"2017-04-27\", \"2017-04-26\", \"2017-04-25\", \"2017-04-24\", \"2017-04-23\", \"2017-04-22\", \"2017-04-21\", \"2017-04-20\", \"2017-04-19\", \"2017-04-18\", \"2017-04-17\", \"2017-04-16\", \"2017-04-15\", \"2017-04-14\", \"2017-04-13\", \"2017-04-12\", \"2017-04-11\", \"2017-04-10\", \"2017-04-09\", \"2017-04-08\", \"2017-04-07\", \"2017-04-06\", \"2017-04-05\", \"2017-04-04\", \"2017-04-03\", \"2017-04-02\", \"2017-04-01\", \"2017-03-31\", \"2017-03-30\", \"2017-03-29\", \"2017-03-28\", \"2017-03-27\", \"2017-03-26\", \"2017-03-25\", \"2017-03-24\", \"2017-03-23\", \"2017-03-22\", \"2017-03-21\", \"2017-03-20\", \"2017-03-19\", \"2017-03-18\", \"2017-03-17\", \"2017-03-16\", \"2017-03-15\", \"2017-03-14\", \"2017-03-13\", \"2017-03-12\", \"2017-03-11\", \"2017-03-10\", \"2017-03-09\", \"2017-03-08\", \"2017-03-07\", \"2017-03-06\", \"2017-03-05\", \"2017-03-04\", \"2017-03-03\", \"2017-03-02\", \"2017-03-01\", \"2017-02-28\", \"2017-02-27\", \"2017-02-26\", \"2017-02-25\", \"2017-02-24\", \"2017-02-23\", \"2017-02-22\", \"2017-02-21\", \"2017-02-20\", \"2017-02-19\", \"2017-02-18\", \"2017-02-17\", \"2017-02-16\", \"2017-02-15\", \"2017-02-14\", \"2017-02-13\", \"2017-02-12\", \"2017-02-11\", \"2017-02-10\", \"2017-02-09\", \"2017-02-08\", \"2017-02-07\", \"2017-02-06\", \"2017-02-05\", \"2017-02-04\", \"2017-02-03\", \"2017-02-02\", \"2017-02-01\", \"2017-01-31\", \"2017-01-30\", \"2017-01-29\", \"2017-01-28\", \"2017-01-27\", \"2017-01-26\", \"2017-01-25\", \"2017-01-24\", \"2017-01-23\", \"2017-01-22\", \"2017-01-21\", \"2017-01-20\", \"2017-01-19\", \"2017-01-18\", \"2017-01-17\", \"2017-01-16\", \"2017-01-15\", \"2017-01-14\", \"2017-01-13\", \"2017-01-12\", \"2017-01-11\", \"2017-01-10\", \"2017-01-09\", \"2017-01-08\", \"2017-01-07\", \"2017-01-06\", \"2017-01-05\", \"2017-01-04\", \"2017-01-03\", \"2017-01-02\", \"2017-01-01\", \"2016-12-31\", \"2016-12-30\", \"2016-12-29\", \"2016-12-28\", \"2016-12-27\", \"2016-12-26\", \"2016-12-25\", \"2016-12-24\", \"2016-12-23\", \"2016-12-22\", \"2016-12-21\", \"2016-12-20\", \"2016-12-19\", \"2016-12-18\", \"2016-12-17\", \"2016-12-16\", \"2016-12-15\", \"2016-12-14\", \"2016-12-13\", \"2016-12-12\", \"2016-12-11\", \"2016-12-10\", \"2016-12-09\", \"2016-12-08\", \"2016-12-07\", \"2016-12-06\", \"2016-12-05\", \"2016-12-04\", \"2016-12-03\", \"2016-12-02\", \"2016-12-01\", \"2016-11-30\", \"2016-11-29\", \"2016-11-28\", \"2016-11-27\", \"2016-11-26\", \"2016-11-25\", \"2016-11-24\", \"2016-11-23\", \"2016-11-22\", \"2016-11-21\", \"2016-11-20\", \"2016-11-19\", \"2016-11-18\", \"2016-11-17\", \"2016-11-16\", \"2016-11-15\", \"2016-11-14\", \"2016-11-13\", \"2016-11-12\", \"2016-11-11\", \"2016-11-10\", \"2016-11-09\", \"2016-11-08\", \"2016-11-07\", \"2016-11-06\", \"2016-11-05\", \"2016-11-04\", \"2016-11-03\", \"2016-11-02\", \"2016-11-01\", \"2016-10-31\", \"2016-10-30\", \"2016-10-29\", \"2016-10-28\", \"2016-10-27\", \"2016-10-26\", \"2016-10-25\", \"2016-10-24\", \"2016-10-23\", \"2016-10-22\", \"2016-10-21\", \"2016-10-20\", \"2016-10-19\", \"2016-10-18\", \"2016-10-17\", \"2016-10-16\", \"2016-10-15\", \"2016-10-14\", \"2016-10-13\", \"2016-10-12\", \"2016-10-11\", \"2016-10-10\", \"2016-10-09\", \"2016-10-08\", \"2016-10-07\", \"2016-10-06\", \"2016-10-05\", \"2016-10-04\", \"2016-10-03\", \"2016-10-02\", \"2016-10-01\", \"2016-09-30\", \"2016-09-29\", \"2016-09-28\", \"2016-09-27\", \"2016-09-26\", \"2016-09-25\", \"2016-09-24\", \"2016-09-23\", \"2016-09-22\", \"2016-09-21\", \"2016-09-20\", \"2016-09-19\", \"2016-09-18\", \"2016-09-17\", \"2016-09-16\", \"2016-09-15\", \"2016-09-14\", \"2016-09-13\", \"2016-09-12\", \"2016-09-11\", \"2016-09-10\", \"2016-09-09\", \"2016-09-08\", \"2016-09-07\", \"2016-09-06\", \"2016-09-05\", \"2016-09-04\", \"2016-09-03\", \"2016-09-02\", \"2016-09-01\", \"2016-08-31\", \"2016-08-30\", \"2016-08-29\", \"2016-08-28\", \"2016-08-27\", \"2016-08-26\", \"2016-08-25\", \"2016-08-24\", \"2016-08-23\", \"2016-08-22\", \"2016-08-21\", \"2016-08-20\", \"2016-08-19\", \"2016-08-18\", \"2016-08-17\", \"2016-08-16\", \"2016-08-15\", \"2016-08-14\", \"2016-08-13\", \"2016-08-12\", \"2016-08-11\", \"2016-08-10\", \"2016-08-09\", \"2016-08-08\", \"2016-08-07\", \"2016-08-06\", \"2016-08-05\", \"2016-08-04\", \"2016-08-03\", \"2016-08-02\", \"2016-08-01\"], \"xaxis\": \"x\", \"y\": [2556, 2620, 1799, 1597, 2433, 2529, 2725, 2631, 2436, 1966, 1724, 2427, 2668, 2514, 2804, 2671, 1766, 1721, 2382, 2741, 2554, 2635, 2769, 1921, 1859, 2450, 2658, 2885, 1938, 2046, 1895, 2048, 2499, 2709, 2687, 2789, 2226, 1597, 1510, 2095, 2258, 2357, 2143, 2142, 1432, 1391, 2028, 2237, 2517, 2181, 2361, 1555, 1545, 1927, 2280, 2279, 2391, 2493, 1534, 1399, 2190, 2826, 2292, 2199, 1745, 1463, 1502, 2009, 2228, 2406, 2129, 2248, 1645, 1855, 2223, 2715, 3117, 3098, 2360, 1290, 1251, 1932, 2218, 2024, 2108, 2025, 1400, 1383, 1960, 2806, 2588, 2564, 2588, 1594, 1566, 2411, 2838, 4224, 2354, 2263, 1548, 1612, 2210, 2374, 2397, 2391, 2279, 1507, 1506, 1834, 2300, 2341, 2464, 2563, 1766, 1829, 2297, 2647, 2619, 2978, 2383, 1861, 2170, 2268, 2731, 2525, 2577, 2525, 1768, 1712, 2374, 2847, 2582, 2611, 2383, 1776, 1610, 2129, 2409, 2486, 2338, 2537, 1781, 1707, 2194, 2231, 2449, 2586, 2396, 1827, 1753, 2162, 2267, 2390, 2347, 2352, 1643, 1638, 2093, 2364, 2477, 2582, 2374, 2187, 1755, 2785, 2539, 2629, 2379, 2266, 1790, 1761, 2199, 2678, 2570, 2476, 2238, 1522, 1549, 2182, 2372, 2445, 2229, 2392, 1814, 1614, 1969, 2209, 2986, 3618, 2262, 1700, 1685, 2074, 2083, 2245, 2443, 1906, 1576, 1526, 1967, 2203, 2185, 2268, 2308, 1637, 1615, 2210, 2193, 2390, 2403, 1620, 1364, 1211, 1232, 1647, 1763, 1855, 1586, 1386, 1231, 1604, 2100, 2594, 3110, 3222, 2128, 2324, 2956, 2937, 3040, 3166, 3433, 2208, 2207, 2830, 3013, 2840, 3021, 4265, 3220, 3044, 3751, 4200, 4435, 4337, 4807, 3356, 3213, 3759, 3770, 3805, 3942, 4143, 3247, 2984, 3654, 4074, 4334, 4685, 4466, 3144, 3119, 3588, 4055, 3752, 3899, 3832, 3232, 3042, 3596, 4014, 3960, 3728, 3827, 3086, 2964, 3791, 4162, 4375, 3842, 4063, 2971, 3029, 3419, 3755, 3544, 3628, 3397, 2649, 2495, 2838, 2964, 2871, 2850, 2911, 2134, 2114, 2892, 3016, 3770, 4322, 2514, 1724, 1589, 2303, 2597, 2535, 2727, 2776, 1877, 1845, 2381, 2581, 2720, 2760, 2689, 1822, 1853, 2603, 2949, 2652, 2396, 2465, 1725, 1671, 2549, 2628, 2562, 2508, 2125, 1692, 1741, 2613, 2687, 3223, 2675, 2454, 1682, 1654, 2359, 2539, 2627, 2754, 2584, 1730, 1664, 2379, 2725, 2799, 2873, 3043, 1801, 1596, 2619, 2667, 2757, 2851, 2815, 1622, 1663, 2702, 3161, 2890, 2140, 1711], \"yaxis\": \"y\"}, {\"marker\": {\"color\": \"blue\"}, \"showlegend\": false, \"type\": \"scatter\", \"x\": [\"2017-08-01\", \"2017-07-31\", \"2017-07-30\", \"2017-07-29\", \"2017-07-28\", \"2017-07-27\", \"2017-07-26\", \"2017-07-25\", \"2017-07-24\", \"2017-07-23\", \"2017-07-22\", \"2017-07-21\", \"2017-07-20\", \"2017-07-19\", \"2017-07-18\", \"2017-07-17\", \"2017-07-16\", \"2017-07-15\", \"2017-07-14\", \"2017-07-13\", \"2017-07-12\", \"2017-07-11\", \"2017-07-10\", \"2017-07-09\", \"2017-07-08\", \"2017-07-07\", \"2017-07-06\", \"2017-07-05\", \"2017-07-04\", \"2017-07-03\", \"2017-07-02\", \"2017-07-01\", \"2017-06-30\", \"2017-06-29\", \"2017-06-28\", \"2017-06-27\", \"2017-06-26\", \"2017-06-25\", \"2017-06-24\", \"2017-06-23\", \"2017-06-22\", \"2017-06-21\", \"2017-06-20\", \"2017-06-19\", \"2017-06-18\", \"2017-06-17\", \"2017-06-16\", \"2017-06-15\", \"2017-06-14\", \"2017-06-13\", \"2017-06-12\", \"2017-06-11\", \"2017-06-10\", \"2017-06-09\", \"2017-06-08\", \"2017-06-07\", \"2017-06-06\", \"2017-06-05\", \"2017-06-04\", \"2017-06-03\", \"2017-06-02\", \"2017-06-01\", \"2017-05-31\", \"2017-05-30\", \"2017-05-29\", \"2017-05-28\", \"2017-05-27\", \"2017-05-26\", \"2017-05-25\", \"2017-05-24\", \"2017-05-23\", \"2017-05-22\", \"2017-05-21\", \"2017-05-20\", \"2017-05-19\", \"2017-05-18\", \"2017-05-17\", \"2017-05-16\", \"2017-05-15\", \"2017-05-14\", \"2017-05-13\", \"2017-05-12\", \"2017-05-11\", \"2017-05-10\", \"2017-05-09\", \"2017-05-08\", \"2017-05-07\", \"2017-05-06\", \"2017-05-05\", \"2017-05-04\", \"2017-05-03\", \"2017-05-02\", \"2017-05-01\", \"2017-04-30\", \"2017-04-29\", \"2017-04-28\", \"2017-04-27\", \"2017-04-26\", \"2017-04-25\", \"2017-04-24\", \"2017-04-23\", \"2017-04-22\", \"2017-04-21\", \"2017-04-20\", \"2017-04-19\", \"2017-04-18\", \"2017-04-17\", \"2017-04-16\", \"2017-04-15\", \"2017-04-14\", \"2017-04-13\", \"2017-04-12\", \"2017-04-11\", \"2017-04-10\", \"2017-04-09\", \"2017-04-08\", \"2017-04-07\", \"2017-04-06\", \"2017-04-05\", \"2017-04-04\", \"2017-04-03\", \"2017-04-02\", \"2017-04-01\", \"2017-03-31\", \"2017-03-30\", \"2017-03-29\", \"2017-03-28\", \"2017-03-27\", \"2017-03-26\", \"2017-03-25\", \"2017-03-24\", \"2017-03-23\", \"2017-03-22\", \"2017-03-21\", \"2017-03-20\", \"2017-03-19\", \"2017-03-18\", \"2017-03-17\", \"2017-03-16\", \"2017-03-15\", \"2017-03-14\", \"2017-03-13\", \"2017-03-12\", \"2017-03-11\", \"2017-03-10\", \"2017-03-09\", \"2017-03-08\", \"2017-03-07\", \"2017-03-06\", \"2017-03-05\", \"2017-03-04\", \"2017-03-03\", \"2017-03-02\", \"2017-03-01\", \"2017-02-28\", \"2017-02-27\", \"2017-02-26\", \"2017-02-25\", \"2017-02-24\", \"2017-02-23\", \"2017-02-22\", \"2017-02-21\", \"2017-02-20\", \"2017-02-19\", \"2017-02-18\", \"2017-02-17\", \"2017-02-16\", \"2017-02-15\", \"2017-02-14\", \"2017-02-13\", \"2017-02-12\", \"2017-02-11\", \"2017-02-10\", \"2017-02-09\", \"2017-02-08\", \"2017-02-07\", \"2017-02-06\", \"2017-02-05\", \"2017-02-04\", \"2017-02-03\", \"2017-02-02\", \"2017-02-01\", \"2017-01-31\", \"2017-01-30\", \"2017-01-29\", \"2017-01-28\", \"2017-01-27\", \"2017-01-26\", \"2017-01-25\", \"2017-01-24\", \"2017-01-23\", \"2017-01-22\", \"2017-01-21\", \"2017-01-20\", \"2017-01-19\", \"2017-01-18\", \"2017-01-17\", \"2017-01-16\", \"2017-01-15\", \"2017-01-14\", \"2017-01-13\", \"2017-01-12\", \"2017-01-11\", \"2017-01-10\", \"2017-01-09\", \"2017-01-08\", \"2017-01-07\", \"2017-01-06\", \"2017-01-05\", \"2017-01-04\", \"2017-01-03\", \"2017-01-02\", \"2017-01-01\", \"2016-12-31\", \"2016-12-30\", \"2016-12-29\", \"2016-12-28\", \"2016-12-27\", \"2016-12-26\", \"2016-12-25\", \"2016-12-24\", \"2016-12-23\", \"2016-12-22\", \"2016-12-21\", \"2016-12-20\", \"2016-12-19\", \"2016-12-18\", \"2016-12-17\", \"2016-12-16\", \"2016-12-15\", \"2016-12-14\", \"2016-12-13\", \"2016-12-12\", \"2016-12-11\", \"2016-12-10\", \"2016-12-09\", \"2016-12-08\", \"2016-12-07\", \"2016-12-06\", \"2016-12-05\", \"2016-12-04\", \"2016-12-03\", \"2016-12-02\", \"2016-12-01\", \"2016-11-30\", \"2016-11-29\", \"2016-11-28\", \"2016-11-27\", \"2016-11-26\", \"2016-11-25\", \"2016-11-24\", \"2016-11-23\", \"2016-11-22\", \"2016-11-21\", \"2016-11-20\", \"2016-11-19\", \"2016-11-18\", \"2016-11-17\", \"2016-11-16\", \"2016-11-15\", \"2016-11-14\", \"2016-11-13\", \"2016-11-12\", \"2016-11-11\", \"2016-11-10\", \"2016-11-09\", \"2016-11-08\", \"2016-11-07\", \"2016-11-06\", \"2016-11-05\", \"2016-11-04\", \"2016-11-03\", \"2016-11-02\", \"2016-11-01\", \"2016-10-31\", \"2016-10-30\", \"2016-10-29\", \"2016-10-28\", \"2016-10-27\", \"2016-10-26\", \"2016-10-25\", \"2016-10-24\", \"2016-10-23\", \"2016-10-22\", \"2016-10-21\", \"2016-10-20\", \"2016-10-19\", \"2016-10-18\", \"2016-10-17\", \"2016-10-16\", \"2016-10-15\", \"2016-10-14\", \"2016-10-13\", \"2016-10-12\", \"2016-10-11\", \"2016-10-10\", \"2016-10-09\", \"2016-10-08\", \"2016-10-07\", \"2016-10-06\", \"2016-10-05\", \"2016-10-04\", \"2016-10-03\", \"2016-10-02\", \"2016-10-01\", \"2016-09-30\", \"2016-09-29\", \"2016-09-28\", \"2016-09-27\", \"2016-09-26\", \"2016-09-25\", \"2016-09-24\", \"2016-09-23\", \"2016-09-22\", \"2016-09-21\", \"2016-09-20\", \"2016-09-19\", \"2016-09-18\", \"2016-09-17\", \"2016-09-16\", \"2016-09-15\", \"2016-09-14\", \"2016-09-13\", \"2016-09-12\", \"2016-09-11\", \"2016-09-10\", \"2016-09-09\", \"2016-09-08\", \"2016-09-07\", \"2016-09-06\", \"2016-09-05\", \"2016-09-04\", \"2016-09-03\", \"2016-09-02\", \"2016-09-01\", \"2016-08-31\", \"2016-08-30\", \"2016-08-29\", \"2016-08-28\", \"2016-08-27\", \"2016-08-26\", \"2016-08-25\", \"2016-08-24\", \"2016-08-23\", \"2016-08-22\", \"2016-08-21\", \"2016-08-20\", \"2016-08-19\", \"2016-08-18\", \"2016-08-17\", \"2016-08-16\", \"2016-08-15\", \"2016-08-14\", \"2016-08-13\", \"2016-08-12\", \"2016-08-11\", \"2016-08-10\", \"2016-08-09\", \"2016-08-08\", \"2016-08-07\", \"2016-08-06\", \"2016-08-05\", \"2016-08-04\", \"2016-08-03\", \"2016-08-02\", \"2016-08-01\"], \"xaxis\": \"x2\", \"y\": [43, 61, 22, 19, 42, 49, 41, 36, 38, 16, 17, 41, 40, 56, 50, 49, 27, 16, 44, 62, 48, 40, 44, 19, 14, 38, 30, 41, 7, 13, 8, 3, 33, 44, 31, 40, 32, 19, 10, 26, 36, 34, 35, 39, 25, 18, 36, 35, 45, 48, 61, 26, 12, 35, 24, 37, 29, 35, 15, 15, 36, 35, 39, 39, 18, 9, 16, 31, 35, 36, 32, 23, 22, 30, 39, 34, 38, 51, 37, 10, 23, 54, 44, 40, 46, 48, 11, 12, 35, 48, 70, 67, 78, 27, 20, 59, 42, 42, 33, 24, 12, 15, 42, 39, 38, 47, 37, 14, 7, 39, 37, 45, 29, 36, 10, 18, 43, 41, 32, 39, 36, 13, 12, 17, 38, 49, 44, 46, 14, 13, 30, 24, 37, 33, 35, 17, 17, 31, 29, 31, 32, 35, 11, 13, 32, 28, 24, 35, 30, 28, 26, 25, 27, 32, 29, 27, 9, 12, 25, 30, 34, 25, 21, 15, 13, 67, 32, 27, 51, 30, 16, 10, 24, 28, 24, 23, 28, 12, 14, 29, 26, 27, 39, 33, 19, 4, 21, 27, 34, 28, 27, 10, 11, 18, 27, 36, 32, 13, 6, 11, 28, 22, 17, 23, 38, 11, 8, 26, 41, 29, 29, 18, 11, 10, 13, 22, 25, 17, 15, 18, 19, 19, 33, 35, 67, 69, 38, 43, 87, 72, 65, 77, 83, 49, 37, 72, 66, 49, 70, 76, 36, 22, 41, 50, 57, 46, 73, 18, 13, 29, 15, 31, 21, 39, 13, 16, 35, 45, 33, 32, 39, 16, 15, 22, 25, 29, 44, 41, 21, 20, 37, 34, 27, 33, 28, 16, 11, 30, 40, 38, 21, 33, 28, 14, 33, 30, 29, 32, 40, 20, 9, 21, 30, 37, 43, 38, 22, 12, 39, 33, 44, 35, 35, 25, 6, 25, 32, 39, 35, 42, 18, 12, 24, 33, 39, 45, 36, 15, 8, 39, 32, 42, 21, 28, 17, 13, 39, 46, 33, 38, 16, 9, 13, 27, 43, 32, 34, 43, 22, 15, 39, 62, 47, 57, 57, 23, 21, 50, 43, 40, 59, 65, 23, 14, 71, 45, 46, 42, 34, 16, 10, 41, 17, 0, 17, 34], \"yaxis\": \"y2\"}],                        {\"annotations\": [{\"font\": {\"size\": 16}, \"showarrow\": false, \"text\": \"Date - Count\", \"x\": 0.5, \"xanchor\": \"center\", \"xref\": \"paper\", \"y\": 1.0, \"yanchor\": \"bottom\", \"yref\": \"paper\"}, {\"font\": {\"size\": 16}, \"showarrow\": false, \"text\": \"Date - Non-zero Revenue count\", \"x\": 0.5, \"xanchor\": \"center\", \"xref\": \"paper\", \"y\": 0.46, \"yanchor\": \"bottom\", \"yref\": \"paper\"}], \"height\": 800, \"paper_bgcolor\": \"rgb(233,233,233)\", \"template\": {\"data\": {\"bar\": [{\"error_x\": {\"color\": \"#2a3f5f\"}, \"error_y\": {\"color\": \"#2a3f5f\"}, \"marker\": {\"line\": {\"color\": \"#E5ECF6\", \"width\": 0.5}}, \"type\": \"bar\"}], \"barpolar\": [{\"marker\": {\"line\": {\"color\": \"#E5ECF6\", \"width\": 0.5}}, \"type\": \"barpolar\"}], \"carpet\": [{\"aaxis\": {\"endlinecolor\": \"#2a3f5f\", \"gridcolor\": \"white\", \"linecolor\": \"white\", \"minorgridcolor\": \"white\", \"startlinecolor\": \"#2a3f5f\"}, \"baxis\": {\"endlinecolor\": \"#2a3f5f\", \"gridcolor\": \"white\", \"linecolor\": \"white\", \"minorgridcolor\": \"white\", \"startlinecolor\": \"#2a3f5f\"}, \"type\": \"carpet\"}], \"choropleth\": [{\"colorbar\": {\"outlinewidth\": 0, \"ticks\": \"\"}, \"type\": \"choropleth\"}], \"contour\": [{\"colorbar\": {\"outlinewidth\": 0, \"ticks\": \"\"}, \"colorscale\": [[0.0, \"#0d0887\"], [0.1111111111111111, \"#46039f\"], [0.2222222222222222, \"#7201a8\"], [0.3333333333333333, \"#9c179e\"], [0.4444444444444444, \"#bd3786\"], [0.5555555555555556, \"#d8576b\"], [0.6666666666666666, \"#ed7953\"], [0.7777777777777778, \"#fb9f3a\"], [0.8888888888888888, \"#fdca26\"], [1.0, \"#f0f921\"]], \"type\": \"contour\"}], \"contourcarpet\": [{\"colorbar\": {\"outlinewidth\": 0, \"ticks\": \"\"}, \"type\": \"contourcarpet\"}], \"heatmap\": [{\"colorbar\": {\"outlinewidth\": 0, \"ticks\": \"\"}, \"colorscale\": [[0.0, \"#0d0887\"], [0.1111111111111111, \"#46039f\"], [0.2222222222222222, \"#7201a8\"], [0.3333333333333333, \"#9c179e\"], [0.4444444444444444, \"#bd3786\"], [0.5555555555555556, \"#d8576b\"], [0.6666666666666666, \"#ed7953\"], [0.7777777777777778, \"#fb9f3a\"], [0.8888888888888888, \"#fdca26\"], [1.0, \"#f0f921\"]], \"type\": \"heatmap\"}], \"heatmapgl\": [{\"colorbar\": {\"outlinewidth\": 0, \"ticks\": \"\"}, \"colorscale\": [[0.0, \"#0d0887\"], [0.1111111111111111, \"#46039f\"], [0.2222222222222222, \"#7201a8\"], [0.3333333333333333, \"#9c179e\"], [0.4444444444444444, \"#bd3786\"], [0.5555555555555556, \"#d8576b\"], [0.6666666666666666, \"#ed7953\"], [0.7777777777777778, \"#fb9f3a\"], [0.8888888888888888, \"#fdca26\"], [1.0, \"#f0f921\"]], \"type\": \"heatmapgl\"}], \"histogram\": [{\"marker\": {\"colorbar\": {\"outlinewidth\": 0, \"ticks\": \"\"}}, \"type\": \"histogram\"}], \"histogram2d\": [{\"colorbar\": {\"outlinewidth\": 0, \"ticks\": \"\"}, \"colorscale\": [[0.0, \"#0d0887\"], [0.1111111111111111, \"#46039f\"], [0.2222222222222222, \"#7201a8\"], [0.3333333333333333, \"#9c179e\"], [0.4444444444444444, \"#bd3786\"], [0.5555555555555556, \"#d8576b\"], [0.6666666666666666, \"#ed7953\"], [0.7777777777777778, \"#fb9f3a\"], [0.8888888888888888, \"#fdca26\"], [1.0, \"#f0f921\"]], \"type\": \"histogram2d\"}], \"histogram2dcontour\": [{\"colorbar\": {\"outlinewidth\": 0, \"ticks\": \"\"}, \"colorscale\": [[0.0, \"#0d0887\"], [0.1111111111111111, \"#46039f\"], [0.2222222222222222, \"#7201a8\"], [0.3333333333333333, \"#9c179e\"], [0.4444444444444444, \"#bd3786\"], [0.5555555555555556, \"#d8576b\"], [0.6666666666666666, \"#ed7953\"], [0.7777777777777778, \"#fb9f3a\"], [0.8888888888888888, \"#fdca26\"], [1.0, \"#f0f921\"]], \"type\": \"histogram2dcontour\"}], \"mesh3d\": [{\"colorbar\": {\"outlinewidth\": 0, \"ticks\": \"\"}, \"type\": \"mesh3d\"}], \"parcoords\": [{\"line\": {\"colorbar\": {\"outlinewidth\": 0, \"ticks\": \"\"}}, \"type\": \"parcoords\"}], \"pie\": [{\"automargin\": true, \"type\": \"pie\"}], \"scatter\": [{\"marker\": {\"colorbar\": {\"outlinewidth\": 0, \"ticks\": \"\"}}, \"type\": \"scatter\"}], \"scatter3d\": [{\"line\": {\"colorbar\": {\"outlinewidth\": 0, \"ticks\": \"\"}}, \"marker\": {\"colorbar\": {\"outlinewidth\": 0, \"ticks\": \"\"}}, \"type\": \"scatter3d\"}], \"scattercarpet\": [{\"marker\": {\"colorbar\": {\"outlinewidth\": 0, \"ticks\": \"\"}}, \"type\": \"scattercarpet\"}], \"scattergeo\": [{\"marker\": {\"colorbar\": {\"outlinewidth\": 0, \"ticks\": \"\"}}, \"type\": \"scattergeo\"}], \"scattergl\": [{\"marker\": {\"colorbar\": {\"outlinewidth\": 0, \"ticks\": \"\"}}, \"type\": \"scattergl\"}], \"scattermapbox\": [{\"marker\": {\"colorbar\": {\"outlinewidth\": 0, \"ticks\": \"\"}}, \"type\": \"scattermapbox\"}], \"scatterpolar\": [{\"marker\": {\"colorbar\": {\"outlinewidth\": 0, \"ticks\": \"\"}}, \"type\": \"scatterpolar\"}], \"scatterpolargl\": [{\"marker\": {\"colorbar\": {\"outlinewidth\": 0, \"ticks\": \"\"}}, \"type\": \"scatterpolargl\"}], \"scatterternary\": [{\"marker\": {\"colorbar\": {\"outlinewidth\": 0, \"ticks\": \"\"}}, \"type\": \"scatterternary\"}], \"surface\": [{\"colorbar\": {\"outlinewidth\": 0, \"ticks\": \"\"}, \"colorscale\": [[0.0, \"#0d0887\"], [0.1111111111111111, \"#46039f\"], [0.2222222222222222, \"#7201a8\"], [0.3333333333333333, \"#9c179e\"], [0.4444444444444444, \"#bd3786\"], [0.5555555555555556, \"#d8576b\"], [0.6666666666666666, \"#ed7953\"], [0.7777777777777778, \"#fb9f3a\"], [0.8888888888888888, \"#fdca26\"], [1.0, \"#f0f921\"]], \"type\": \"surface\"}], \"table\": [{\"cells\": {\"fill\": {\"color\": \"#EBF0F8\"}, \"line\": {\"color\": \"white\"}}, \"header\": {\"fill\": {\"color\": \"#C8D4E3\"}, \"line\": {\"color\": \"white\"}}, \"type\": \"table\"}]}, \"layout\": {\"annotationdefaults\": {\"arrowcolor\": \"#2a3f5f\", \"arrowhead\": 0, \"arrowwidth\": 1}, \"coloraxis\": {\"colorbar\": {\"outlinewidth\": 0, \"ticks\": \"\"}}, \"colorscale\": {\"diverging\": [[0, \"#8e0152\"], [0.1, \"#c51b7d\"], [0.2, \"#de77ae\"], [0.3, \"#f1b6da\"], [0.4, \"#fde0ef\"], [0.5, \"#f7f7f7\"], [0.6, \"#e6f5d0\"], [0.7, \"#b8e186\"], [0.8, \"#7fbc41\"], [0.9, \"#4d9221\"], [1, \"#276419\"]], \"sequential\": [[0.0, \"#0d0887\"], [0.1111111111111111, \"#46039f\"], [0.2222222222222222, \"#7201a8\"], [0.3333333333333333, \"#9c179e\"], [0.4444444444444444, \"#bd3786\"], [0.5555555555555556, \"#d8576b\"], [0.6666666666666666, \"#ed7953\"], [0.7777777777777778, \"#fb9f3a\"], [0.8888888888888888, \"#fdca26\"], [1.0, \"#f0f921\"]], \"sequentialminus\": [[0.0, \"#0d0887\"], [0.1111111111111111, \"#46039f\"], [0.2222222222222222, \"#7201a8\"], [0.3333333333333333, \"#9c179e\"], [0.4444444444444444, \"#bd3786\"], [0.5555555555555556, \"#d8576b\"], [0.6666666666666666, \"#ed7953\"], [0.7777777777777778, \"#fb9f3a\"], [0.8888888888888888, \"#fdca26\"], [1.0, \"#f0f921\"]]}, \"colorway\": [\"#636efa\", \"#EF553B\", \"#00cc96\", \"#ab63fa\", \"#FFA15A\", \"#19d3f3\", \"#FF6692\", \"#B6E880\", \"#FF97FF\", \"#FECB52\"], \"font\": {\"color\": \"#2a3f5f\"}, \"geo\": {\"bgcolor\": \"white\", \"lakecolor\": \"white\", \"landcolor\": \"#E5ECF6\", \"showlakes\": true, \"showland\": true, \"subunitcolor\": \"white\"}, \"hoverlabel\": {\"align\": \"left\"}, \"hovermode\": \"closest\", \"mapbox\": {\"style\": \"light\"}, \"paper_bgcolor\": \"white\", \"plot_bgcolor\": \"#E5ECF6\", \"polar\": {\"angularaxis\": {\"gridcolor\": \"white\", \"linecolor\": \"white\", \"ticks\": \"\"}, \"bgcolor\": \"#E5ECF6\", \"radialaxis\": {\"gridcolor\": \"white\", \"linecolor\": \"white\", \"ticks\": \"\"}}, \"scene\": {\"xaxis\": {\"backgroundcolor\": \"#E5ECF6\", \"gridcolor\": \"white\", \"gridwidth\": 2, \"linecolor\": \"white\", \"showbackground\": true, \"ticks\": \"\", \"zerolinecolor\": \"white\"}, \"yaxis\": {\"backgroundcolor\": \"#E5ECF6\", \"gridcolor\": \"white\", \"gridwidth\": 2, \"linecolor\": \"white\", \"showbackground\": true, \"ticks\": \"\", \"zerolinecolor\": \"white\"}, \"zaxis\": {\"backgroundcolor\": \"#E5ECF6\", \"gridcolor\": \"white\", \"gridwidth\": 2, \"linecolor\": \"white\", \"showbackground\": true, \"ticks\": \"\", \"zerolinecolor\": \"white\"}}, \"shapedefaults\": {\"line\": {\"color\": \"#2a3f5f\"}}, \"ternary\": {\"aaxis\": {\"gridcolor\": \"white\", \"linecolor\": \"white\", \"ticks\": \"\"}, \"baxis\": {\"gridcolor\": \"white\", \"linecolor\": \"white\", \"ticks\": \"\"}, \"bgcolor\": \"#E5ECF6\", \"caxis\": {\"gridcolor\": \"white\", \"linecolor\": \"white\", \"ticks\": \"\"}}, \"title\": {\"x\": 0.05}, \"xaxis\": {\"automargin\": true, \"gridcolor\": \"white\", \"linecolor\": \"white\", \"ticks\": \"\", \"title\": {\"standoff\": 15}, \"zerolinecolor\": \"white\", \"zerolinewidth\": 2}, \"yaxis\": {\"automargin\": true, \"gridcolor\": \"white\", \"linecolor\": \"white\", \"ticks\": \"\", \"title\": {\"standoff\": 15}, \"zerolinecolor\": \"white\", \"zerolinewidth\": 2}}}, \"title\": {\"text\": \"Date Plots\"}, \"width\": 800, \"xaxis\": {\"anchor\": \"y\", \"domain\": [0.0, 1.0]}, \"xaxis2\": {\"anchor\": \"y2\", \"domain\": [0.0, 1.0]}, \"yaxis\": {\"anchor\": \"x\", \"domain\": [0.54, 1.0]}, \"yaxis2\": {\"anchor\": \"x2\", \"domain\": [0.0, 0.46]}},                        {\"responsive\": true}                    ).then(function(){\n",
       "                            \n",
       "var gd = document.getElementById('1f621131-698b-4f69-81d5-68a73bb23fac');\n",
       "var x = new MutationObserver(function (mutations, observer) {{\n",
       "        var display = window.getComputedStyle(gd).display;\n",
       "        if (!display || display === 'none') {{\n",
       "            console.log([gd, 'removed!']);\n",
       "            Plotly.purge(gd);\n",
       "            observer.disconnect();\n",
       "        }}\n",
       "}});\n",
       "\n",
       "// Listen for the removal of the full notebook cells\n",
       "var notebookContainer = gd.closest('#notebook-container');\n",
       "if (notebookContainer) {{\n",
       "    x.observe(notebookContainer, {childList: true});\n",
       "}}\n",
       "\n",
       "// Listen for the clearing of the current output cell\n",
       "var outputEl = gd.closest('.output');\n",
       "if (outputEl) {{\n",
       "    x.observe(outputEl, {childList: true});\n",
       "}}\n",
       "\n",
       "                        })                };                });            </script>        </div>"
      ]
     },
     "metadata": {},
     "output_type": "display_data"
    }
   ],
   "source": [
    "import datetime\n",
    "\n",
    "def scatter_plot(cnt_srs, color):\n",
    "    trace = go.Scatter(\n",
    "        x=cnt_srs.index[::-1],\n",
    "        y=cnt_srs.values[::-1],\n",
    "        showlegend=False,\n",
    "        marker=dict(\n",
    "            color=color,\n",
    "        ),\n",
    "    )\n",
    "    return trace\n",
    "\n",
    "train_df['date'] = train_df['date'].apply(lambda x: datetime.date(int(str(x)[:4]), int(str(x)[4:6]), int(str(x)[6:])))\n",
    "cnt_srs = train_df.groupby('date')['totals.transactionRevenue'].agg(['size', 'count'])\n",
    "cnt_srs.columns = [\"count\", \"count of non-zero revenue\"]\n",
    "cnt_srs = cnt_srs.sort_index()\n",
    "#cnt_srs.index = cnt_srs.index.astype('str')\n",
    "trace1 = scatter_plot(cnt_srs[\"count\"], 'red')\n",
    "trace2 = scatter_plot(cnt_srs[\"count of non-zero revenue\"], 'blue')\n",
    "\n",
    "fig = tools.make_subplots(rows=2, cols=1, vertical_spacing=0.08,\n",
    "                          subplot_titles=[\"Date - Count\", \"Date - Non-zero Revenue count\"])\n",
    "fig.append_trace(trace1, 1, 1)\n",
    "fig.append_trace(trace2, 2, 1)\n",
    "fig['layout'].update(height=800, width=800, paper_bgcolor='rgb(233,233,233)', title=\"Date Plots\")\n",
    "py.iplot(fig, filename='date-plots')"
   ]
  },
  {
   "cell_type": "code",
   "execution_count": 16,
   "metadata": {},
   "outputs": [
    {
     "data": {
      "application/vnd.plotly.v1+json": {
       "config": {
        "linkText": "Export to plot.ly",
        "plotlyServerURL": "https://plot.ly",
        "showLink": false
       },
       "data": [
        {
         "marker": {
          "color": "cyan"
         },
         "orientation": "h",
         "showlegend": false,
         "type": "bar",
         "x": [
          84,
          88,
          94,
          112,
          114,
          124,
          134,
          135,
          162,
          168,
          184,
          192,
          222,
          225,
          240,
          242,
          265,
          268,
          298,
          338,
          355,
          388,
          410,
          453,
          509,
          535,
          567,
          674,
          704,
          847,
          873,
          875,
          1091,
          1143,
          1318,
          1413,
          1567,
          1722,
          1949,
          2211,
          2409,
          2682,
          3150,
          3511,
          4010,
          4720,
          5291,
          6197,
          7097,
          8671,
          10104,
          12585,
          15272,
          19476,
          24688,
          33411,
          45192,
          73835,
          143770,
          452522
         ],
         "xaxis": "x",
         "y": [
          "60",
          "59",
          "58",
          "56",
          "57",
          "55",
          "54",
          "53",
          "50",
          "52",
          "51",
          "49",
          "48",
          "47",
          "46",
          "44",
          "43",
          "45",
          "42",
          "41",
          "40",
          "39",
          "38",
          "37",
          "36",
          "35",
          "34",
          "33",
          "32",
          "31",
          "30",
          "29",
          "28",
          "27",
          "26",
          "25",
          "24",
          "23",
          "22",
          "21",
          "20",
          "19",
          "18",
          "17",
          "16",
          "15",
          "14",
          "13",
          "12",
          "11",
          "10",
          "9",
          "8",
          "7",
          "6",
          "5",
          "4",
          "3",
          "2",
          "1"
         ],
         "yaxis": "y"
        },
        {
         "marker": {
          "color": "cyan"
         },
         "orientation": "h",
         "showlegend": false,
         "type": "bar",
         "x": [
          29,
          32,
          35,
          37,
          48,
          39,
          41,
          50,
          62,
          62,
          63,
          76,
          95,
          73,
          77,
          81,
          92,
          97,
          109,
          112,
          108,
          140,
          139,
          164,
          158,
          175,
          160,
          199,
          189,
          240,
          238,
          242,
          251,
          268,
          331,
          297,
          347,
          334,
          367,
          407,
          397,
          367,
          451,
          445,
          478,
          471,
          467,
          453,
          385,
          374,
          257,
          136,
          83,
          25,
          9,
          13,
          8,
          3,
          4,
          0
         ],
         "xaxis": "x2",
         "y": [
          "60",
          "59",
          "58",
          "56",
          "57",
          "55",
          "54",
          "53",
          "50",
          "52",
          "51",
          "49",
          "48",
          "47",
          "46",
          "44",
          "43",
          "45",
          "42",
          "41",
          "40",
          "39",
          "38",
          "37",
          "36",
          "35",
          "34",
          "33",
          "32",
          "31",
          "30",
          "29",
          "28",
          "27",
          "26",
          "25",
          "24",
          "23",
          "22",
          "21",
          "20",
          "19",
          "18",
          "17",
          "16",
          "15",
          "14",
          "13",
          "12",
          "11",
          "10",
          "9",
          "8",
          "7",
          "6",
          "5",
          "4",
          "3",
          "2",
          "1"
         ],
         "yaxis": "y2"
        },
        {
         "marker": {
          "color": "cyan"
         },
         "orientation": "h",
         "showlegend": false,
         "type": "bar",
         "x": [
          215537241.37931034,
          228677500,
          258122000,
          322468108.1081081,
          254373541.66666666,
          252405384.6153846,
          156237317.07317072,
          197964400,
          150037096.77419356,
          325115322.58064514,
          220292857.14285713,
          227623684.21052632,
          190762842.10526314,
          221611643.83561644,
          186804155.84415585,
          150668024.69135803,
          129303260.86956522,
          122456185.56701031,
          134804311.9266055,
          175578303.57142857,
          386671203.7037037,
          239388500,
          151532446.04316548,
          106345609.75609756,
          145872974.6835443,
          120449314.28571428,
          160237937.5,
          135816683.41708544,
          126580793.65079366,
          125540541.66666667,
          162768865.54621848,
          93466900.82644628,
          112260478.0876494,
          119993507.46268657,
          133370332.32628399,
          97608484.84848484,
          114713025.93659942,
          122923113.7724551,
          137787792.91553134,
          97864987.71498771,
          89532997.48110831,
          78330572.20708446,
          83453237.25055432,
          91032606.74157304,
          86659351.46443515,
          85831740.97664544,
          106072526.76659529,
          94117836.64459161,
          69840493.50649351,
          100246764.70588236,
          93482295.71984436,
          106478455.88235295,
          102294457.83132531,
          62228400,
          37278888.88888889,
          209072307.69230768,
          124287500,
          70393333.33333333,
          303625000,
          null
         ],
         "xaxis": "x3",
         "y": [
          "60",
          "59",
          "58",
          "56",
          "57",
          "55",
          "54",
          "53",
          "50",
          "52",
          "51",
          "49",
          "48",
          "47",
          "46",
          "44",
          "43",
          "45",
          "42",
          "41",
          "40",
          "39",
          "38",
          "37",
          "36",
          "35",
          "34",
          "33",
          "32",
          "31",
          "30",
          "29",
          "28",
          "27",
          "26",
          "25",
          "24",
          "23",
          "22",
          "21",
          "20",
          "19",
          "18",
          "17",
          "16",
          "15",
          "14",
          "13",
          "12",
          "11",
          "10",
          "9",
          "8",
          "7",
          "6",
          "5",
          "4",
          "3",
          "2",
          "1"
         ],
         "yaxis": "y3"
        },
        {
         "marker": {
          "color": "black"
         },
         "orientation": "h",
         "showlegend": false,
         "type": "bar",
         "x": [
          198,
          203,
          206,
          211,
          212,
          227,
          246,
          261,
          269,
          316,
          333,
          348,
          349,
          363,
          424,
          438,
          454,
          501,
          527,
          553,
          621,
          693,
          724,
          745,
          785,
          845,
          846,
          944,
          1088,
          1104,
          1289,
          1291,
          1406,
          1504,
          1718,
          1925,
          2126,
          2190,
          2477,
          2798,
          3064,
          3291,
          3755,
          4130,
          4716,
          5384,
          6194,
          6881,
          7879,
          9264,
          10640,
          12959,
          15484,
          19518,
          23918,
          30939,
          42444,
          70402,
          137952,
          446754
         ],
         "xaxis": "x4",
         "y": [
          "61",
          "59",
          "60",
          "56",
          "57",
          "55",
          "54",
          "52",
          "53",
          "50",
          "51",
          "49",
          "48",
          "47",
          "46",
          "45",
          "44",
          "43",
          "42",
          "41",
          "40",
          "39",
          "38",
          "37",
          "36",
          "35",
          "34",
          "33",
          "32",
          "31",
          "30",
          "29",
          "28",
          "27",
          "26",
          "25",
          "24",
          "23",
          "22",
          "21",
          "20",
          "19",
          "18",
          "17",
          "16",
          "15",
          "14",
          "13",
          "12",
          "11",
          "10",
          "9",
          "8",
          "7",
          "6",
          "5",
          "4",
          "3",
          "2",
          "1"
         ],
         "yaxis": "y4"
        },
        {
         "marker": {
          "color": "black"
         },
         "orientation": "h",
         "showlegend": false,
         "type": "bar",
         "x": [
          69,
          63,
          75,
          58,
          83,
          67,
          57,
          72,
          90,
          81,
          104,
          94,
          111,
          105,
          129,
          124,
          122,
          155,
          135,
          133,
          159,
          145,
          172,
          177,
          175,
          193,
          198,
          193,
          204,
          207,
          261,
          222,
          267,
          263,
          279,
          269,
          292,
          311,
          290,
          313,
          329,
          345,
          375,
          348,
          362,
          354,
          348,
          313,
          258,
          193,
          123,
          94,
          54,
          19,
          9,
          12,
          8,
          3,
          4,
          0
         ],
         "xaxis": "x5",
         "y": [
          "61",
          "59",
          "60",
          "56",
          "57",
          "55",
          "54",
          "52",
          "53",
          "50",
          "51",
          "49",
          "48",
          "47",
          "46",
          "45",
          "44",
          "43",
          "42",
          "41",
          "40",
          "39",
          "38",
          "37",
          "36",
          "35",
          "34",
          "33",
          "32",
          "31",
          "30",
          "29",
          "28",
          "27",
          "26",
          "25",
          "24",
          "23",
          "22",
          "21",
          "20",
          "19",
          "18",
          "17",
          "16",
          "15",
          "14",
          "13",
          "12",
          "11",
          "10",
          "9",
          "8",
          "7",
          "6",
          "5",
          "4",
          "3",
          "2",
          "1"
         ],
         "yaxis": "y5"
        },
        {
         "marker": {
          "color": "black"
         },
         "orientation": "h",
         "showlegend": false,
         "type": "bar",
         "x": [
          192411594.20289856,
          136002063.4920635,
          148718266.66666666,
          193214655.1724138,
          244709879.51807228,
          175378955.2238806,
          243480526.31578946,
          143963611.1111111,
          166214888.8888889,
          252568765.43209878,
          140265480.76923078,
          162276595.74468085,
          143352252.25225225,
          156829428.57142857,
          124861395.34883721,
          115575564.51612903,
          132623360.6557377,
          100177612.90322581,
          138757555.55555555,
          210898195.48872182,
          107951823.89937107,
          110296413.79310344,
          106440058.13953489,
          140660621.46892655,
          83897600,
          145448808.29015544,
          129305050.50505051,
          152879896.373057,
          155526911.7647059,
          121725555.55555555,
          107391417.62452108,
          85833603.6036036,
          88798239.70037453,
          95413498.09885931,
          113594121.86379929,
          87118327.13754646,
          98842671.23287672,
          84713086.81672026,
          71686655.1724138,
          82634217.25239617,
          93415288.7537994,
          98681072.46376811,
          63682800,
          113642298.85057472,
          96459337.01657459,
          95994322.03389831,
          74250028.73563218,
          73472268.37060703,
          77147209.30232558,
          110564352.33160622,
          106691056.9105691,
          109170957.44680852,
          101212407.4074074,
          65030000,
          37278888.88888889,
          190169166.66666666,
          124287500,
          70393333.33333333,
          303625000,
          null
         ],
         "xaxis": "x6",
         "y": [
          "61",
          "59",
          "60",
          "56",
          "57",
          "55",
          "54",
          "52",
          "53",
          "50",
          "51",
          "49",
          "48",
          "47",
          "46",
          "45",
          "44",
          "43",
          "42",
          "41",
          "40",
          "39",
          "38",
          "37",
          "36",
          "35",
          "34",
          "33",
          "32",
          "31",
          "30",
          "29",
          "28",
          "27",
          "26",
          "25",
          "24",
          "23",
          "22",
          "21",
          "20",
          "19",
          "18",
          "17",
          "16",
          "15",
          "14",
          "13",
          "12",
          "11",
          "10",
          "9",
          "8",
          "7",
          "6",
          "5",
          "4",
          "3",
          "2",
          "1"
         ],
         "yaxis": "y6"
        }
       ],
       "layout": {
        "annotations": [
         {
          "font": {
           "size": 16
          },
          "showarrow": false,
          "text": "Total Pageviews - Count",
          "x": 0.11666666666666665,
          "xanchor": "center",
          "xref": "paper",
          "y": 1,
          "yanchor": "bottom",
          "yref": "paper"
         },
         {
          "font": {
           "size": 16
          },
          "showarrow": false,
          "text": "Total Pageviews - Non-zero Revenue Count",
          "x": 0.49999999999999994,
          "xanchor": "center",
          "xref": "paper",
          "y": 1,
          "yanchor": "bottom",
          "yref": "paper"
         },
         {
          "font": {
           "size": 16
          },
          "showarrow": false,
          "text": "Total Pageviews - Mean Revenue",
          "x": 0.8833333333333333,
          "xanchor": "center",
          "xref": "paper",
          "y": 1,
          "yanchor": "bottom",
          "yref": "paper"
         },
         {
          "font": {
           "size": 16
          },
          "showarrow": false,
          "text": "Total Hits - Count",
          "x": 0.11666666666666665,
          "xanchor": "center",
          "xref": "paper",
          "y": 0.46,
          "yanchor": "bottom",
          "yref": "paper"
         },
         {
          "font": {
           "size": 16
          },
          "showarrow": false,
          "text": "Total Hits - Non-zero Revenue Count",
          "x": 0.49999999999999994,
          "xanchor": "center",
          "xref": "paper",
          "y": 0.46,
          "yanchor": "bottom",
          "yref": "paper"
         },
         {
          "font": {
           "size": 16
          },
          "showarrow": false,
          "text": "Total Hits - Mean Revenue",
          "x": 0.8833333333333333,
          "xanchor": "center",
          "xref": "paper",
          "y": 0.46,
          "yanchor": "bottom",
          "yref": "paper"
         }
        ],
        "height": 1200,
        "paper_bgcolor": "rgb(233,233,233)",
        "template": {
         "data": {
          "bar": [
           {
            "error_x": {
             "color": "#2a3f5f"
            },
            "error_y": {
             "color": "#2a3f5f"
            },
            "marker": {
             "line": {
              "color": "#E5ECF6",
              "width": 0.5
             }
            },
            "type": "bar"
           }
          ],
          "barpolar": [
           {
            "marker": {
             "line": {
              "color": "#E5ECF6",
              "width": 0.5
             }
            },
            "type": "barpolar"
           }
          ],
          "carpet": [
           {
            "aaxis": {
             "endlinecolor": "#2a3f5f",
             "gridcolor": "white",
             "linecolor": "white",
             "minorgridcolor": "white",
             "startlinecolor": "#2a3f5f"
            },
            "baxis": {
             "endlinecolor": "#2a3f5f",
             "gridcolor": "white",
             "linecolor": "white",
             "minorgridcolor": "white",
             "startlinecolor": "#2a3f5f"
            },
            "type": "carpet"
           }
          ],
          "choropleth": [
           {
            "colorbar": {
             "outlinewidth": 0,
             "ticks": ""
            },
            "type": "choropleth"
           }
          ],
          "contour": [
           {
            "colorbar": {
             "outlinewidth": 0,
             "ticks": ""
            },
            "colorscale": [
             [
              0,
              "#0d0887"
             ],
             [
              0.1111111111111111,
              "#46039f"
             ],
             [
              0.2222222222222222,
              "#7201a8"
             ],
             [
              0.3333333333333333,
              "#9c179e"
             ],
             [
              0.4444444444444444,
              "#bd3786"
             ],
             [
              0.5555555555555556,
              "#d8576b"
             ],
             [
              0.6666666666666666,
              "#ed7953"
             ],
             [
              0.7777777777777778,
              "#fb9f3a"
             ],
             [
              0.8888888888888888,
              "#fdca26"
             ],
             [
              1,
              "#f0f921"
             ]
            ],
            "type": "contour"
           }
          ],
          "contourcarpet": [
           {
            "colorbar": {
             "outlinewidth": 0,
             "ticks": ""
            },
            "type": "contourcarpet"
           }
          ],
          "heatmap": [
           {
            "colorbar": {
             "outlinewidth": 0,
             "ticks": ""
            },
            "colorscale": [
             [
              0,
              "#0d0887"
             ],
             [
              0.1111111111111111,
              "#46039f"
             ],
             [
              0.2222222222222222,
              "#7201a8"
             ],
             [
              0.3333333333333333,
              "#9c179e"
             ],
             [
              0.4444444444444444,
              "#bd3786"
             ],
             [
              0.5555555555555556,
              "#d8576b"
             ],
             [
              0.6666666666666666,
              "#ed7953"
             ],
             [
              0.7777777777777778,
              "#fb9f3a"
             ],
             [
              0.8888888888888888,
              "#fdca26"
             ],
             [
              1,
              "#f0f921"
             ]
            ],
            "type": "heatmap"
           }
          ],
          "heatmapgl": [
           {
            "colorbar": {
             "outlinewidth": 0,
             "ticks": ""
            },
            "colorscale": [
             [
              0,
              "#0d0887"
             ],
             [
              0.1111111111111111,
              "#46039f"
             ],
             [
              0.2222222222222222,
              "#7201a8"
             ],
             [
              0.3333333333333333,
              "#9c179e"
             ],
             [
              0.4444444444444444,
              "#bd3786"
             ],
             [
              0.5555555555555556,
              "#d8576b"
             ],
             [
              0.6666666666666666,
              "#ed7953"
             ],
             [
              0.7777777777777778,
              "#fb9f3a"
             ],
             [
              0.8888888888888888,
              "#fdca26"
             ],
             [
              1,
              "#f0f921"
             ]
            ],
            "type": "heatmapgl"
           }
          ],
          "histogram": [
           {
            "marker": {
             "colorbar": {
              "outlinewidth": 0,
              "ticks": ""
             }
            },
            "type": "histogram"
           }
          ],
          "histogram2d": [
           {
            "colorbar": {
             "outlinewidth": 0,
             "ticks": ""
            },
            "colorscale": [
             [
              0,
              "#0d0887"
             ],
             [
              0.1111111111111111,
              "#46039f"
             ],
             [
              0.2222222222222222,
              "#7201a8"
             ],
             [
              0.3333333333333333,
              "#9c179e"
             ],
             [
              0.4444444444444444,
              "#bd3786"
             ],
             [
              0.5555555555555556,
              "#d8576b"
             ],
             [
              0.6666666666666666,
              "#ed7953"
             ],
             [
              0.7777777777777778,
              "#fb9f3a"
             ],
             [
              0.8888888888888888,
              "#fdca26"
             ],
             [
              1,
              "#f0f921"
             ]
            ],
            "type": "histogram2d"
           }
          ],
          "histogram2dcontour": [
           {
            "colorbar": {
             "outlinewidth": 0,
             "ticks": ""
            },
            "colorscale": [
             [
              0,
              "#0d0887"
             ],
             [
              0.1111111111111111,
              "#46039f"
             ],
             [
              0.2222222222222222,
              "#7201a8"
             ],
             [
              0.3333333333333333,
              "#9c179e"
             ],
             [
              0.4444444444444444,
              "#bd3786"
             ],
             [
              0.5555555555555556,
              "#d8576b"
             ],
             [
              0.6666666666666666,
              "#ed7953"
             ],
             [
              0.7777777777777778,
              "#fb9f3a"
             ],
             [
              0.8888888888888888,
              "#fdca26"
             ],
             [
              1,
              "#f0f921"
             ]
            ],
            "type": "histogram2dcontour"
           }
          ],
          "mesh3d": [
           {
            "colorbar": {
             "outlinewidth": 0,
             "ticks": ""
            },
            "type": "mesh3d"
           }
          ],
          "parcoords": [
           {
            "line": {
             "colorbar": {
              "outlinewidth": 0,
              "ticks": ""
             }
            },
            "type": "parcoords"
           }
          ],
          "pie": [
           {
            "automargin": true,
            "type": "pie"
           }
          ],
          "scatter": [
           {
            "marker": {
             "colorbar": {
              "outlinewidth": 0,
              "ticks": ""
             }
            },
            "type": "scatter"
           }
          ],
          "scatter3d": [
           {
            "line": {
             "colorbar": {
              "outlinewidth": 0,
              "ticks": ""
             }
            },
            "marker": {
             "colorbar": {
              "outlinewidth": 0,
              "ticks": ""
             }
            },
            "type": "scatter3d"
           }
          ],
          "scattercarpet": [
           {
            "marker": {
             "colorbar": {
              "outlinewidth": 0,
              "ticks": ""
             }
            },
            "type": "scattercarpet"
           }
          ],
          "scattergeo": [
           {
            "marker": {
             "colorbar": {
              "outlinewidth": 0,
              "ticks": ""
             }
            },
            "type": "scattergeo"
           }
          ],
          "scattergl": [
           {
            "marker": {
             "colorbar": {
              "outlinewidth": 0,
              "ticks": ""
             }
            },
            "type": "scattergl"
           }
          ],
          "scattermapbox": [
           {
            "marker": {
             "colorbar": {
              "outlinewidth": 0,
              "ticks": ""
             }
            },
            "type": "scattermapbox"
           }
          ],
          "scatterpolar": [
           {
            "marker": {
             "colorbar": {
              "outlinewidth": 0,
              "ticks": ""
             }
            },
            "type": "scatterpolar"
           }
          ],
          "scatterpolargl": [
           {
            "marker": {
             "colorbar": {
              "outlinewidth": 0,
              "ticks": ""
             }
            },
            "type": "scatterpolargl"
           }
          ],
          "scatterternary": [
           {
            "marker": {
             "colorbar": {
              "outlinewidth": 0,
              "ticks": ""
             }
            },
            "type": "scatterternary"
           }
          ],
          "surface": [
           {
            "colorbar": {
             "outlinewidth": 0,
             "ticks": ""
            },
            "colorscale": [
             [
              0,
              "#0d0887"
             ],
             [
              0.1111111111111111,
              "#46039f"
             ],
             [
              0.2222222222222222,
              "#7201a8"
             ],
             [
              0.3333333333333333,
              "#9c179e"
             ],
             [
              0.4444444444444444,
              "#bd3786"
             ],
             [
              0.5555555555555556,
              "#d8576b"
             ],
             [
              0.6666666666666666,
              "#ed7953"
             ],
             [
              0.7777777777777778,
              "#fb9f3a"
             ],
             [
              0.8888888888888888,
              "#fdca26"
             ],
             [
              1,
              "#f0f921"
             ]
            ],
            "type": "surface"
           }
          ],
          "table": [
           {
            "cells": {
             "fill": {
              "color": "#EBF0F8"
             },
             "line": {
              "color": "white"
             }
            },
            "header": {
             "fill": {
              "color": "#C8D4E3"
             },
             "line": {
              "color": "white"
             }
            },
            "type": "table"
           }
          ]
         },
         "layout": {
          "annotationdefaults": {
           "arrowcolor": "#2a3f5f",
           "arrowhead": 0,
           "arrowwidth": 1
          },
          "coloraxis": {
           "colorbar": {
            "outlinewidth": 0,
            "ticks": ""
           }
          },
          "colorscale": {
           "diverging": [
            [
             0,
             "#8e0152"
            ],
            [
             0.1,
             "#c51b7d"
            ],
            [
             0.2,
             "#de77ae"
            ],
            [
             0.3,
             "#f1b6da"
            ],
            [
             0.4,
             "#fde0ef"
            ],
            [
             0.5,
             "#f7f7f7"
            ],
            [
             0.6,
             "#e6f5d0"
            ],
            [
             0.7,
             "#b8e186"
            ],
            [
             0.8,
             "#7fbc41"
            ],
            [
             0.9,
             "#4d9221"
            ],
            [
             1,
             "#276419"
            ]
           ],
           "sequential": [
            [
             0,
             "#0d0887"
            ],
            [
             0.1111111111111111,
             "#46039f"
            ],
            [
             0.2222222222222222,
             "#7201a8"
            ],
            [
             0.3333333333333333,
             "#9c179e"
            ],
            [
             0.4444444444444444,
             "#bd3786"
            ],
            [
             0.5555555555555556,
             "#d8576b"
            ],
            [
             0.6666666666666666,
             "#ed7953"
            ],
            [
             0.7777777777777778,
             "#fb9f3a"
            ],
            [
             0.8888888888888888,
             "#fdca26"
            ],
            [
             1,
             "#f0f921"
            ]
           ],
           "sequentialminus": [
            [
             0,
             "#0d0887"
            ],
            [
             0.1111111111111111,
             "#46039f"
            ],
            [
             0.2222222222222222,
             "#7201a8"
            ],
            [
             0.3333333333333333,
             "#9c179e"
            ],
            [
             0.4444444444444444,
             "#bd3786"
            ],
            [
             0.5555555555555556,
             "#d8576b"
            ],
            [
             0.6666666666666666,
             "#ed7953"
            ],
            [
             0.7777777777777778,
             "#fb9f3a"
            ],
            [
             0.8888888888888888,
             "#fdca26"
            ],
            [
             1,
             "#f0f921"
            ]
           ]
          },
          "colorway": [
           "#636efa",
           "#EF553B",
           "#00cc96",
           "#ab63fa",
           "#FFA15A",
           "#19d3f3",
           "#FF6692",
           "#B6E880",
           "#FF97FF",
           "#FECB52"
          ],
          "font": {
           "color": "#2a3f5f"
          },
          "geo": {
           "bgcolor": "white",
           "lakecolor": "white",
           "landcolor": "#E5ECF6",
           "showlakes": true,
           "showland": true,
           "subunitcolor": "white"
          },
          "hoverlabel": {
           "align": "left"
          },
          "hovermode": "closest",
          "mapbox": {
           "style": "light"
          },
          "paper_bgcolor": "white",
          "plot_bgcolor": "#E5ECF6",
          "polar": {
           "angularaxis": {
            "gridcolor": "white",
            "linecolor": "white",
            "ticks": ""
           },
           "bgcolor": "#E5ECF6",
           "radialaxis": {
            "gridcolor": "white",
            "linecolor": "white",
            "ticks": ""
           }
          },
          "scene": {
           "xaxis": {
            "backgroundcolor": "#E5ECF6",
            "gridcolor": "white",
            "gridwidth": 2,
            "linecolor": "white",
            "showbackground": true,
            "ticks": "",
            "zerolinecolor": "white"
           },
           "yaxis": {
            "backgroundcolor": "#E5ECF6",
            "gridcolor": "white",
            "gridwidth": 2,
            "linecolor": "white",
            "showbackground": true,
            "ticks": "",
            "zerolinecolor": "white"
           },
           "zaxis": {
            "backgroundcolor": "#E5ECF6",
            "gridcolor": "white",
            "gridwidth": 2,
            "linecolor": "white",
            "showbackground": true,
            "ticks": "",
            "zerolinecolor": "white"
           }
          },
          "shapedefaults": {
           "line": {
            "color": "#2a3f5f"
           }
          },
          "ternary": {
           "aaxis": {
            "gridcolor": "white",
            "linecolor": "white",
            "ticks": ""
           },
           "baxis": {
            "gridcolor": "white",
            "linecolor": "white",
            "ticks": ""
           },
           "bgcolor": "#E5ECF6",
           "caxis": {
            "gridcolor": "white",
            "linecolor": "white",
            "ticks": ""
           }
          },
          "title": {
           "x": 0.05
          },
          "xaxis": {
           "automargin": true,
           "gridcolor": "white",
           "linecolor": "white",
           "ticks": "",
           "title": {
            "standoff": 15
           },
           "zerolinecolor": "white",
           "zerolinewidth": 2
          },
          "yaxis": {
           "automargin": true,
           "gridcolor": "white",
           "linecolor": "white",
           "ticks": "",
           "title": {
            "standoff": 15
           },
           "zerolinecolor": "white",
           "zerolinewidth": 2
          }
         }
        },
        "title": {
         "text": "Visitor Profile Plots"
        },
        "width": 900,
        "xaxis": {
         "anchor": "y",
         "domain": [
          0,
          0.2333333333333333
         ]
        },
        "xaxis2": {
         "anchor": "y2",
         "domain": [
          0.3833333333333333,
          0.6166666666666666
         ]
        },
        "xaxis3": {
         "anchor": "y3",
         "domain": [
          0.7666666666666666,
          0.9999999999999999
         ]
        },
        "xaxis4": {
         "anchor": "y4",
         "domain": [
          0,
          0.2333333333333333
         ]
        },
        "xaxis5": {
         "anchor": "y5",
         "domain": [
          0.3833333333333333,
          0.6166666666666666
         ]
        },
        "xaxis6": {
         "anchor": "y6",
         "domain": [
          0.7666666666666666,
          0.9999999999999999
         ]
        },
        "yaxis": {
         "anchor": "x",
         "domain": [
          0.54,
          1
         ]
        },
        "yaxis2": {
         "anchor": "x2",
         "domain": [
          0.54,
          1
         ]
        },
        "yaxis3": {
         "anchor": "x3",
         "domain": [
          0.54,
          1
         ]
        },
        "yaxis4": {
         "anchor": "x4",
         "domain": [
          0,
          0.46
         ]
        },
        "yaxis5": {
         "anchor": "x5",
         "domain": [
          0,
          0.46
         ]
        },
        "yaxis6": {
         "anchor": "x6",
         "domain": [
          0,
          0.46
         ]
        }
       }
      },
      "text/html": [
       "<div>                            <div id=\"cc3c2c14-2955-4804-bc53-6797a1af70fa\" class=\"plotly-graph-div\" style=\"height:1200px; width:900px;\"></div>            <script type=\"text/javascript\">                require([\"plotly\"], function(Plotly) {                    window.PLOTLYENV=window.PLOTLYENV || {};                                    if (document.getElementById(\"cc3c2c14-2955-4804-bc53-6797a1af70fa\")) {                    Plotly.newPlot(                        \"cc3c2c14-2955-4804-bc53-6797a1af70fa\",                        [{\"marker\": {\"color\": \"cyan\"}, \"orientation\": \"h\", \"showlegend\": false, \"type\": \"bar\", \"x\": [84, 88, 94, 112, 114, 124, 134, 135, 162, 168, 184, 192, 222, 225, 240, 242, 265, 268, 298, 338, 355, 388, 410, 453, 509, 535, 567, 674, 704, 847, 873, 875, 1091, 1143, 1318, 1413, 1567, 1722, 1949, 2211, 2409, 2682, 3150, 3511, 4010, 4720, 5291, 6197, 7097, 8671, 10104, 12585, 15272, 19476, 24688, 33411, 45192, 73835, 143770, 452522], \"xaxis\": \"x\", \"y\": [\"60\", \"59\", \"58\", \"56\", \"57\", \"55\", \"54\", \"53\", \"50\", \"52\", \"51\", \"49\", \"48\", \"47\", \"46\", \"44\", \"43\", \"45\", \"42\", \"41\", \"40\", \"39\", \"38\", \"37\", \"36\", \"35\", \"34\", \"33\", \"32\", \"31\", \"30\", \"29\", \"28\", \"27\", \"26\", \"25\", \"24\", \"23\", \"22\", \"21\", \"20\", \"19\", \"18\", \"17\", \"16\", \"15\", \"14\", \"13\", \"12\", \"11\", \"10\", \"9\", \"8\", \"7\", \"6\", \"5\", \"4\", \"3\", \"2\", \"1\"], \"yaxis\": \"y\"}, {\"marker\": {\"color\": \"cyan\"}, \"orientation\": \"h\", \"showlegend\": false, \"type\": \"bar\", \"x\": [29, 32, 35, 37, 48, 39, 41, 50, 62, 62, 63, 76, 95, 73, 77, 81, 92, 97, 109, 112, 108, 140, 139, 164, 158, 175, 160, 199, 189, 240, 238, 242, 251, 268, 331, 297, 347, 334, 367, 407, 397, 367, 451, 445, 478, 471, 467, 453, 385, 374, 257, 136, 83, 25, 9, 13, 8, 3, 4, 0], \"xaxis\": \"x2\", \"y\": [\"60\", \"59\", \"58\", \"56\", \"57\", \"55\", \"54\", \"53\", \"50\", \"52\", \"51\", \"49\", \"48\", \"47\", \"46\", \"44\", \"43\", \"45\", \"42\", \"41\", \"40\", \"39\", \"38\", \"37\", \"36\", \"35\", \"34\", \"33\", \"32\", \"31\", \"30\", \"29\", \"28\", \"27\", \"26\", \"25\", \"24\", \"23\", \"22\", \"21\", \"20\", \"19\", \"18\", \"17\", \"16\", \"15\", \"14\", \"13\", \"12\", \"11\", \"10\", \"9\", \"8\", \"7\", \"6\", \"5\", \"4\", \"3\", \"2\", \"1\"], \"yaxis\": \"y2\"}, {\"marker\": {\"color\": \"cyan\"}, \"orientation\": \"h\", \"showlegend\": false, \"type\": \"bar\", \"x\": [215537241.37931034, 228677500.0, 258122000.0, 322468108.1081081, 254373541.66666666, 252405384.6153846, 156237317.07317072, 197964400.0, 150037096.77419356, 325115322.58064514, 220292857.14285713, 227623684.21052632, 190762842.10526314, 221611643.83561644, 186804155.84415585, 150668024.69135803, 129303260.86956522, 122456185.56701031, 134804311.9266055, 175578303.57142857, 386671203.7037037, 239388500.0, 151532446.04316548, 106345609.75609756, 145872974.6835443, 120449314.28571428, 160237937.5, 135816683.41708544, 126580793.65079366, 125540541.66666667, 162768865.54621848, 93466900.82644628, 112260478.0876494, 119993507.46268657, 133370332.32628399, 97608484.84848484, 114713025.93659942, 122923113.7724551, 137787792.91553134, 97864987.71498771, 89532997.48110831, 78330572.20708446, 83453237.25055432, 91032606.74157304, 86659351.46443515, 85831740.97664544, 106072526.76659529, 94117836.64459161, 69840493.50649351, 100246764.70588236, 93482295.71984436, 106478455.88235295, 102294457.83132531, 62228400.0, 37278888.88888889, 209072307.69230768, 124287500.0, 70393333.33333333, 303625000.0, null], \"xaxis\": \"x3\", \"y\": [\"60\", \"59\", \"58\", \"56\", \"57\", \"55\", \"54\", \"53\", \"50\", \"52\", \"51\", \"49\", \"48\", \"47\", \"46\", \"44\", \"43\", \"45\", \"42\", \"41\", \"40\", \"39\", \"38\", \"37\", \"36\", \"35\", \"34\", \"33\", \"32\", \"31\", \"30\", \"29\", \"28\", \"27\", \"26\", \"25\", \"24\", \"23\", \"22\", \"21\", \"20\", \"19\", \"18\", \"17\", \"16\", \"15\", \"14\", \"13\", \"12\", \"11\", \"10\", \"9\", \"8\", \"7\", \"6\", \"5\", \"4\", \"3\", \"2\", \"1\"], \"yaxis\": \"y3\"}, {\"marker\": {\"color\": \"black\"}, \"orientation\": \"h\", \"showlegend\": false, \"type\": \"bar\", \"x\": [198, 203, 206, 211, 212, 227, 246, 261, 269, 316, 333, 348, 349, 363, 424, 438, 454, 501, 527, 553, 621, 693, 724, 745, 785, 845, 846, 944, 1088, 1104, 1289, 1291, 1406, 1504, 1718, 1925, 2126, 2190, 2477, 2798, 3064, 3291, 3755, 4130, 4716, 5384, 6194, 6881, 7879, 9264, 10640, 12959, 15484, 19518, 23918, 30939, 42444, 70402, 137952, 446754], \"xaxis\": \"x4\", \"y\": [\"61\", \"59\", \"60\", \"56\", \"57\", \"55\", \"54\", \"52\", \"53\", \"50\", \"51\", \"49\", \"48\", \"47\", \"46\", \"45\", \"44\", \"43\", \"42\", \"41\", \"40\", \"39\", \"38\", \"37\", \"36\", \"35\", \"34\", \"33\", \"32\", \"31\", \"30\", \"29\", \"28\", \"27\", \"26\", \"25\", \"24\", \"23\", \"22\", \"21\", \"20\", \"19\", \"18\", \"17\", \"16\", \"15\", \"14\", \"13\", \"12\", \"11\", \"10\", \"9\", \"8\", \"7\", \"6\", \"5\", \"4\", \"3\", \"2\", \"1\"], \"yaxis\": \"y4\"}, {\"marker\": {\"color\": \"black\"}, \"orientation\": \"h\", \"showlegend\": false, \"type\": \"bar\", \"x\": [69, 63, 75, 58, 83, 67, 57, 72, 90, 81, 104, 94, 111, 105, 129, 124, 122, 155, 135, 133, 159, 145, 172, 177, 175, 193, 198, 193, 204, 207, 261, 222, 267, 263, 279, 269, 292, 311, 290, 313, 329, 345, 375, 348, 362, 354, 348, 313, 258, 193, 123, 94, 54, 19, 9, 12, 8, 3, 4, 0], \"xaxis\": \"x5\", \"y\": [\"61\", \"59\", \"60\", \"56\", \"57\", \"55\", \"54\", \"52\", \"53\", \"50\", \"51\", \"49\", \"48\", \"47\", \"46\", \"45\", \"44\", \"43\", \"42\", \"41\", \"40\", \"39\", \"38\", \"37\", \"36\", \"35\", \"34\", \"33\", \"32\", \"31\", \"30\", \"29\", \"28\", \"27\", \"26\", \"25\", \"24\", \"23\", \"22\", \"21\", \"20\", \"19\", \"18\", \"17\", \"16\", \"15\", \"14\", \"13\", \"12\", \"11\", \"10\", \"9\", \"8\", \"7\", \"6\", \"5\", \"4\", \"3\", \"2\", \"1\"], \"yaxis\": \"y5\"}, {\"marker\": {\"color\": \"black\"}, \"orientation\": \"h\", \"showlegend\": false, \"type\": \"bar\", \"x\": [192411594.20289856, 136002063.4920635, 148718266.66666666, 193214655.1724138, 244709879.51807228, 175378955.2238806, 243480526.31578946, 143963611.1111111, 166214888.8888889, 252568765.43209878, 140265480.76923078, 162276595.74468085, 143352252.25225225, 156829428.57142857, 124861395.34883721, 115575564.51612903, 132623360.6557377, 100177612.90322581, 138757555.55555555, 210898195.48872182, 107951823.89937107, 110296413.79310344, 106440058.13953489, 140660621.46892655, 83897600.0, 145448808.29015544, 129305050.50505051, 152879896.373057, 155526911.7647059, 121725555.55555555, 107391417.62452108, 85833603.6036036, 88798239.70037453, 95413498.09885931, 113594121.86379929, 87118327.13754646, 98842671.23287672, 84713086.81672026, 71686655.1724138, 82634217.25239617, 93415288.7537994, 98681072.46376811, 63682800.0, 113642298.85057472, 96459337.01657459, 95994322.03389831, 74250028.73563218, 73472268.37060703, 77147209.30232558, 110564352.33160622, 106691056.9105691, 109170957.44680852, 101212407.4074074, 65030000.0, 37278888.88888889, 190169166.66666666, 124287500.0, 70393333.33333333, 303625000.0, null], \"xaxis\": \"x6\", \"y\": [\"61\", \"59\", \"60\", \"56\", \"57\", \"55\", \"54\", \"52\", \"53\", \"50\", \"51\", \"49\", \"48\", \"47\", \"46\", \"45\", \"44\", \"43\", \"42\", \"41\", \"40\", \"39\", \"38\", \"37\", \"36\", \"35\", \"34\", \"33\", \"32\", \"31\", \"30\", \"29\", \"28\", \"27\", \"26\", \"25\", \"24\", \"23\", \"22\", \"21\", \"20\", \"19\", \"18\", \"17\", \"16\", \"15\", \"14\", \"13\", \"12\", \"11\", \"10\", \"9\", \"8\", \"7\", \"6\", \"5\", \"4\", \"3\", \"2\", \"1\"], \"yaxis\": \"y6\"}],                        {\"annotations\": [{\"font\": {\"size\": 16}, \"showarrow\": false, \"text\": \"Total Pageviews - Count\", \"x\": 0.11666666666666665, \"xanchor\": \"center\", \"xref\": \"paper\", \"y\": 1.0, \"yanchor\": \"bottom\", \"yref\": \"paper\"}, {\"font\": {\"size\": 16}, \"showarrow\": false, \"text\": \"Total Pageviews - Non-zero Revenue Count\", \"x\": 0.49999999999999994, \"xanchor\": \"center\", \"xref\": \"paper\", \"y\": 1.0, \"yanchor\": \"bottom\", \"yref\": \"paper\"}, {\"font\": {\"size\": 16}, \"showarrow\": false, \"text\": \"Total Pageviews - Mean Revenue\", \"x\": 0.8833333333333333, \"xanchor\": \"center\", \"xref\": \"paper\", \"y\": 1.0, \"yanchor\": \"bottom\", \"yref\": \"paper\"}, {\"font\": {\"size\": 16}, \"showarrow\": false, \"text\": \"Total Hits - Count\", \"x\": 0.11666666666666665, \"xanchor\": \"center\", \"xref\": \"paper\", \"y\": 0.46, \"yanchor\": \"bottom\", \"yref\": \"paper\"}, {\"font\": {\"size\": 16}, \"showarrow\": false, \"text\": \"Total Hits - Non-zero Revenue Count\", \"x\": 0.49999999999999994, \"xanchor\": \"center\", \"xref\": \"paper\", \"y\": 0.46, \"yanchor\": \"bottom\", \"yref\": \"paper\"}, {\"font\": {\"size\": 16}, \"showarrow\": false, \"text\": \"Total Hits - Mean Revenue\", \"x\": 0.8833333333333333, \"xanchor\": \"center\", \"xref\": \"paper\", \"y\": 0.46, \"yanchor\": \"bottom\", \"yref\": \"paper\"}], \"height\": 1200, \"paper_bgcolor\": \"rgb(233,233,233)\", \"template\": {\"data\": {\"bar\": [{\"error_x\": {\"color\": \"#2a3f5f\"}, \"error_y\": {\"color\": \"#2a3f5f\"}, \"marker\": {\"line\": {\"color\": \"#E5ECF6\", \"width\": 0.5}}, \"type\": \"bar\"}], \"barpolar\": [{\"marker\": {\"line\": {\"color\": \"#E5ECF6\", \"width\": 0.5}}, \"type\": \"barpolar\"}], \"carpet\": [{\"aaxis\": {\"endlinecolor\": \"#2a3f5f\", \"gridcolor\": \"white\", \"linecolor\": \"white\", \"minorgridcolor\": \"white\", \"startlinecolor\": \"#2a3f5f\"}, \"baxis\": {\"endlinecolor\": \"#2a3f5f\", \"gridcolor\": \"white\", \"linecolor\": \"white\", \"minorgridcolor\": \"white\", \"startlinecolor\": \"#2a3f5f\"}, \"type\": \"carpet\"}], \"choropleth\": [{\"colorbar\": {\"outlinewidth\": 0, \"ticks\": \"\"}, \"type\": \"choropleth\"}], \"contour\": [{\"colorbar\": {\"outlinewidth\": 0, \"ticks\": \"\"}, \"colorscale\": [[0.0, \"#0d0887\"], [0.1111111111111111, \"#46039f\"], [0.2222222222222222, \"#7201a8\"], [0.3333333333333333, \"#9c179e\"], [0.4444444444444444, \"#bd3786\"], [0.5555555555555556, \"#d8576b\"], [0.6666666666666666, \"#ed7953\"], [0.7777777777777778, \"#fb9f3a\"], [0.8888888888888888, \"#fdca26\"], [1.0, \"#f0f921\"]], \"type\": \"contour\"}], \"contourcarpet\": [{\"colorbar\": {\"outlinewidth\": 0, \"ticks\": \"\"}, \"type\": \"contourcarpet\"}], \"heatmap\": [{\"colorbar\": {\"outlinewidth\": 0, \"ticks\": \"\"}, \"colorscale\": [[0.0, \"#0d0887\"], [0.1111111111111111, \"#46039f\"], [0.2222222222222222, \"#7201a8\"], [0.3333333333333333, \"#9c179e\"], [0.4444444444444444, \"#bd3786\"], [0.5555555555555556, \"#d8576b\"], [0.6666666666666666, \"#ed7953\"], [0.7777777777777778, \"#fb9f3a\"], [0.8888888888888888, \"#fdca26\"], [1.0, \"#f0f921\"]], \"type\": \"heatmap\"}], \"heatmapgl\": [{\"colorbar\": {\"outlinewidth\": 0, \"ticks\": \"\"}, \"colorscale\": [[0.0, \"#0d0887\"], [0.1111111111111111, \"#46039f\"], [0.2222222222222222, \"#7201a8\"], [0.3333333333333333, \"#9c179e\"], [0.4444444444444444, \"#bd3786\"], [0.5555555555555556, \"#d8576b\"], [0.6666666666666666, \"#ed7953\"], [0.7777777777777778, \"#fb9f3a\"], [0.8888888888888888, \"#fdca26\"], [1.0, \"#f0f921\"]], \"type\": \"heatmapgl\"}], \"histogram\": [{\"marker\": {\"colorbar\": {\"outlinewidth\": 0, \"ticks\": \"\"}}, \"type\": \"histogram\"}], \"histogram2d\": [{\"colorbar\": {\"outlinewidth\": 0, \"ticks\": \"\"}, \"colorscale\": [[0.0, \"#0d0887\"], [0.1111111111111111, \"#46039f\"], [0.2222222222222222, \"#7201a8\"], [0.3333333333333333, \"#9c179e\"], [0.4444444444444444, \"#bd3786\"], [0.5555555555555556, \"#d8576b\"], [0.6666666666666666, \"#ed7953\"], [0.7777777777777778, \"#fb9f3a\"], [0.8888888888888888, \"#fdca26\"], [1.0, \"#f0f921\"]], \"type\": \"histogram2d\"}], \"histogram2dcontour\": [{\"colorbar\": {\"outlinewidth\": 0, \"ticks\": \"\"}, \"colorscale\": [[0.0, \"#0d0887\"], [0.1111111111111111, \"#46039f\"], [0.2222222222222222, \"#7201a8\"], [0.3333333333333333, \"#9c179e\"], [0.4444444444444444, \"#bd3786\"], [0.5555555555555556, \"#d8576b\"], [0.6666666666666666, \"#ed7953\"], [0.7777777777777778, \"#fb9f3a\"], [0.8888888888888888, \"#fdca26\"], [1.0, \"#f0f921\"]], \"type\": \"histogram2dcontour\"}], \"mesh3d\": [{\"colorbar\": {\"outlinewidth\": 0, \"ticks\": \"\"}, \"type\": \"mesh3d\"}], \"parcoords\": [{\"line\": {\"colorbar\": {\"outlinewidth\": 0, \"ticks\": \"\"}}, \"type\": \"parcoords\"}], \"pie\": [{\"automargin\": true, \"type\": \"pie\"}], \"scatter\": [{\"marker\": {\"colorbar\": {\"outlinewidth\": 0, \"ticks\": \"\"}}, \"type\": \"scatter\"}], \"scatter3d\": [{\"line\": {\"colorbar\": {\"outlinewidth\": 0, \"ticks\": \"\"}}, \"marker\": {\"colorbar\": {\"outlinewidth\": 0, \"ticks\": \"\"}}, \"type\": \"scatter3d\"}], \"scattercarpet\": [{\"marker\": {\"colorbar\": {\"outlinewidth\": 0, \"ticks\": \"\"}}, \"type\": \"scattercarpet\"}], \"scattergeo\": [{\"marker\": {\"colorbar\": {\"outlinewidth\": 0, \"ticks\": \"\"}}, \"type\": \"scattergeo\"}], \"scattergl\": [{\"marker\": {\"colorbar\": {\"outlinewidth\": 0, \"ticks\": \"\"}}, \"type\": \"scattergl\"}], \"scattermapbox\": [{\"marker\": {\"colorbar\": {\"outlinewidth\": 0, \"ticks\": \"\"}}, \"type\": \"scattermapbox\"}], \"scatterpolar\": [{\"marker\": {\"colorbar\": {\"outlinewidth\": 0, \"ticks\": \"\"}}, \"type\": \"scatterpolar\"}], \"scatterpolargl\": [{\"marker\": {\"colorbar\": {\"outlinewidth\": 0, \"ticks\": \"\"}}, \"type\": \"scatterpolargl\"}], \"scatterternary\": [{\"marker\": {\"colorbar\": {\"outlinewidth\": 0, \"ticks\": \"\"}}, \"type\": \"scatterternary\"}], \"surface\": [{\"colorbar\": {\"outlinewidth\": 0, \"ticks\": \"\"}, \"colorscale\": [[0.0, \"#0d0887\"], [0.1111111111111111, \"#46039f\"], [0.2222222222222222, \"#7201a8\"], [0.3333333333333333, \"#9c179e\"], [0.4444444444444444, \"#bd3786\"], [0.5555555555555556, \"#d8576b\"], [0.6666666666666666, \"#ed7953\"], [0.7777777777777778, \"#fb9f3a\"], [0.8888888888888888, \"#fdca26\"], [1.0, \"#f0f921\"]], \"type\": \"surface\"}], \"table\": [{\"cells\": {\"fill\": {\"color\": \"#EBF0F8\"}, \"line\": {\"color\": \"white\"}}, \"header\": {\"fill\": {\"color\": \"#C8D4E3\"}, \"line\": {\"color\": \"white\"}}, \"type\": \"table\"}]}, \"layout\": {\"annotationdefaults\": {\"arrowcolor\": \"#2a3f5f\", \"arrowhead\": 0, \"arrowwidth\": 1}, \"coloraxis\": {\"colorbar\": {\"outlinewidth\": 0, \"ticks\": \"\"}}, \"colorscale\": {\"diverging\": [[0, \"#8e0152\"], [0.1, \"#c51b7d\"], [0.2, \"#de77ae\"], [0.3, \"#f1b6da\"], [0.4, \"#fde0ef\"], [0.5, \"#f7f7f7\"], [0.6, \"#e6f5d0\"], [0.7, \"#b8e186\"], [0.8, \"#7fbc41\"], [0.9, \"#4d9221\"], [1, \"#276419\"]], \"sequential\": [[0.0, \"#0d0887\"], [0.1111111111111111, \"#46039f\"], [0.2222222222222222, \"#7201a8\"], [0.3333333333333333, \"#9c179e\"], [0.4444444444444444, \"#bd3786\"], [0.5555555555555556, \"#d8576b\"], [0.6666666666666666, \"#ed7953\"], [0.7777777777777778, \"#fb9f3a\"], [0.8888888888888888, \"#fdca26\"], [1.0, \"#f0f921\"]], \"sequentialminus\": [[0.0, \"#0d0887\"], [0.1111111111111111, \"#46039f\"], [0.2222222222222222, \"#7201a8\"], [0.3333333333333333, \"#9c179e\"], [0.4444444444444444, \"#bd3786\"], [0.5555555555555556, \"#d8576b\"], [0.6666666666666666, \"#ed7953\"], [0.7777777777777778, \"#fb9f3a\"], [0.8888888888888888, \"#fdca26\"], [1.0, \"#f0f921\"]]}, \"colorway\": [\"#636efa\", \"#EF553B\", \"#00cc96\", \"#ab63fa\", \"#FFA15A\", \"#19d3f3\", \"#FF6692\", \"#B6E880\", \"#FF97FF\", \"#FECB52\"], \"font\": {\"color\": \"#2a3f5f\"}, \"geo\": {\"bgcolor\": \"white\", \"lakecolor\": \"white\", \"landcolor\": \"#E5ECF6\", \"showlakes\": true, \"showland\": true, \"subunitcolor\": \"white\"}, \"hoverlabel\": {\"align\": \"left\"}, \"hovermode\": \"closest\", \"mapbox\": {\"style\": \"light\"}, \"paper_bgcolor\": \"white\", \"plot_bgcolor\": \"#E5ECF6\", \"polar\": {\"angularaxis\": {\"gridcolor\": \"white\", \"linecolor\": \"white\", \"ticks\": \"\"}, \"bgcolor\": \"#E5ECF6\", \"radialaxis\": {\"gridcolor\": \"white\", \"linecolor\": \"white\", \"ticks\": \"\"}}, \"scene\": {\"xaxis\": {\"backgroundcolor\": \"#E5ECF6\", \"gridcolor\": \"white\", \"gridwidth\": 2, \"linecolor\": \"white\", \"showbackground\": true, \"ticks\": \"\", \"zerolinecolor\": \"white\"}, \"yaxis\": {\"backgroundcolor\": \"#E5ECF6\", \"gridcolor\": \"white\", \"gridwidth\": 2, \"linecolor\": \"white\", \"showbackground\": true, \"ticks\": \"\", \"zerolinecolor\": \"white\"}, \"zaxis\": {\"backgroundcolor\": \"#E5ECF6\", \"gridcolor\": \"white\", \"gridwidth\": 2, \"linecolor\": \"white\", \"showbackground\": true, \"ticks\": \"\", \"zerolinecolor\": \"white\"}}, \"shapedefaults\": {\"line\": {\"color\": \"#2a3f5f\"}}, \"ternary\": {\"aaxis\": {\"gridcolor\": \"white\", \"linecolor\": \"white\", \"ticks\": \"\"}, \"baxis\": {\"gridcolor\": \"white\", \"linecolor\": \"white\", \"ticks\": \"\"}, \"bgcolor\": \"#E5ECF6\", \"caxis\": {\"gridcolor\": \"white\", \"linecolor\": \"white\", \"ticks\": \"\"}}, \"title\": {\"x\": 0.05}, \"xaxis\": {\"automargin\": true, \"gridcolor\": \"white\", \"linecolor\": \"white\", \"ticks\": \"\", \"title\": {\"standoff\": 15}, \"zerolinecolor\": \"white\", \"zerolinewidth\": 2}, \"yaxis\": {\"automargin\": true, \"gridcolor\": \"white\", \"linecolor\": \"white\", \"ticks\": \"\", \"title\": {\"standoff\": 15}, \"zerolinecolor\": \"white\", \"zerolinewidth\": 2}}}, \"title\": {\"text\": \"Visitor Profile Plots\"}, \"width\": 900, \"xaxis\": {\"anchor\": \"y\", \"domain\": [0.0, 0.2333333333333333]}, \"xaxis2\": {\"anchor\": \"y2\", \"domain\": [0.3833333333333333, 0.6166666666666666]}, \"xaxis3\": {\"anchor\": \"y3\", \"domain\": [0.7666666666666666, 0.9999999999999999]}, \"xaxis4\": {\"anchor\": \"y4\", \"domain\": [0.0, 0.2333333333333333]}, \"xaxis5\": {\"anchor\": \"y5\", \"domain\": [0.3833333333333333, 0.6166666666666666]}, \"xaxis6\": {\"anchor\": \"y6\", \"domain\": [0.7666666666666666, 0.9999999999999999]}, \"yaxis\": {\"anchor\": \"x\", \"domain\": [0.54, 1.0]}, \"yaxis2\": {\"anchor\": \"x2\", \"domain\": [0.54, 1.0]}, \"yaxis3\": {\"anchor\": \"x3\", \"domain\": [0.54, 1.0]}, \"yaxis4\": {\"anchor\": \"x4\", \"domain\": [0.0, 0.46]}, \"yaxis5\": {\"anchor\": \"x5\", \"domain\": [0.0, 0.46]}, \"yaxis6\": {\"anchor\": \"x6\", \"domain\": [0.0, 0.46]}},                        {\"responsive\": true}                    ).then(function(){\n",
       "                            \n",
       "var gd = document.getElementById('cc3c2c14-2955-4804-bc53-6797a1af70fa');\n",
       "var x = new MutationObserver(function (mutations, observer) {{\n",
       "        var display = window.getComputedStyle(gd).display;\n",
       "        if (!display || display === 'none') {{\n",
       "            console.log([gd, 'removed!']);\n",
       "            Plotly.purge(gd);\n",
       "            observer.disconnect();\n",
       "        }}\n",
       "}});\n",
       "\n",
       "// Listen for the removal of the full notebook cells\n",
       "var notebookContainer = gd.closest('#notebook-container');\n",
       "if (notebookContainer) {{\n",
       "    x.observe(notebookContainer, {childList: true});\n",
       "}}\n",
       "\n",
       "// Listen for the clearing of the current output cell\n",
       "var outputEl = gd.closest('.output');\n",
       "if (outputEl) {{\n",
       "    x.observe(outputEl, {childList: true});\n",
       "}}\n",
       "\n",
       "                        })                };                });            </script>        </div>"
      ]
     },
     "metadata": {},
     "output_type": "display_data"
    }
   ],
   "source": [
    "cnt_srs = train_df.groupby('totals.pageviews')['totals.transactionRevenue'].agg(['size', 'count', 'mean'])\n",
    "cnt_srs.columns = [\"count\", \"count of non-zero revenue\", \"mean\"]\n",
    "cnt_srs = cnt_srs.sort_values(by=\"count\", ascending=False)\n",
    "trace1 = horizontal_bar_chart(cnt_srs[\"count\"].head(60), 'cyan')\n",
    "trace2 = horizontal_bar_chart(cnt_srs[\"count of non-zero revenue\"].head(60), 'cyan')\n",
    "trace5 = horizontal_bar_chart(cnt_srs[\"mean\"].head(60), 'cyan')\n",
    "\n",
    "# Hits\n",
    "cnt_srs = train_df.groupby('totals.hits')['totals.transactionRevenue'].agg(['size', 'count', 'mean'])\n",
    "cnt_srs.columns = [\"count\", \"count of non-zero revenue\", 'mean']\n",
    "cnt_srs = cnt_srs.sort_values(by=\"count\", ascending=False)\n",
    "trace3 = horizontal_bar_chart(cnt_srs[\"count\"].head(60), 'black')\n",
    "trace4 = horizontal_bar_chart(cnt_srs[\"count of non-zero revenue\"].head(60), 'black')\n",
    "trace6 = horizontal_bar_chart(cnt_srs[\"mean\"].head(60), 'black')\n",
    "\n",
    "# Creating two subplots\n",
    "fig = tools.make_subplots(rows=2, cols=3, vertical_spacing=0.08, horizontal_spacing=0.15, \n",
    "                          subplot_titles=[\"Total Pageviews - Count\", \"Total Pageviews - Non-zero Revenue Count\", \"Total Pageviews - Mean Revenue\",\n",
    "                                          \"Total Hits - Count\",  \"Total Hits - Non-zero Revenue Count\", \"Total Hits - Mean Revenue\"])\n",
    "\n",
    "fig.append_trace(trace1, 1, 1)\n",
    "fig.append_trace(trace2, 1, 2)\n",
    "fig.append_trace(trace5, 1, 3)\n",
    "fig.append_trace(trace3, 2, 1)\n",
    "fig.append_trace(trace4, 2, 2)\n",
    "fig.append_trace(trace6, 2, 3)\n",
    "\n",
    "fig['layout'].update(height=1200, width=900, paper_bgcolor='rgb(233,233,233)', title=\"Visitor Profile Plots\")\n",
    "py.iplot(fig, filename='visitor-profile-plots')"
   ]
  },
  {
   "cell_type": "markdown",
   "metadata": {},
   "source": [
    "We notice that there is a small correlation between the Revenue and the number of total views and hits. For example, a small increase in the number views leads to a an increase  in the revenue however a very large increase in the pageviews leads to a sharp decrease in the total revenu. the same goes for the total hits."
   ]
  },
  {
   "cell_type": "code",
   "execution_count": 17,
   "metadata": {},
   "outputs": [
    {
     "name": "stdout",
     "output_type": "stream",
     "text": [
      "Variables not in test but in train :  {'trafficSource.campaignCode', 'totals.transactionRevenue'}\n"
     ]
    }
   ],
   "source": [
    "print(\"Variables not in test but in train : \", set(train_df.columns).difference(set(test_df.columns)))"
   ]
  },
  {
   "cell_type": "markdown",
   "metadata": {},
   "source": [
    "We can see that there is a missing feature in the test set so we are going to delete it and the sessionId column since it is unique so it will not have any effect on the model."
   ]
  },
  {
   "cell_type": "code",
   "execution_count": 18,
   "metadata": {},
   "outputs": [],
   "source": [
    "train_df = train_df.drop( ['sessionId','trafficSource.campaignCode'], axis=1)\n",
    "test_df = test_df.drop( ['sessionId'], axis=1)"
   ]
  },
  {
   "cell_type": "markdown",
   "metadata": {},
   "source": [
    "Next step is to label encode categorical columns and imputing missing values"
   ]
  },
  {
   "cell_type": "code",
   "execution_count": 19,
   "metadata": {},
   "outputs": [],
   "source": [
    "#auxiliary step to determine categorical columns\n",
    "cat_cols=[]\n",
    "for i in range(len(train_df.dtypes)):\n",
    "    if  train_df.dtypes[i]==np.dtype('O'):\n",
    "        cat_cols.append(train_df.columns[i])"
   ]
  },
  {
   "cell_type": "code",
   "execution_count": 20,
   "metadata": {},
   "outputs": [
    {
     "name": "stdout",
     "output_type": "stream",
     "text": [
      "channelGrouping\n",
      "device.browser\n",
      "device.deviceCategory\n",
      "device.operatingSystem\n",
      "geoNetwork.city\n",
      "geoNetwork.continent\n",
      "geoNetwork.country\n",
      "geoNetwork.metro\n",
      "geoNetwork.networkDomain\n",
      "geoNetwork.region\n",
      "geoNetwork.subContinent\n",
      "trafficSource.adContent\n",
      "trafficSource.adwordsClickInfo.adNetworkType\n",
      "trafficSource.adwordsClickInfo.gclId\n",
      "trafficSource.adwordsClickInfo.page\n",
      "trafficSource.adwordsClickInfo.slot\n",
      "trafficSource.campaign\n",
      "trafficSource.keyword\n",
      "trafficSource.medium\n",
      "trafficSource.referralPath\n",
      "trafficSource.source\n",
      "trafficSource.adwordsClickInfo.isVideoAd\n",
      "trafficSource.isTrueDirect\n"
     ]
    }
   ],
   "source": [
    "# Impute 0 for missing target values\n",
    "train_df[\"totals.transactionRevenue\"].fillna(0, inplace=True)\n",
    "train_y = train_df[\"totals.transactionRevenue\"].values\n",
    "train_id = train_df[\"fullVisitorId\"].values\n",
    "test_id = test_df[\"fullVisitorId\"].values\n",
    "\n",
    "\n",
    "# label encode the categorical variables and convert the numerical variables to float\n",
    "#we remove the date\n",
    "cat_cols = [\"channelGrouping\", \"device.browser\", \n",
    "            \"device.deviceCategory\", \"device.operatingSystem\", \n",
    "            \"geoNetwork.city\", \"geoNetwork.continent\", \n",
    "            \"geoNetwork.country\", \"geoNetwork.metro\",\n",
    "            \"geoNetwork.networkDomain\", \"geoNetwork.region\", \n",
    "            \"geoNetwork.subContinent\", \"trafficSource.adContent\", \n",
    "            \"trafficSource.adwordsClickInfo.adNetworkType\", \n",
    "            \"trafficSource.adwordsClickInfo.gclId\", \n",
    "            \"trafficSource.adwordsClickInfo.page\", \n",
    "            \"trafficSource.adwordsClickInfo.slot\", \"trafficSource.campaign\",\n",
    "            \"trafficSource.keyword\", \"trafficSource.medium\", \n",
    "            \"trafficSource.referralPath\", \"trafficSource.source\",\n",
    "            'trafficSource.adwordsClickInfo.isVideoAd', 'trafficSource.isTrueDirect']\n",
    "for col in cat_cols:\n",
    "    print(col)\n",
    "    lbl = preprocessing.LabelEncoder()\n",
    "    lbl.fit(list(train_df[col].values.astype('str')) + list(test_df[col].values.astype('str')))\n",
    "    train_df[col] = lbl.transform(list(train_df[col].values.astype('str')))\n",
    "    test_df[col] = lbl.transform(list(test_df[col].values.astype('str')))\n",
    "\n",
    "\n",
    "num_cols = [\"totals.hits\", \"totals.pageviews\", \"visitNumber\", \"visitStartTime\", 'totals.bounces',  'totals.newVisits']    \n",
    "for col in num_cols:\n",
    "    train_df[col] = train_df[col].astype(float)\n",
    "    test_df[col] = test_df[col].astype(float)\n",
    "\n",
    "# Split the train dataset into development and valid based on time \n",
    "dev_df = train_df[train_df['date']<=datetime.date(2017,5,31)]\n",
    "val_df = train_df[train_df['date']>datetime.date(2017,5,31)]\n",
    "dev_y = np.log1p(dev_df[\"totals.transactionRevenue\"].values)\n",
    "val_y = np.log1p(val_df[\"totals.transactionRevenue\"].values)\n",
    "\n",
    "dev_X = dev_df[cat_cols + num_cols] \n",
    "val_X = val_df[cat_cols + num_cols] \n",
    "test_X = test_df[cat_cols + num_cols] "
   ]
  },
  {
   "cell_type": "markdown",
   "metadata": {},
   "source": [
    "Now, let's design our baseline model."
   ]
  },
  {
   "cell_type": "code",
   "execution_count": 21,
   "metadata": {},
   "outputs": [
    {
     "name": "stdout",
     "output_type": "stream",
     "text": [
      "[LightGBM] [Warning] Unknown parameter: bagging_frequency\n",
      "Training until validation scores don't improve for 100 rounds\n",
      "[100]\tvalid_0's rmse: 1.69465\n",
      "[200]\tvalid_0's rmse: 1.69291\n",
      "Early stopping, best iteration is:\n",
      "[179]\tvalid_0's rmse: 1.69248\n"
     ]
    }
   ],
   "source": [
    "def run_lgb(train_X, train_y, val_X, val_y, test_X):\n",
    "    params = {\n",
    "        \"objective\" : \"regression\",\n",
    "        \"metric\" : \"rmse\", \n",
    "        \"num_leaves\" : 30,\n",
    "        \"min_child_samples\" : 100,\n",
    "        \"learning_rate\" : 0.1,\n",
    "        \"bagging_fraction\" : 0.7,\n",
    "        \"feature_fraction\" : 0.5,\n",
    "        \"bagging_frequency\" : 5,\n",
    "        \"bagging_seed\" : 2018,\n",
    "        \"verbosity\" : -1\n",
    "    }\n",
    "    \n",
    "    lgtrain = lgb.Dataset(train_X, label=train_y)\n",
    "    lgval = lgb.Dataset(val_X, label=val_y)\n",
    "    model = lgb.train(params, lgtrain, 1000, valid_sets=[lgval], early_stopping_rounds=100, verbose_eval=100)\n",
    "    \n",
    "    pred_test_y = model.predict(test_X, num_iteration=model.best_iteration)\n",
    "    pred_val_y = model.predict(val_X, num_iteration=model.best_iteration)\n",
    "    return pred_test_y, model, pred_val_y\n",
    "\n",
    "# Training the model #\n",
    "pred_test, model, pred_val = run_lgb(dev_X, dev_y, val_X, val_y, test_X)"
   ]
  },
  {
   "cell_type": "code",
   "execution_count": 22,
   "metadata": {},
   "outputs": [
    {
     "name": "stdout",
     "output_type": "stream",
     "text": [
      "1.7134148561586342\n"
     ]
    },
    {
     "name": "stderr",
     "output_type": "stream",
     "text": [
      "<ipython-input-22-2a729c880d81>:7: FutureWarning:\n",
      "\n",
      "Indexing with multiple keys (implicitly converted to a tuple of keys) will be deprecated, use a list instead.\n",
      "\n"
     ]
    }
   ],
   "source": [
    "from sklearn import metrics\n",
    "pred_val[pred_val<0] = 0\n",
    "val_pred_df = pd.DataFrame({\"fullVisitorId\":val_df[\"fullVisitorId\"].values})\n",
    "val_pred_df[\"transactionRevenue\"] = val_df[\"totals.transactionRevenue\"].values\n",
    "val_pred_df[\"PredictedRevenue\"] = np.expm1(pred_val)\n",
    "#print(np.sqrt(metrics.mean_squared_error(np.log1p(val_pred_df[\"transactionRevenue\"].values), np.log1p(val_pred_df[\"PredictedRevenue\"].values))))\n",
    "val_pred_df = val_pred_df.groupby(\"fullVisitorId\")[\"transactionRevenue\", \"PredictedRevenue\"].sum().reset_index()\n",
    "print(np.sqrt(metrics.mean_squared_error(np.log1p(val_pred_df[\"transactionRevenue\"].values), np.log1p(val_pred_df[\"PredictedRevenue\"].values))))"
   ]
  },
  {
   "cell_type": "code",
   "execution_count": 23,
   "metadata": {},
   "outputs": [],
   "source": [
    "sub_df = pd.DataFrame({\"fullVisitorId\":test_id})\n",
    "pred_test[pred_test<0] = 0\n",
    "sub_df[\"PredictedLogRevenue\"] = np.expm1(pred_test)\n",
    "sub_df = sub_df.groupby(\"fullVisitorId\")[\"PredictedLogRevenue\"].sum().reset_index()\n",
    "sub_df.columns = [\"fullVisitorId\", \"PredictedLogRevenue\"]\n",
    "sub_df[\"PredictedLogRevenue\"] = np.log1p(sub_df[\"PredictedLogRevenue\"])\n",
    "sub_df.to_csv(\"baseline_lgb.csv\", index=False)"
   ]
  },
  {
   "cell_type": "code",
   "execution_count": 24,
   "metadata": {},
   "outputs": [
    {
     "data": {
      "image/png": "[encoded data removed]",
      "text/plain": [
       "<Figure size 864x1296 with 1 Axes>"
      ]
     },
     "metadata": {
      "needs_background": "light"
     },
     "output_type": "display_data"
    }
   ],
   "source": [
    "fig, ax = plt.subplots(figsize=(12,18))\n",
    "lgb.plot_importance(model, max_num_features=50, height=0.8, ax=ax)\n",
    "ax.grid(False)\n",
    "plt.title(\"LightGBM - Feature Importance\", fontsize=15)\n",
    "plt.show()\n"
   ]
  },
  {
   "cell_type": "code",
   "execution_count": null,
   "metadata": {},
   "outputs": [],
   "source": []
  }
 ],
 "metadata": {
  "kernelspec": {
   "display_name": "Python 3",
   "language": "python",
   "name": "python3"
  },
  "language_info": {
   "codemirror_mode": {
    "name": "ipython",
    "version": 3
   },
   "file_extension": ".py",
   "mimetype": "text/x-python",
   "name": "python",
   "nbconvert_exporter": "python",
   "pygments_lexer": "ipython3",
   "version": "3.8.3"
  }
 },
 "nbformat": 4,
 "nbformat_minor": 4
}
